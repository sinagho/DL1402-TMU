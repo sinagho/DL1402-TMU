{
  "cells": [
    {
      "cell_type": "markdown",
      "source": [
        "https://www.kaggle.com/code/alifarahmandfar/mobile-price-prediction-classification-models#6.-Model-Building"
      ],
      "metadata": {
        "id": "RcTUficeIaqN"
      }
    },
    {
      "cell_type": "code",
      "execution_count": 1,
      "metadata": {
        "colab": {
          "base_uri": "https://localhost:8080/"
        },
        "id": "cIVIoClkVfMz",
        "outputId": "0ffdd1bd-0ac3-467e-8529-84c38fd4f5f1"
      },
      "outputs": [
        {
          "output_type": "stream",
          "name": "stdout",
          "text": [
            "/bin/bash: line 1: nvidia-smi: command not found\n"
          ]
        }
      ],
      "source": [
        "!nvidia-smi"
      ]
    },
    {
      "cell_type": "code",
      "source": [
        "!pip install torchmetrics"
      ],
      "metadata": {
        "id": "SaqAVFRaDC4N",
        "outputId": "aa1ccade-db72-4346-89ad-751d63f5363c",
        "colab": {
          "base_uri": "https://localhost:8080/"
        }
      },
      "execution_count": 2,
      "outputs": [
        {
          "output_type": "stream",
          "name": "stdout",
          "text": [
            "Collecting torchmetrics\n",
            "  Downloading torchmetrics-1.2.0-py3-none-any.whl (805 kB)\n",
            "\u001b[?25l     \u001b[90m━━━━━━━━━━━━━━━━━━━━━━━━━━━━━━━━━━━━━━━━\u001b[0m \u001b[32m0.0/805.2 kB\u001b[0m \u001b[31m?\u001b[0m eta \u001b[36m-:--:--\u001b[0m\r\u001b[2K     \u001b[91m━━━━━━━\u001b[0m\u001b[90m╺\u001b[0m\u001b[90m━━━━━━━━━━━━━━━━━━━━━━━━━━━━━━━━\u001b[0m \u001b[32m143.4/805.2 kB\u001b[0m \u001b[31m4.3 MB/s\u001b[0m eta \u001b[36m0:00:01\u001b[0m\r\u001b[2K     \u001b[90m━━━━━━━━━━━━━━━━━━━━━━━━━━━━━━━━━━━━━━━━\u001b[0m \u001b[32m805.2/805.2 kB\u001b[0m \u001b[31m11.7 MB/s\u001b[0m eta \u001b[36m0:00:00\u001b[0m\n",
            "\u001b[?25hRequirement already satisfied: numpy>1.20.0 in /usr/local/lib/python3.10/dist-packages (from torchmetrics) (1.23.5)\n",
            "Requirement already satisfied: torch>=1.8.1 in /usr/local/lib/python3.10/dist-packages (from torchmetrics) (2.1.0+cu118)\n",
            "Collecting lightning-utilities>=0.8.0 (from torchmetrics)\n",
            "  Downloading lightning_utilities-0.9.0-py3-none-any.whl (23 kB)\n",
            "Requirement already satisfied: packaging>=17.1 in /usr/local/lib/python3.10/dist-packages (from lightning-utilities>=0.8.0->torchmetrics) (23.2)\n",
            "Requirement already satisfied: typing-extensions in /usr/local/lib/python3.10/dist-packages (from lightning-utilities>=0.8.0->torchmetrics) (4.5.0)\n",
            "Requirement already satisfied: filelock in /usr/local/lib/python3.10/dist-packages (from torch>=1.8.1->torchmetrics) (3.13.1)\n",
            "Requirement already satisfied: sympy in /usr/local/lib/python3.10/dist-packages (from torch>=1.8.1->torchmetrics) (1.12)\n",
            "Requirement already satisfied: networkx in /usr/local/lib/python3.10/dist-packages (from torch>=1.8.1->torchmetrics) (3.2.1)\n",
            "Requirement already satisfied: jinja2 in /usr/local/lib/python3.10/dist-packages (from torch>=1.8.1->torchmetrics) (3.1.2)\n",
            "Requirement already satisfied: fsspec in /usr/local/lib/python3.10/dist-packages (from torch>=1.8.1->torchmetrics) (2023.6.0)\n",
            "Requirement already satisfied: triton==2.1.0 in /usr/local/lib/python3.10/dist-packages (from torch>=1.8.1->torchmetrics) (2.1.0)\n",
            "Requirement already satisfied: MarkupSafe>=2.0 in /usr/local/lib/python3.10/dist-packages (from jinja2->torch>=1.8.1->torchmetrics) (2.1.3)\n",
            "Requirement already satisfied: mpmath>=0.19 in /usr/local/lib/python3.10/dist-packages (from sympy->torch>=1.8.1->torchmetrics) (1.3.0)\n",
            "Installing collected packages: lightning-utilities, torchmetrics\n",
            "Successfully installed lightning-utilities-0.9.0 torchmetrics-1.2.0\n"
          ]
        }
      ]
    },
    {
      "cell_type": "markdown",
      "metadata": {
        "id": "fQFlVvECeZsD"
      },
      "source": [
        "# Imports"
      ]
    },
    {
      "cell_type": "code",
      "execution_count": 3,
      "metadata": {
        "id": "Jnc2LOc9eRjD"
      },
      "outputs": [],
      "source": [
        "import torch\n",
        "import torch.nn as nn\n",
        "import torch.optim as optim\n",
        "from torch.utils.data import TensorDataset, DataLoader\n",
        "\n",
        "from torchmetrics import Accuracy\n",
        "import pandas as pd\n",
        "import matplotlib.pyplot as plt\n",
        "from sklearn.model_selection import train_test_split"
      ]
    },
    {
      "cell_type": "markdown",
      "metadata": {
        "id": "OsNaqujTeiGx"
      },
      "source": [
        "# Dataset"
      ]
    },
    {
      "cell_type": "code",
      "execution_count": 4,
      "metadata": {
        "colab": {
          "base_uri": "https://localhost:8080/"
        },
        "id": "0t7J_HNZsySL",
        "outputId": "f09a5b05-c4f4-46a1-e2a0-b55dac8110f7"
      },
      "outputs": [
        {
          "output_type": "stream",
          "name": "stdout",
          "text": [
            "Mounted at /content/drive\n"
          ]
        }
      ],
      "source": [
        "from google.colab import drive\n",
        "drive.mount('/content/drive')"
      ]
    },
    {
      "cell_type": "code",
      "execution_count": 5,
      "metadata": {
        "id": "kb2vsZK8uYOv"
      },
      "outputs": [],
      "source": [
        "!cp /content/drive/MyDrive/DeepLearning02/session1classification/mobile_price.zip /content"
      ]
    },
    {
      "cell_type": "code",
      "execution_count": 6,
      "metadata": {
        "colab": {
          "base_uri": "https://localhost:8080/"
        },
        "id": "rhv0ZRi_ec_K",
        "outputId": "b56e20de-6f81-47b0-8512-18b7b4ec3f53"
      },
      "outputs": [
        {
          "output_type": "stream",
          "name": "stdout",
          "text": [
            "Archive:  /content/mobile_price.zip\n",
            "  inflating: test.csv                \n",
            "  inflating: train.csv               \n"
          ]
        }
      ],
      "source": [
        "!unzip /content/mobile_price.zip"
      ]
    },
    {
      "cell_type": "code",
      "execution_count": 7,
      "metadata": {
        "id": "enNHsQduetmd",
        "colab": {
          "base_uri": "https://localhost:8080/",
          "height": 255
        },
        "outputId": "2a9c0842-20b5-4867-ff9e-e75245d5b570"
      },
      "outputs": [
        {
          "output_type": "execute_result",
          "data": {
            "text/plain": [
              "   battery_power  blue  clock_speed  dual_sim  fc  four_g  int_memory  m_dep  \\\n",
              "0            842     0          2.2         0   1       0           7    0.6   \n",
              "1           1021     1          0.5         1   0       1          53    0.7   \n",
              "2            563     1          0.5         1   2       1          41    0.9   \n",
              "3            615     1          2.5         0   0       0          10    0.8   \n",
              "4           1821     1          1.2         0  13       1          44    0.6   \n",
              "\n",
              "   mobile_wt  n_cores  ...  px_height  px_width   ram  sc_h  sc_w  talk_time  \\\n",
              "0        188        2  ...         20       756  2549     9     7         19   \n",
              "1        136        3  ...        905      1988  2631    17     3          7   \n",
              "2        145        5  ...       1263      1716  2603    11     2          9   \n",
              "3        131        6  ...       1216      1786  2769    16     8         11   \n",
              "4        141        2  ...       1208      1212  1411     8     2         15   \n",
              "\n",
              "   three_g  touch_screen  wifi  price_range  \n",
              "0        0             0     1            1  \n",
              "1        1             1     0            2  \n",
              "2        1             1     0            2  \n",
              "3        1             0     0            2  \n",
              "4        1             1     0            1  \n",
              "\n",
              "[5 rows x 21 columns]"
            ],
            "text/html": [
              "\n",
              "  <div id=\"df-29770888-de1c-49f2-8102-c978dcb9bbd2\" class=\"colab-df-container\">\n",
              "    <div>\n",
              "<style scoped>\n",
              "    .dataframe tbody tr th:only-of-type {\n",
              "        vertical-align: middle;\n",
              "    }\n",
              "\n",
              "    .dataframe tbody tr th {\n",
              "        vertical-align: top;\n",
              "    }\n",
              "\n",
              "    .dataframe thead th {\n",
              "        text-align: right;\n",
              "    }\n",
              "</style>\n",
              "<table border=\"1\" class=\"dataframe\">\n",
              "  <thead>\n",
              "    <tr style=\"text-align: right;\">\n",
              "      <th></th>\n",
              "      <th>battery_power</th>\n",
              "      <th>blue</th>\n",
              "      <th>clock_speed</th>\n",
              "      <th>dual_sim</th>\n",
              "      <th>fc</th>\n",
              "      <th>four_g</th>\n",
              "      <th>int_memory</th>\n",
              "      <th>m_dep</th>\n",
              "      <th>mobile_wt</th>\n",
              "      <th>n_cores</th>\n",
              "      <th>...</th>\n",
              "      <th>px_height</th>\n",
              "      <th>px_width</th>\n",
              "      <th>ram</th>\n",
              "      <th>sc_h</th>\n",
              "      <th>sc_w</th>\n",
              "      <th>talk_time</th>\n",
              "      <th>three_g</th>\n",
              "      <th>touch_screen</th>\n",
              "      <th>wifi</th>\n",
              "      <th>price_range</th>\n",
              "    </tr>\n",
              "  </thead>\n",
              "  <tbody>\n",
              "    <tr>\n",
              "      <th>0</th>\n",
              "      <td>842</td>\n",
              "      <td>0</td>\n",
              "      <td>2.2</td>\n",
              "      <td>0</td>\n",
              "      <td>1</td>\n",
              "      <td>0</td>\n",
              "      <td>7</td>\n",
              "      <td>0.6</td>\n",
              "      <td>188</td>\n",
              "      <td>2</td>\n",
              "      <td>...</td>\n",
              "      <td>20</td>\n",
              "      <td>756</td>\n",
              "      <td>2549</td>\n",
              "      <td>9</td>\n",
              "      <td>7</td>\n",
              "      <td>19</td>\n",
              "      <td>0</td>\n",
              "      <td>0</td>\n",
              "      <td>1</td>\n",
              "      <td>1</td>\n",
              "    </tr>\n",
              "    <tr>\n",
              "      <th>1</th>\n",
              "      <td>1021</td>\n",
              "      <td>1</td>\n",
              "      <td>0.5</td>\n",
              "      <td>1</td>\n",
              "      <td>0</td>\n",
              "      <td>1</td>\n",
              "      <td>53</td>\n",
              "      <td>0.7</td>\n",
              "      <td>136</td>\n",
              "      <td>3</td>\n",
              "      <td>...</td>\n",
              "      <td>905</td>\n",
              "      <td>1988</td>\n",
              "      <td>2631</td>\n",
              "      <td>17</td>\n",
              "      <td>3</td>\n",
              "      <td>7</td>\n",
              "      <td>1</td>\n",
              "      <td>1</td>\n",
              "      <td>0</td>\n",
              "      <td>2</td>\n",
              "    </tr>\n",
              "    <tr>\n",
              "      <th>2</th>\n",
              "      <td>563</td>\n",
              "      <td>1</td>\n",
              "      <td>0.5</td>\n",
              "      <td>1</td>\n",
              "      <td>2</td>\n",
              "      <td>1</td>\n",
              "      <td>41</td>\n",
              "      <td>0.9</td>\n",
              "      <td>145</td>\n",
              "      <td>5</td>\n",
              "      <td>...</td>\n",
              "      <td>1263</td>\n",
              "      <td>1716</td>\n",
              "      <td>2603</td>\n",
              "      <td>11</td>\n",
              "      <td>2</td>\n",
              "      <td>9</td>\n",
              "      <td>1</td>\n",
              "      <td>1</td>\n",
              "      <td>0</td>\n",
              "      <td>2</td>\n",
              "    </tr>\n",
              "    <tr>\n",
              "      <th>3</th>\n",
              "      <td>615</td>\n",
              "      <td>1</td>\n",
              "      <td>2.5</td>\n",
              "      <td>0</td>\n",
              "      <td>0</td>\n",
              "      <td>0</td>\n",
              "      <td>10</td>\n",
              "      <td>0.8</td>\n",
              "      <td>131</td>\n",
              "      <td>6</td>\n",
              "      <td>...</td>\n",
              "      <td>1216</td>\n",
              "      <td>1786</td>\n",
              "      <td>2769</td>\n",
              "      <td>16</td>\n",
              "      <td>8</td>\n",
              "      <td>11</td>\n",
              "      <td>1</td>\n",
              "      <td>0</td>\n",
              "      <td>0</td>\n",
              "      <td>2</td>\n",
              "    </tr>\n",
              "    <tr>\n",
              "      <th>4</th>\n",
              "      <td>1821</td>\n",
              "      <td>1</td>\n",
              "      <td>1.2</td>\n",
              "      <td>0</td>\n",
              "      <td>13</td>\n",
              "      <td>1</td>\n",
              "      <td>44</td>\n",
              "      <td>0.6</td>\n",
              "      <td>141</td>\n",
              "      <td>2</td>\n",
              "      <td>...</td>\n",
              "      <td>1208</td>\n",
              "      <td>1212</td>\n",
              "      <td>1411</td>\n",
              "      <td>8</td>\n",
              "      <td>2</td>\n",
              "      <td>15</td>\n",
              "      <td>1</td>\n",
              "      <td>1</td>\n",
              "      <td>0</td>\n",
              "      <td>1</td>\n",
              "    </tr>\n",
              "  </tbody>\n",
              "</table>\n",
              "<p>5 rows × 21 columns</p>\n",
              "</div>\n",
              "    <div class=\"colab-df-buttons\">\n",
              "\n",
              "  <div class=\"colab-df-container\">\n",
              "    <button class=\"colab-df-convert\" onclick=\"convertToInteractive('df-29770888-de1c-49f2-8102-c978dcb9bbd2')\"\n",
              "            title=\"Convert this dataframe to an interactive table.\"\n",
              "            style=\"display:none;\">\n",
              "\n",
              "  <svg xmlns=\"http://www.w3.org/2000/svg\" height=\"24px\" viewBox=\"0 -960 960 960\">\n",
              "    <path d=\"M120-120v-720h720v720H120Zm60-500h600v-160H180v160Zm220 220h160v-160H400v160Zm0 220h160v-160H400v160ZM180-400h160v-160H180v160Zm440 0h160v-160H620v160ZM180-180h160v-160H180v160Zm440 0h160v-160H620v160Z\"/>\n",
              "  </svg>\n",
              "    </button>\n",
              "\n",
              "  <style>\n",
              "    .colab-df-container {\n",
              "      display:flex;\n",
              "      gap: 12px;\n",
              "    }\n",
              "\n",
              "    .colab-df-convert {\n",
              "      background-color: #E8F0FE;\n",
              "      border: none;\n",
              "      border-radius: 50%;\n",
              "      cursor: pointer;\n",
              "      display: none;\n",
              "      fill: #1967D2;\n",
              "      height: 32px;\n",
              "      padding: 0 0 0 0;\n",
              "      width: 32px;\n",
              "    }\n",
              "\n",
              "    .colab-df-convert:hover {\n",
              "      background-color: #E2EBFA;\n",
              "      box-shadow: 0px 1px 2px rgba(60, 64, 67, 0.3), 0px 1px 3px 1px rgba(60, 64, 67, 0.15);\n",
              "      fill: #174EA6;\n",
              "    }\n",
              "\n",
              "    .colab-df-buttons div {\n",
              "      margin-bottom: 4px;\n",
              "    }\n",
              "\n",
              "    [theme=dark] .colab-df-convert {\n",
              "      background-color: #3B4455;\n",
              "      fill: #D2E3FC;\n",
              "    }\n",
              "\n",
              "    [theme=dark] .colab-df-convert:hover {\n",
              "      background-color: #434B5C;\n",
              "      box-shadow: 0px 1px 3px 1px rgba(0, 0, 0, 0.15);\n",
              "      filter: drop-shadow(0px 1px 2px rgba(0, 0, 0, 0.3));\n",
              "      fill: #FFFFFF;\n",
              "    }\n",
              "  </style>\n",
              "\n",
              "    <script>\n",
              "      const buttonEl =\n",
              "        document.querySelector('#df-29770888-de1c-49f2-8102-c978dcb9bbd2 button.colab-df-convert');\n",
              "      buttonEl.style.display =\n",
              "        google.colab.kernel.accessAllowed ? 'block' : 'none';\n",
              "\n",
              "      async function convertToInteractive(key) {\n",
              "        const element = document.querySelector('#df-29770888-de1c-49f2-8102-c978dcb9bbd2');\n",
              "        const dataTable =\n",
              "          await google.colab.kernel.invokeFunction('convertToInteractive',\n",
              "                                                    [key], {});\n",
              "        if (!dataTable) return;\n",
              "\n",
              "        const docLinkHtml = 'Like what you see? Visit the ' +\n",
              "          '<a target=\"_blank\" href=https://colab.research.google.com/notebooks/data_table.ipynb>data table notebook</a>'\n",
              "          + ' to learn more about interactive tables.';\n",
              "        element.innerHTML = '';\n",
              "        dataTable['output_type'] = 'display_data';\n",
              "        await google.colab.output.renderOutput(dataTable, element);\n",
              "        const docLink = document.createElement('div');\n",
              "        docLink.innerHTML = docLinkHtml;\n",
              "        element.appendChild(docLink);\n",
              "      }\n",
              "    </script>\n",
              "  </div>\n",
              "\n",
              "\n",
              "<div id=\"df-f4e8ee68-1da5-4451-b6bd-a3dde8c5fc17\">\n",
              "  <button class=\"colab-df-quickchart\" onclick=\"quickchart('df-f4e8ee68-1da5-4451-b6bd-a3dde8c5fc17')\"\n",
              "            title=\"Suggest charts\"\n",
              "            style=\"display:none;\">\n",
              "\n",
              "<svg xmlns=\"http://www.w3.org/2000/svg\" height=\"24px\"viewBox=\"0 0 24 24\"\n",
              "     width=\"24px\">\n",
              "    <g>\n",
              "        <path d=\"M19 3H5c-1.1 0-2 .9-2 2v14c0 1.1.9 2 2 2h14c1.1 0 2-.9 2-2V5c0-1.1-.9-2-2-2zM9 17H7v-7h2v7zm4 0h-2V7h2v10zm4 0h-2v-4h2v4z\"/>\n",
              "    </g>\n",
              "</svg>\n",
              "  </button>\n",
              "\n",
              "<style>\n",
              "  .colab-df-quickchart {\n",
              "      --bg-color: #E8F0FE;\n",
              "      --fill-color: #1967D2;\n",
              "      --hover-bg-color: #E2EBFA;\n",
              "      --hover-fill-color: #174EA6;\n",
              "      --disabled-fill-color: #AAA;\n",
              "      --disabled-bg-color: #DDD;\n",
              "  }\n",
              "\n",
              "  [theme=dark] .colab-df-quickchart {\n",
              "      --bg-color: #3B4455;\n",
              "      --fill-color: #D2E3FC;\n",
              "      --hover-bg-color: #434B5C;\n",
              "      --hover-fill-color: #FFFFFF;\n",
              "      --disabled-bg-color: #3B4455;\n",
              "      --disabled-fill-color: #666;\n",
              "  }\n",
              "\n",
              "  .colab-df-quickchart {\n",
              "    background-color: var(--bg-color);\n",
              "    border: none;\n",
              "    border-radius: 50%;\n",
              "    cursor: pointer;\n",
              "    display: none;\n",
              "    fill: var(--fill-color);\n",
              "    height: 32px;\n",
              "    padding: 0;\n",
              "    width: 32px;\n",
              "  }\n",
              "\n",
              "  .colab-df-quickchart:hover {\n",
              "    background-color: var(--hover-bg-color);\n",
              "    box-shadow: 0 1px 2px rgba(60, 64, 67, 0.3), 0 1px 3px 1px rgba(60, 64, 67, 0.15);\n",
              "    fill: var(--button-hover-fill-color);\n",
              "  }\n",
              "\n",
              "  .colab-df-quickchart-complete:disabled,\n",
              "  .colab-df-quickchart-complete:disabled:hover {\n",
              "    background-color: var(--disabled-bg-color);\n",
              "    fill: var(--disabled-fill-color);\n",
              "    box-shadow: none;\n",
              "  }\n",
              "\n",
              "  .colab-df-spinner {\n",
              "    border: 2px solid var(--fill-color);\n",
              "    border-color: transparent;\n",
              "    border-bottom-color: var(--fill-color);\n",
              "    animation:\n",
              "      spin 1s steps(1) infinite;\n",
              "  }\n",
              "\n",
              "  @keyframes spin {\n",
              "    0% {\n",
              "      border-color: transparent;\n",
              "      border-bottom-color: var(--fill-color);\n",
              "      border-left-color: var(--fill-color);\n",
              "    }\n",
              "    20% {\n",
              "      border-color: transparent;\n",
              "      border-left-color: var(--fill-color);\n",
              "      border-top-color: var(--fill-color);\n",
              "    }\n",
              "    30% {\n",
              "      border-color: transparent;\n",
              "      border-left-color: var(--fill-color);\n",
              "      border-top-color: var(--fill-color);\n",
              "      border-right-color: var(--fill-color);\n",
              "    }\n",
              "    40% {\n",
              "      border-color: transparent;\n",
              "      border-right-color: var(--fill-color);\n",
              "      border-top-color: var(--fill-color);\n",
              "    }\n",
              "    60% {\n",
              "      border-color: transparent;\n",
              "      border-right-color: var(--fill-color);\n",
              "    }\n",
              "    80% {\n",
              "      border-color: transparent;\n",
              "      border-right-color: var(--fill-color);\n",
              "      border-bottom-color: var(--fill-color);\n",
              "    }\n",
              "    90% {\n",
              "      border-color: transparent;\n",
              "      border-bottom-color: var(--fill-color);\n",
              "    }\n",
              "  }\n",
              "</style>\n",
              "\n",
              "  <script>\n",
              "    async function quickchart(key) {\n",
              "      const quickchartButtonEl =\n",
              "        document.querySelector('#' + key + ' button');\n",
              "      quickchartButtonEl.disabled = true;  // To prevent multiple clicks.\n",
              "      quickchartButtonEl.classList.add('colab-df-spinner');\n",
              "      try {\n",
              "        const charts = await google.colab.kernel.invokeFunction(\n",
              "            'suggestCharts', [key], {});\n",
              "      } catch (error) {\n",
              "        console.error('Error during call to suggestCharts:', error);\n",
              "      }\n",
              "      quickchartButtonEl.classList.remove('colab-df-spinner');\n",
              "      quickchartButtonEl.classList.add('colab-df-quickchart-complete');\n",
              "    }\n",
              "    (() => {\n",
              "      let quickchartButtonEl =\n",
              "        document.querySelector('#df-f4e8ee68-1da5-4451-b6bd-a3dde8c5fc17 button');\n",
              "      quickchartButtonEl.style.display =\n",
              "        google.colab.kernel.accessAllowed ? 'block' : 'none';\n",
              "    })();\n",
              "  </script>\n",
              "</div>\n",
              "    </div>\n",
              "  </div>\n"
            ]
          },
          "metadata": {},
          "execution_count": 7
        }
      ],
      "source": [
        "df = pd.read_csv('/content/train.csv')\n",
        "df.head()"
      ]
    },
    {
      "cell_type": "code",
      "execution_count": 8,
      "metadata": {
        "id": "bJduGtSOezX0",
        "colab": {
          "base_uri": "https://localhost:8080/",
          "height": 226
        },
        "outputId": "13811704-9d8b-47c0-bc70-1e653c10f064"
      },
      "outputs": [
        {
          "output_type": "execute_result",
          "data": {
            "text/plain": [
              "   battery_power  blue  clock_speed  dual_sim  fc  four_g  int_memory  m_dep  \\\n",
              "0            842     0          2.2         0   1       0           7    0.6   \n",
              "1           1021     1          0.5         1   0       1          53    0.7   \n",
              "2            563     1          0.5         1   2       1          41    0.9   \n",
              "3            615     1          2.5         0   0       0          10    0.8   \n",
              "4           1821     1          1.2         0  13       1          44    0.6   \n",
              "\n",
              "   mobile_wt  n_cores  pc  px_height  px_width   ram  sc_h  sc_w  talk_time  \\\n",
              "0        188        2   2         20       756  2549     9     7         19   \n",
              "1        136        3   6        905      1988  2631    17     3          7   \n",
              "2        145        5   6       1263      1716  2603    11     2          9   \n",
              "3        131        6   9       1216      1786  2769    16     8         11   \n",
              "4        141        2  14       1208      1212  1411     8     2         15   \n",
              "\n",
              "   three_g  touch_screen  wifi  \n",
              "0        0             0     1  \n",
              "1        1             1     0  \n",
              "2        1             1     0  \n",
              "3        1             0     0  \n",
              "4        1             1     0  "
            ],
            "text/html": [
              "\n",
              "  <div id=\"df-12e038b4-c6f0-4b8c-9a10-c47a7db86700\" class=\"colab-df-container\">\n",
              "    <div>\n",
              "<style scoped>\n",
              "    .dataframe tbody tr th:only-of-type {\n",
              "        vertical-align: middle;\n",
              "    }\n",
              "\n",
              "    .dataframe tbody tr th {\n",
              "        vertical-align: top;\n",
              "    }\n",
              "\n",
              "    .dataframe thead th {\n",
              "        text-align: right;\n",
              "    }\n",
              "</style>\n",
              "<table border=\"1\" class=\"dataframe\">\n",
              "  <thead>\n",
              "    <tr style=\"text-align: right;\">\n",
              "      <th></th>\n",
              "      <th>battery_power</th>\n",
              "      <th>blue</th>\n",
              "      <th>clock_speed</th>\n",
              "      <th>dual_sim</th>\n",
              "      <th>fc</th>\n",
              "      <th>four_g</th>\n",
              "      <th>int_memory</th>\n",
              "      <th>m_dep</th>\n",
              "      <th>mobile_wt</th>\n",
              "      <th>n_cores</th>\n",
              "      <th>pc</th>\n",
              "      <th>px_height</th>\n",
              "      <th>px_width</th>\n",
              "      <th>ram</th>\n",
              "      <th>sc_h</th>\n",
              "      <th>sc_w</th>\n",
              "      <th>talk_time</th>\n",
              "      <th>three_g</th>\n",
              "      <th>touch_screen</th>\n",
              "      <th>wifi</th>\n",
              "    </tr>\n",
              "  </thead>\n",
              "  <tbody>\n",
              "    <tr>\n",
              "      <th>0</th>\n",
              "      <td>842</td>\n",
              "      <td>0</td>\n",
              "      <td>2.2</td>\n",
              "      <td>0</td>\n",
              "      <td>1</td>\n",
              "      <td>0</td>\n",
              "      <td>7</td>\n",
              "      <td>0.6</td>\n",
              "      <td>188</td>\n",
              "      <td>2</td>\n",
              "      <td>2</td>\n",
              "      <td>20</td>\n",
              "      <td>756</td>\n",
              "      <td>2549</td>\n",
              "      <td>9</td>\n",
              "      <td>7</td>\n",
              "      <td>19</td>\n",
              "      <td>0</td>\n",
              "      <td>0</td>\n",
              "      <td>1</td>\n",
              "    </tr>\n",
              "    <tr>\n",
              "      <th>1</th>\n",
              "      <td>1021</td>\n",
              "      <td>1</td>\n",
              "      <td>0.5</td>\n",
              "      <td>1</td>\n",
              "      <td>0</td>\n",
              "      <td>1</td>\n",
              "      <td>53</td>\n",
              "      <td>0.7</td>\n",
              "      <td>136</td>\n",
              "      <td>3</td>\n",
              "      <td>6</td>\n",
              "      <td>905</td>\n",
              "      <td>1988</td>\n",
              "      <td>2631</td>\n",
              "      <td>17</td>\n",
              "      <td>3</td>\n",
              "      <td>7</td>\n",
              "      <td>1</td>\n",
              "      <td>1</td>\n",
              "      <td>0</td>\n",
              "    </tr>\n",
              "    <tr>\n",
              "      <th>2</th>\n",
              "      <td>563</td>\n",
              "      <td>1</td>\n",
              "      <td>0.5</td>\n",
              "      <td>1</td>\n",
              "      <td>2</td>\n",
              "      <td>1</td>\n",
              "      <td>41</td>\n",
              "      <td>0.9</td>\n",
              "      <td>145</td>\n",
              "      <td>5</td>\n",
              "      <td>6</td>\n",
              "      <td>1263</td>\n",
              "      <td>1716</td>\n",
              "      <td>2603</td>\n",
              "      <td>11</td>\n",
              "      <td>2</td>\n",
              "      <td>9</td>\n",
              "      <td>1</td>\n",
              "      <td>1</td>\n",
              "      <td>0</td>\n",
              "    </tr>\n",
              "    <tr>\n",
              "      <th>3</th>\n",
              "      <td>615</td>\n",
              "      <td>1</td>\n",
              "      <td>2.5</td>\n",
              "      <td>0</td>\n",
              "      <td>0</td>\n",
              "      <td>0</td>\n",
              "      <td>10</td>\n",
              "      <td>0.8</td>\n",
              "      <td>131</td>\n",
              "      <td>6</td>\n",
              "      <td>9</td>\n",
              "      <td>1216</td>\n",
              "      <td>1786</td>\n",
              "      <td>2769</td>\n",
              "      <td>16</td>\n",
              "      <td>8</td>\n",
              "      <td>11</td>\n",
              "      <td>1</td>\n",
              "      <td>0</td>\n",
              "      <td>0</td>\n",
              "    </tr>\n",
              "    <tr>\n",
              "      <th>4</th>\n",
              "      <td>1821</td>\n",
              "      <td>1</td>\n",
              "      <td>1.2</td>\n",
              "      <td>0</td>\n",
              "      <td>13</td>\n",
              "      <td>1</td>\n",
              "      <td>44</td>\n",
              "      <td>0.6</td>\n",
              "      <td>141</td>\n",
              "      <td>2</td>\n",
              "      <td>14</td>\n",
              "      <td>1208</td>\n",
              "      <td>1212</td>\n",
              "      <td>1411</td>\n",
              "      <td>8</td>\n",
              "      <td>2</td>\n",
              "      <td>15</td>\n",
              "      <td>1</td>\n",
              "      <td>1</td>\n",
              "      <td>0</td>\n",
              "    </tr>\n",
              "  </tbody>\n",
              "</table>\n",
              "</div>\n",
              "    <div class=\"colab-df-buttons\">\n",
              "\n",
              "  <div class=\"colab-df-container\">\n",
              "    <button class=\"colab-df-convert\" onclick=\"convertToInteractive('df-12e038b4-c6f0-4b8c-9a10-c47a7db86700')\"\n",
              "            title=\"Convert this dataframe to an interactive table.\"\n",
              "            style=\"display:none;\">\n",
              "\n",
              "  <svg xmlns=\"http://www.w3.org/2000/svg\" height=\"24px\" viewBox=\"0 -960 960 960\">\n",
              "    <path d=\"M120-120v-720h720v720H120Zm60-500h600v-160H180v160Zm220 220h160v-160H400v160Zm0 220h160v-160H400v160ZM180-400h160v-160H180v160Zm440 0h160v-160H620v160ZM180-180h160v-160H180v160Zm440 0h160v-160H620v160Z\"/>\n",
              "  </svg>\n",
              "    </button>\n",
              "\n",
              "  <style>\n",
              "    .colab-df-container {\n",
              "      display:flex;\n",
              "      gap: 12px;\n",
              "    }\n",
              "\n",
              "    .colab-df-convert {\n",
              "      background-color: #E8F0FE;\n",
              "      border: none;\n",
              "      border-radius: 50%;\n",
              "      cursor: pointer;\n",
              "      display: none;\n",
              "      fill: #1967D2;\n",
              "      height: 32px;\n",
              "      padding: 0 0 0 0;\n",
              "      width: 32px;\n",
              "    }\n",
              "\n",
              "    .colab-df-convert:hover {\n",
              "      background-color: #E2EBFA;\n",
              "      box-shadow: 0px 1px 2px rgba(60, 64, 67, 0.3), 0px 1px 3px 1px rgba(60, 64, 67, 0.15);\n",
              "      fill: #174EA6;\n",
              "    }\n",
              "\n",
              "    .colab-df-buttons div {\n",
              "      margin-bottom: 4px;\n",
              "    }\n",
              "\n",
              "    [theme=dark] .colab-df-convert {\n",
              "      background-color: #3B4455;\n",
              "      fill: #D2E3FC;\n",
              "    }\n",
              "\n",
              "    [theme=dark] .colab-df-convert:hover {\n",
              "      background-color: #434B5C;\n",
              "      box-shadow: 0px 1px 3px 1px rgba(0, 0, 0, 0.15);\n",
              "      filter: drop-shadow(0px 1px 2px rgba(0, 0, 0, 0.3));\n",
              "      fill: #FFFFFF;\n",
              "    }\n",
              "  </style>\n",
              "\n",
              "    <script>\n",
              "      const buttonEl =\n",
              "        document.querySelector('#df-12e038b4-c6f0-4b8c-9a10-c47a7db86700 button.colab-df-convert');\n",
              "      buttonEl.style.display =\n",
              "        google.colab.kernel.accessAllowed ? 'block' : 'none';\n",
              "\n",
              "      async function convertToInteractive(key) {\n",
              "        const element = document.querySelector('#df-12e038b4-c6f0-4b8c-9a10-c47a7db86700');\n",
              "        const dataTable =\n",
              "          await google.colab.kernel.invokeFunction('convertToInteractive',\n",
              "                                                    [key], {});\n",
              "        if (!dataTable) return;\n",
              "\n",
              "        const docLinkHtml = 'Like what you see? Visit the ' +\n",
              "          '<a target=\"_blank\" href=https://colab.research.google.com/notebooks/data_table.ipynb>data table notebook</a>'\n",
              "          + ' to learn more about interactive tables.';\n",
              "        element.innerHTML = '';\n",
              "        dataTable['output_type'] = 'display_data';\n",
              "        await google.colab.output.renderOutput(dataTable, element);\n",
              "        const docLink = document.createElement('div');\n",
              "        docLink.innerHTML = docLinkHtml;\n",
              "        element.appendChild(docLink);\n",
              "      }\n",
              "    </script>\n",
              "  </div>\n",
              "\n",
              "\n",
              "<div id=\"df-81600ec5-7c1f-4c44-8af1-d312ff39c017\">\n",
              "  <button class=\"colab-df-quickchart\" onclick=\"quickchart('df-81600ec5-7c1f-4c44-8af1-d312ff39c017')\"\n",
              "            title=\"Suggest charts\"\n",
              "            style=\"display:none;\">\n",
              "\n",
              "<svg xmlns=\"http://www.w3.org/2000/svg\" height=\"24px\"viewBox=\"0 0 24 24\"\n",
              "     width=\"24px\">\n",
              "    <g>\n",
              "        <path d=\"M19 3H5c-1.1 0-2 .9-2 2v14c0 1.1.9 2 2 2h14c1.1 0 2-.9 2-2V5c0-1.1-.9-2-2-2zM9 17H7v-7h2v7zm4 0h-2V7h2v10zm4 0h-2v-4h2v4z\"/>\n",
              "    </g>\n",
              "</svg>\n",
              "  </button>\n",
              "\n",
              "<style>\n",
              "  .colab-df-quickchart {\n",
              "      --bg-color: #E8F0FE;\n",
              "      --fill-color: #1967D2;\n",
              "      --hover-bg-color: #E2EBFA;\n",
              "      --hover-fill-color: #174EA6;\n",
              "      --disabled-fill-color: #AAA;\n",
              "      --disabled-bg-color: #DDD;\n",
              "  }\n",
              "\n",
              "  [theme=dark] .colab-df-quickchart {\n",
              "      --bg-color: #3B4455;\n",
              "      --fill-color: #D2E3FC;\n",
              "      --hover-bg-color: #434B5C;\n",
              "      --hover-fill-color: #FFFFFF;\n",
              "      --disabled-bg-color: #3B4455;\n",
              "      --disabled-fill-color: #666;\n",
              "  }\n",
              "\n",
              "  .colab-df-quickchart {\n",
              "    background-color: var(--bg-color);\n",
              "    border: none;\n",
              "    border-radius: 50%;\n",
              "    cursor: pointer;\n",
              "    display: none;\n",
              "    fill: var(--fill-color);\n",
              "    height: 32px;\n",
              "    padding: 0;\n",
              "    width: 32px;\n",
              "  }\n",
              "\n",
              "  .colab-df-quickchart:hover {\n",
              "    background-color: var(--hover-bg-color);\n",
              "    box-shadow: 0 1px 2px rgba(60, 64, 67, 0.3), 0 1px 3px 1px rgba(60, 64, 67, 0.15);\n",
              "    fill: var(--button-hover-fill-color);\n",
              "  }\n",
              "\n",
              "  .colab-df-quickchart-complete:disabled,\n",
              "  .colab-df-quickchart-complete:disabled:hover {\n",
              "    background-color: var(--disabled-bg-color);\n",
              "    fill: var(--disabled-fill-color);\n",
              "    box-shadow: none;\n",
              "  }\n",
              "\n",
              "  .colab-df-spinner {\n",
              "    border: 2px solid var(--fill-color);\n",
              "    border-color: transparent;\n",
              "    border-bottom-color: var(--fill-color);\n",
              "    animation:\n",
              "      spin 1s steps(1) infinite;\n",
              "  }\n",
              "\n",
              "  @keyframes spin {\n",
              "    0% {\n",
              "      border-color: transparent;\n",
              "      border-bottom-color: var(--fill-color);\n",
              "      border-left-color: var(--fill-color);\n",
              "    }\n",
              "    20% {\n",
              "      border-color: transparent;\n",
              "      border-left-color: var(--fill-color);\n",
              "      border-top-color: var(--fill-color);\n",
              "    }\n",
              "    30% {\n",
              "      border-color: transparent;\n",
              "      border-left-color: var(--fill-color);\n",
              "      border-top-color: var(--fill-color);\n",
              "      border-right-color: var(--fill-color);\n",
              "    }\n",
              "    40% {\n",
              "      border-color: transparent;\n",
              "      border-right-color: var(--fill-color);\n",
              "      border-top-color: var(--fill-color);\n",
              "    }\n",
              "    60% {\n",
              "      border-color: transparent;\n",
              "      border-right-color: var(--fill-color);\n",
              "    }\n",
              "    80% {\n",
              "      border-color: transparent;\n",
              "      border-right-color: var(--fill-color);\n",
              "      border-bottom-color: var(--fill-color);\n",
              "    }\n",
              "    90% {\n",
              "      border-color: transparent;\n",
              "      border-bottom-color: var(--fill-color);\n",
              "    }\n",
              "  }\n",
              "</style>\n",
              "\n",
              "  <script>\n",
              "    async function quickchart(key) {\n",
              "      const quickchartButtonEl =\n",
              "        document.querySelector('#' + key + ' button');\n",
              "      quickchartButtonEl.disabled = true;  // To prevent multiple clicks.\n",
              "      quickchartButtonEl.classList.add('colab-df-spinner');\n",
              "      try {\n",
              "        const charts = await google.colab.kernel.invokeFunction(\n",
              "            'suggestCharts', [key], {});\n",
              "      } catch (error) {\n",
              "        console.error('Error during call to suggestCharts:', error);\n",
              "      }\n",
              "      quickchartButtonEl.classList.remove('colab-df-spinner');\n",
              "      quickchartButtonEl.classList.add('colab-df-quickchart-complete');\n",
              "    }\n",
              "    (() => {\n",
              "      let quickchartButtonEl =\n",
              "        document.querySelector('#df-81600ec5-7c1f-4c44-8af1-d312ff39c017 button');\n",
              "      quickchartButtonEl.style.display =\n",
              "        google.colab.kernel.accessAllowed ? 'block' : 'none';\n",
              "    })();\n",
              "  </script>\n",
              "</div>\n",
              "    </div>\n",
              "  </div>\n"
            ]
          },
          "metadata": {},
          "execution_count": 8
        }
      ],
      "source": [
        "X = df.drop('price_range', axis=1)\n",
        "X.head()"
      ]
    },
    {
      "cell_type": "code",
      "execution_count": 9,
      "metadata": {
        "id": "0_WfM9y4bUgw",
        "colab": {
          "base_uri": "https://localhost:8080/"
        },
        "outputId": "99b1065a-6b24-4680-c833-945292d6f1e3"
      },
      "outputs": [
        {
          "output_type": "execute_result",
          "data": {
            "text/plain": [
              "0       1\n",
              "1       2\n",
              "2       2\n",
              "3       2\n",
              "4       1\n",
              "       ..\n",
              "1995    0\n",
              "1996    2\n",
              "1997    3\n",
              "1998    0\n",
              "1999    3\n",
              "Name: price_range, Length: 2000, dtype: int64"
            ]
          },
          "metadata": {},
          "execution_count": 9
        }
      ],
      "source": [
        "y = df['price_range']\n",
        "y"
      ]
    },
    {
      "cell_type": "markdown",
      "metadata": {
        "id": "_RlAcfkrvBDn"
      },
      "source": [
        "# T & V Split"
      ]
    },
    {
      "cell_type": "code",
      "execution_count": 10,
      "metadata": {
        "id": "ml1npqT8yzrO"
      },
      "outputs": [],
      "source": [
        "x_train, x_valid, y_train, y_valid = train_test_split(X, y, train_size=0.7, random_state=42)"
      ]
    },
    {
      "cell_type": "code",
      "execution_count": 11,
      "metadata": {
        "id": "p-xuJfk4cl78",
        "colab": {
          "base_uri": "https://localhost:8080/",
          "height": 226
        },
        "outputId": "16f17374-1ec6-4dbf-e593-418302d28a20"
      },
      "outputs": [
        {
          "output_type": "execute_result",
          "data": {
            "text/plain": [
              "      battery_power  blue  clock_speed  dual_sim  fc  four_g  int_memory  \\\n",
              "836             902     1          0.6         1   0       0          63   \n",
              "575            1197     1          0.5         1   9       0          20   \n",
              "557            1519     0          2.1         0   0       0          32   \n",
              "1235           1971     1          0.5         1   0       0          40   \n",
              "1360            882     0          0.7         1   9       1          28   \n",
              "\n",
              "      m_dep  mobile_wt  n_cores  pc  px_height  px_width   ram  sc_h  sc_w  \\\n",
              "836     0.7        122        5  14        364      1360  3654    18     8   \n",
              "575     0.1        129        5  10        214      1710  2885    19     7   \n",
              "557     0.7        200        1  10        168      1239  2912    11    10   \n",
              "1235    0.3        186        7  19        485       922   571     8     7   \n",
              "1360    0.2        151        6  16        248       884   751    19    11   \n",
              "\n",
              "      talk_time  three_g  touch_screen  wifi  \n",
              "836          15        0             1     1  \n",
              "575          14        1             1     1  \n",
              "557          15        1             1     0  \n",
              "1235         17        1             1     0  \n",
              "1360          8        1             0     1  "
            ],
            "text/html": [
              "\n",
              "  <div id=\"df-3c5bc4fc-cd6b-41f1-a5a1-7f4e3e638c58\" class=\"colab-df-container\">\n",
              "    <div>\n",
              "<style scoped>\n",
              "    .dataframe tbody tr th:only-of-type {\n",
              "        vertical-align: middle;\n",
              "    }\n",
              "\n",
              "    .dataframe tbody tr th {\n",
              "        vertical-align: top;\n",
              "    }\n",
              "\n",
              "    .dataframe thead th {\n",
              "        text-align: right;\n",
              "    }\n",
              "</style>\n",
              "<table border=\"1\" class=\"dataframe\">\n",
              "  <thead>\n",
              "    <tr style=\"text-align: right;\">\n",
              "      <th></th>\n",
              "      <th>battery_power</th>\n",
              "      <th>blue</th>\n",
              "      <th>clock_speed</th>\n",
              "      <th>dual_sim</th>\n",
              "      <th>fc</th>\n",
              "      <th>four_g</th>\n",
              "      <th>int_memory</th>\n",
              "      <th>m_dep</th>\n",
              "      <th>mobile_wt</th>\n",
              "      <th>n_cores</th>\n",
              "      <th>pc</th>\n",
              "      <th>px_height</th>\n",
              "      <th>px_width</th>\n",
              "      <th>ram</th>\n",
              "      <th>sc_h</th>\n",
              "      <th>sc_w</th>\n",
              "      <th>talk_time</th>\n",
              "      <th>three_g</th>\n",
              "      <th>touch_screen</th>\n",
              "      <th>wifi</th>\n",
              "    </tr>\n",
              "  </thead>\n",
              "  <tbody>\n",
              "    <tr>\n",
              "      <th>836</th>\n",
              "      <td>902</td>\n",
              "      <td>1</td>\n",
              "      <td>0.6</td>\n",
              "      <td>1</td>\n",
              "      <td>0</td>\n",
              "      <td>0</td>\n",
              "      <td>63</td>\n",
              "      <td>0.7</td>\n",
              "      <td>122</td>\n",
              "      <td>5</td>\n",
              "      <td>14</td>\n",
              "      <td>364</td>\n",
              "      <td>1360</td>\n",
              "      <td>3654</td>\n",
              "      <td>18</td>\n",
              "      <td>8</td>\n",
              "      <td>15</td>\n",
              "      <td>0</td>\n",
              "      <td>1</td>\n",
              "      <td>1</td>\n",
              "    </tr>\n",
              "    <tr>\n",
              "      <th>575</th>\n",
              "      <td>1197</td>\n",
              "      <td>1</td>\n",
              "      <td>0.5</td>\n",
              "      <td>1</td>\n",
              "      <td>9</td>\n",
              "      <td>0</td>\n",
              "      <td>20</td>\n",
              "      <td>0.1</td>\n",
              "      <td>129</td>\n",
              "      <td>5</td>\n",
              "      <td>10</td>\n",
              "      <td>214</td>\n",
              "      <td>1710</td>\n",
              "      <td>2885</td>\n",
              "      <td>19</td>\n",
              "      <td>7</td>\n",
              "      <td>14</td>\n",
              "      <td>1</td>\n",
              "      <td>1</td>\n",
              "      <td>1</td>\n",
              "    </tr>\n",
              "    <tr>\n",
              "      <th>557</th>\n",
              "      <td>1519</td>\n",
              "      <td>0</td>\n",
              "      <td>2.1</td>\n",
              "      <td>0</td>\n",
              "      <td>0</td>\n",
              "      <td>0</td>\n",
              "      <td>32</td>\n",
              "      <td>0.7</td>\n",
              "      <td>200</td>\n",
              "      <td>1</td>\n",
              "      <td>10</td>\n",
              "      <td>168</td>\n",
              "      <td>1239</td>\n",
              "      <td>2912</td>\n",
              "      <td>11</td>\n",
              "      <td>10</td>\n",
              "      <td>15</td>\n",
              "      <td>1</td>\n",
              "      <td>1</td>\n",
              "      <td>0</td>\n",
              "    </tr>\n",
              "    <tr>\n",
              "      <th>1235</th>\n",
              "      <td>1971</td>\n",
              "      <td>1</td>\n",
              "      <td>0.5</td>\n",
              "      <td>1</td>\n",
              "      <td>0</td>\n",
              "      <td>0</td>\n",
              "      <td>40</td>\n",
              "      <td>0.3</td>\n",
              "      <td>186</td>\n",
              "      <td>7</td>\n",
              "      <td>19</td>\n",
              "      <td>485</td>\n",
              "      <td>922</td>\n",
              "      <td>571</td>\n",
              "      <td>8</td>\n",
              "      <td>7</td>\n",
              "      <td>17</td>\n",
              "      <td>1</td>\n",
              "      <td>1</td>\n",
              "      <td>0</td>\n",
              "    </tr>\n",
              "    <tr>\n",
              "      <th>1360</th>\n",
              "      <td>882</td>\n",
              "      <td>0</td>\n",
              "      <td>0.7</td>\n",
              "      <td>1</td>\n",
              "      <td>9</td>\n",
              "      <td>1</td>\n",
              "      <td>28</td>\n",
              "      <td>0.2</td>\n",
              "      <td>151</td>\n",
              "      <td>6</td>\n",
              "      <td>16</td>\n",
              "      <td>248</td>\n",
              "      <td>884</td>\n",
              "      <td>751</td>\n",
              "      <td>19</td>\n",
              "      <td>11</td>\n",
              "      <td>8</td>\n",
              "      <td>1</td>\n",
              "      <td>0</td>\n",
              "      <td>1</td>\n",
              "    </tr>\n",
              "  </tbody>\n",
              "</table>\n",
              "</div>\n",
              "    <div class=\"colab-df-buttons\">\n",
              "\n",
              "  <div class=\"colab-df-container\">\n",
              "    <button class=\"colab-df-convert\" onclick=\"convertToInteractive('df-3c5bc4fc-cd6b-41f1-a5a1-7f4e3e638c58')\"\n",
              "            title=\"Convert this dataframe to an interactive table.\"\n",
              "            style=\"display:none;\">\n",
              "\n",
              "  <svg xmlns=\"http://www.w3.org/2000/svg\" height=\"24px\" viewBox=\"0 -960 960 960\">\n",
              "    <path d=\"M120-120v-720h720v720H120Zm60-500h600v-160H180v160Zm220 220h160v-160H400v160Zm0 220h160v-160H400v160ZM180-400h160v-160H180v160Zm440 0h160v-160H620v160ZM180-180h160v-160H180v160Zm440 0h160v-160H620v160Z\"/>\n",
              "  </svg>\n",
              "    </button>\n",
              "\n",
              "  <style>\n",
              "    .colab-df-container {\n",
              "      display:flex;\n",
              "      gap: 12px;\n",
              "    }\n",
              "\n",
              "    .colab-df-convert {\n",
              "      background-color: #E8F0FE;\n",
              "      border: none;\n",
              "      border-radius: 50%;\n",
              "      cursor: pointer;\n",
              "      display: none;\n",
              "      fill: #1967D2;\n",
              "      height: 32px;\n",
              "      padding: 0 0 0 0;\n",
              "      width: 32px;\n",
              "    }\n",
              "\n",
              "    .colab-df-convert:hover {\n",
              "      background-color: #E2EBFA;\n",
              "      box-shadow: 0px 1px 2px rgba(60, 64, 67, 0.3), 0px 1px 3px 1px rgba(60, 64, 67, 0.15);\n",
              "      fill: #174EA6;\n",
              "    }\n",
              "\n",
              "    .colab-df-buttons div {\n",
              "      margin-bottom: 4px;\n",
              "    }\n",
              "\n",
              "    [theme=dark] .colab-df-convert {\n",
              "      background-color: #3B4455;\n",
              "      fill: #D2E3FC;\n",
              "    }\n",
              "\n",
              "    [theme=dark] .colab-df-convert:hover {\n",
              "      background-color: #434B5C;\n",
              "      box-shadow: 0px 1px 3px 1px rgba(0, 0, 0, 0.15);\n",
              "      filter: drop-shadow(0px 1px 2px rgba(0, 0, 0, 0.3));\n",
              "      fill: #FFFFFF;\n",
              "    }\n",
              "  </style>\n",
              "\n",
              "    <script>\n",
              "      const buttonEl =\n",
              "        document.querySelector('#df-3c5bc4fc-cd6b-41f1-a5a1-7f4e3e638c58 button.colab-df-convert');\n",
              "      buttonEl.style.display =\n",
              "        google.colab.kernel.accessAllowed ? 'block' : 'none';\n",
              "\n",
              "      async function convertToInteractive(key) {\n",
              "        const element = document.querySelector('#df-3c5bc4fc-cd6b-41f1-a5a1-7f4e3e638c58');\n",
              "        const dataTable =\n",
              "          await google.colab.kernel.invokeFunction('convertToInteractive',\n",
              "                                                    [key], {});\n",
              "        if (!dataTable) return;\n",
              "\n",
              "        const docLinkHtml = 'Like what you see? Visit the ' +\n",
              "          '<a target=\"_blank\" href=https://colab.research.google.com/notebooks/data_table.ipynb>data table notebook</a>'\n",
              "          + ' to learn more about interactive tables.';\n",
              "        element.innerHTML = '';\n",
              "        dataTable['output_type'] = 'display_data';\n",
              "        await google.colab.output.renderOutput(dataTable, element);\n",
              "        const docLink = document.createElement('div');\n",
              "        docLink.innerHTML = docLinkHtml;\n",
              "        element.appendChild(docLink);\n",
              "      }\n",
              "    </script>\n",
              "  </div>\n",
              "\n",
              "\n",
              "<div id=\"df-40e930f4-f9c0-4ad5-9452-621660331342\">\n",
              "  <button class=\"colab-df-quickchart\" onclick=\"quickchart('df-40e930f4-f9c0-4ad5-9452-621660331342')\"\n",
              "            title=\"Suggest charts\"\n",
              "            style=\"display:none;\">\n",
              "\n",
              "<svg xmlns=\"http://www.w3.org/2000/svg\" height=\"24px\"viewBox=\"0 0 24 24\"\n",
              "     width=\"24px\">\n",
              "    <g>\n",
              "        <path d=\"M19 3H5c-1.1 0-2 .9-2 2v14c0 1.1.9 2 2 2h14c1.1 0 2-.9 2-2V5c0-1.1-.9-2-2-2zM9 17H7v-7h2v7zm4 0h-2V7h2v10zm4 0h-2v-4h2v4z\"/>\n",
              "    </g>\n",
              "</svg>\n",
              "  </button>\n",
              "\n",
              "<style>\n",
              "  .colab-df-quickchart {\n",
              "      --bg-color: #E8F0FE;\n",
              "      --fill-color: #1967D2;\n",
              "      --hover-bg-color: #E2EBFA;\n",
              "      --hover-fill-color: #174EA6;\n",
              "      --disabled-fill-color: #AAA;\n",
              "      --disabled-bg-color: #DDD;\n",
              "  }\n",
              "\n",
              "  [theme=dark] .colab-df-quickchart {\n",
              "      --bg-color: #3B4455;\n",
              "      --fill-color: #D2E3FC;\n",
              "      --hover-bg-color: #434B5C;\n",
              "      --hover-fill-color: #FFFFFF;\n",
              "      --disabled-bg-color: #3B4455;\n",
              "      --disabled-fill-color: #666;\n",
              "  }\n",
              "\n",
              "  .colab-df-quickchart {\n",
              "    background-color: var(--bg-color);\n",
              "    border: none;\n",
              "    border-radius: 50%;\n",
              "    cursor: pointer;\n",
              "    display: none;\n",
              "    fill: var(--fill-color);\n",
              "    height: 32px;\n",
              "    padding: 0;\n",
              "    width: 32px;\n",
              "  }\n",
              "\n",
              "  .colab-df-quickchart:hover {\n",
              "    background-color: var(--hover-bg-color);\n",
              "    box-shadow: 0 1px 2px rgba(60, 64, 67, 0.3), 0 1px 3px 1px rgba(60, 64, 67, 0.15);\n",
              "    fill: var(--button-hover-fill-color);\n",
              "  }\n",
              "\n",
              "  .colab-df-quickchart-complete:disabled,\n",
              "  .colab-df-quickchart-complete:disabled:hover {\n",
              "    background-color: var(--disabled-bg-color);\n",
              "    fill: var(--disabled-fill-color);\n",
              "    box-shadow: none;\n",
              "  }\n",
              "\n",
              "  .colab-df-spinner {\n",
              "    border: 2px solid var(--fill-color);\n",
              "    border-color: transparent;\n",
              "    border-bottom-color: var(--fill-color);\n",
              "    animation:\n",
              "      spin 1s steps(1) infinite;\n",
              "  }\n",
              "\n",
              "  @keyframes spin {\n",
              "    0% {\n",
              "      border-color: transparent;\n",
              "      border-bottom-color: var(--fill-color);\n",
              "      border-left-color: var(--fill-color);\n",
              "    }\n",
              "    20% {\n",
              "      border-color: transparent;\n",
              "      border-left-color: var(--fill-color);\n",
              "      border-top-color: var(--fill-color);\n",
              "    }\n",
              "    30% {\n",
              "      border-color: transparent;\n",
              "      border-left-color: var(--fill-color);\n",
              "      border-top-color: var(--fill-color);\n",
              "      border-right-color: var(--fill-color);\n",
              "    }\n",
              "    40% {\n",
              "      border-color: transparent;\n",
              "      border-right-color: var(--fill-color);\n",
              "      border-top-color: var(--fill-color);\n",
              "    }\n",
              "    60% {\n",
              "      border-color: transparent;\n",
              "      border-right-color: var(--fill-color);\n",
              "    }\n",
              "    80% {\n",
              "      border-color: transparent;\n",
              "      border-right-color: var(--fill-color);\n",
              "      border-bottom-color: var(--fill-color);\n",
              "    }\n",
              "    90% {\n",
              "      border-color: transparent;\n",
              "      border-bottom-color: var(--fill-color);\n",
              "    }\n",
              "  }\n",
              "</style>\n",
              "\n",
              "  <script>\n",
              "    async function quickchart(key) {\n",
              "      const quickchartButtonEl =\n",
              "        document.querySelector('#' + key + ' button');\n",
              "      quickchartButtonEl.disabled = true;  // To prevent multiple clicks.\n",
              "      quickchartButtonEl.classList.add('colab-df-spinner');\n",
              "      try {\n",
              "        const charts = await google.colab.kernel.invokeFunction(\n",
              "            'suggestCharts', [key], {});\n",
              "      } catch (error) {\n",
              "        console.error('Error during call to suggestCharts:', error);\n",
              "      }\n",
              "      quickchartButtonEl.classList.remove('colab-df-spinner');\n",
              "      quickchartButtonEl.classList.add('colab-df-quickchart-complete');\n",
              "    }\n",
              "    (() => {\n",
              "      let quickchartButtonEl =\n",
              "        document.querySelector('#df-40e930f4-f9c0-4ad5-9452-621660331342 button');\n",
              "      quickchartButtonEl.style.display =\n",
              "        google.colab.kernel.accessAllowed ? 'block' : 'none';\n",
              "    })();\n",
              "  </script>\n",
              "</div>\n",
              "    </div>\n",
              "  </div>\n"
            ]
          },
          "metadata": {},
          "execution_count": 11
        }
      ],
      "source": [
        "x_train.head()"
      ]
    },
    {
      "cell_type": "code",
      "source": [
        "x_train.shape"
      ],
      "metadata": {
        "id": "Bnze7n9tvl5p",
        "outputId": "be18ed6e-93c2-4e5c-8920-fd3427003d16",
        "colab": {
          "base_uri": "https://localhost:8080/"
        }
      },
      "execution_count": 12,
      "outputs": [
        {
          "output_type": "execute_result",
          "data": {
            "text/plain": [
              "(1400, 20)"
            ]
          },
          "metadata": {},
          "execution_count": 12
        }
      ]
    },
    {
      "cell_type": "markdown",
      "metadata": {
        "id": "5qOD027He6RR"
      },
      "source": [
        "# Preprocessing"
      ]
    },
    {
      "cell_type": "markdown",
      "metadata": {
        "id": "5w5NN9K80w3r"
      },
      "source": [
        "## Convert array to tensor"
      ]
    },
    {
      "cell_type": "markdown",
      "metadata": {
        "id": "t37KJ4cVEWAW"
      },
      "source": [
        "### Train"
      ]
    },
    {
      "cell_type": "code",
      "execution_count": 61,
      "metadata": {
        "id": "_9-K08cTtYyz",
        "colab": {
          "base_uri": "https://localhost:8080/"
        },
        "outputId": "ba8131fc-9fec-44bc-d33f-aae3508c2bae"
      },
      "outputs": [
        {
          "output_type": "execute_result",
          "data": {
            "text/plain": [
              "array([[9.020e+02, 1.000e+00, 6.000e-01, ..., 0.000e+00, 1.000e+00,\n",
              "        1.000e+00],\n",
              "       [1.197e+03, 1.000e+00, 5.000e-01, ..., 1.000e+00, 1.000e+00,\n",
              "        1.000e+00],\n",
              "       [1.519e+03, 0.000e+00, 2.100e+00, ..., 1.000e+00, 1.000e+00,\n",
              "        0.000e+00],\n",
              "       ...,\n",
              "       [1.829e+03, 1.000e+00, 5.000e-01, ..., 1.000e+00, 0.000e+00,\n",
              "        1.000e+00],\n",
              "       [1.927e+03, 0.000e+00, 9.000e-01, ..., 0.000e+00, 1.000e+00,\n",
              "        1.000e+00],\n",
              "       [6.350e+02, 1.000e+00, 6.000e-01, ..., 1.000e+00, 0.000e+00,\n",
              "        0.000e+00]])"
            ]
          },
          "metadata": {},
          "execution_count": 61
        }
      ],
      "source": [
        "x_train.values"
      ]
    },
    {
      "cell_type": "code",
      "execution_count": 13,
      "metadata": {
        "id": "w7hFEHNGe91D"
      },
      "outputs": [],
      "source": [
        "x_train = torch.FloatTensor(x_train.values)\n",
        "y_train = torch.LongTensor(y_train.values)"
      ]
    },
    {
      "cell_type": "code",
      "execution_count": 14,
      "metadata": {
        "colab": {
          "base_uri": "https://localhost:8080/"
        },
        "id": "u5ctG3c6eHuZ",
        "outputId": "765b93a4-02f4-419f-8786-f116f573ae09"
      },
      "outputs": [
        {
          "output_type": "execute_result",
          "data": {
            "text/plain": [
              "tensor([3, 2, 2,  ..., 2, 3, 1])"
            ]
          },
          "metadata": {},
          "execution_count": 14
        }
      ],
      "source": [
        "y_train"
      ]
    },
    {
      "cell_type": "markdown",
      "metadata": {
        "id": "2QWZFlZFES5P"
      },
      "source": [
        "### Validation"
      ]
    },
    {
      "cell_type": "code",
      "execution_count": 15,
      "metadata": {
        "id": "nBv1TG6A0T0m"
      },
      "outputs": [],
      "source": [
        "x_valid = torch.FloatTensor(x_valid.values)\n",
        "y_valid = torch.LongTensor(y_valid.values)"
      ]
    },
    {
      "cell_type": "markdown",
      "metadata": {
        "id": "XQtUFreK0tjS"
      },
      "source": [
        "## Standardization"
      ]
    },
    {
      "cell_type": "code",
      "execution_count": 16,
      "metadata": {
        "id": "se7OB8kM0WY8"
      },
      "outputs": [],
      "source": [
        "mu = x_train.mean(dim=0)\n",
        "std = x_train.std(dim=0)"
      ]
    },
    {
      "cell_type": "code",
      "execution_count": 17,
      "metadata": {
        "colab": {
          "base_uri": "https://localhost:8080/"
        },
        "id": "zHY_vppvfgYx",
        "outputId": "e1eef1b9-b535-4d14-c85e-7aab580828e7"
      },
      "outputs": [
        {
          "output_type": "execute_result",
          "data": {
            "text/plain": [
              "(tensor([1.2403e+03, 4.9357e-01, 1.5257e+00, 5.2357e-01, 4.2664e+00, 5.2786e-01,\n",
              "         3.2241e+01, 5.0671e-01, 1.4064e+02, 4.5664e+00, 9.9000e+00, 6.3942e+02,\n",
              "         1.2463e+03, 2.1226e+03, 1.2185e+01, 5.6521e+00, 1.0949e+01, 7.6429e-01,\n",
              "         5.0429e-01, 4.9929e-01]),\n",
              " tensor([4.4307e+02, 5.0014e-01, 8.2512e-01, 4.9962e-01, 4.3234e+00, 4.9940e-01,\n",
              "         1.8257e+01, 2.8797e-01, 3.5326e+01, 2.2958e+00, 6.0214e+00, 4.3995e+02,\n",
              "         4.3039e+02, 1.0827e+03, 4.2240e+00, 4.3647e+00, 5.4904e+00, 4.2460e-01,\n",
              "         5.0016e-01, 5.0018e-01]))"
            ]
          },
          "metadata": {},
          "execution_count": 17
        }
      ],
      "source": [
        "mu, std"
      ]
    },
    {
      "cell_type": "code",
      "execution_count": 18,
      "metadata": {
        "id": "eDdA-2Lc0ber"
      },
      "outputs": [],
      "source": [
        "x_train = (x_train - mu) / std\n",
        "x_valid = (x_valid - mu) / std"
      ]
    },
    {
      "cell_type": "markdown",
      "metadata": {
        "id": "Fy195c8EfWDJ"
      },
      "source": [
        "# Dataloader"
      ]
    },
    {
      "cell_type": "markdown",
      "metadata": {
        "id": "DHQLMJH41Cjf"
      },
      "source": [
        "## Train"
      ]
    },
    {
      "cell_type": "code",
      "execution_count": 19,
      "metadata": {
        "colab": {
          "base_uri": "https://localhost:8080/"
        },
        "id": "ZSSRbHM0fT-A",
        "outputId": "11700cda-77a9-4081-815f-47eb77efa5c1"
      },
      "outputs": [
        {
          "output_type": "execute_result",
          "data": {
            "text/plain": [
              "<torch.utils.data.dataset.TensorDataset at 0x7ad56f9da590>"
            ]
          },
          "metadata": {},
          "execution_count": 19
        }
      ],
      "source": [
        "train_data = TensorDataset(x_train, y_train)\n",
        "train_data"
      ]
    },
    {
      "cell_type": "code",
      "execution_count": 21,
      "metadata": {
        "colab": {
          "base_uri": "https://localhost:8080/"
        },
        "id": "6uMIQaiOgbnA",
        "outputId": "2d5c226f-fede-405d-8867-3d582e9b181b"
      },
      "outputs": [
        {
          "output_type": "execute_result",
          "data": {
            "text/plain": [
              "tensor([[-0.7636,  1.0126, -1.1219,  ..., -1.8000,  0.9911,  1.0011],\n",
              "        [-0.0978,  1.0126, -1.2431,  ...,  0.5551,  0.9911,  1.0011],\n",
              "        [ 0.6289, -0.9869,  0.6960,  ...,  0.5551,  0.9911, -0.9982],\n",
              "        ...,\n",
              "        [ 1.3286,  1.0126, -1.2431,  ...,  0.5551, -1.0082,  1.0011],\n",
              "        [ 1.5498, -0.9869, -0.7583,  ..., -1.8000,  0.9911,  1.0011],\n",
              "        [-1.3662,  1.0126, -1.1219,  ...,  0.5551, -1.0082, -0.9982]])"
            ]
          },
          "metadata": {},
          "execution_count": 21
        }
      ],
      "source": [
        "train_data.tensors[0]"
      ]
    },
    {
      "cell_type": "code",
      "execution_count": 22,
      "metadata": {
        "id": "gI91bGRsglXt"
      },
      "outputs": [],
      "source": [
        "train_loader = DataLoader(train_data, 100, True)"
      ]
    },
    {
      "cell_type": "code",
      "execution_count": 23,
      "metadata": {
        "colab": {
          "base_uri": "https://localhost:8080/"
        },
        "id": "dltHQo4BhAum",
        "outputId": "c157c29f-670a-4506-a367-5987669b50de"
      },
      "outputs": [
        {
          "output_type": "execute_result",
          "data": {
            "text/plain": [
              "14"
            ]
          },
          "metadata": {},
          "execution_count": 23
        }
      ],
      "source": [
        "len(train_loader)"
      ]
    },
    {
      "cell_type": "code",
      "execution_count": 24,
      "metadata": {
        "id": "JU0zK_BLh5Hv"
      },
      "outputs": [],
      "source": [
        "train_loader_iter = iter(train_loader)"
      ]
    },
    {
      "cell_type": "code",
      "execution_count": 25,
      "metadata": {
        "colab": {
          "base_uri": "https://localhost:8080/"
        },
        "id": "MU3nUc2QiQga",
        "outputId": "3b0f49b7-0068-4869-ea1e-6119870c87ff"
      },
      "outputs": [
        {
          "output_type": "execute_result",
          "data": {
            "text/plain": [
              "[tensor([[ 0.6447, -0.9869,  0.6960,  ...,  0.5551,  0.9911, -0.9982],\n",
              "         [ 1.6874,  1.0126, -1.2431,  ...,  0.5551, -1.0082, -0.9982],\n",
              "         [-1.5671,  1.0126,  1.3020,  ..., -1.8000,  0.9911, -0.9982],\n",
              "         ...,\n",
              "         [ 0.3242,  1.0126,  1.5444,  ...,  0.5551, -1.0082,  1.0011],\n",
              "         [-1.4385,  1.0126,  1.1808,  ..., -1.8000, -1.0082,  1.0011],\n",
              "         [-0.7320,  1.0126,  1.3020,  ..., -1.8000,  0.9911, -0.9982]]),\n",
              " tensor([2, 3, 1, 2, 3, 3, 2, 1, 3, 3, 1, 2, 2, 1, 0, 2, 3, 2, 0, 2, 2, 1, 1, 2,\n",
              "         1, 0, 3, 1, 2, 0, 3, 1, 3, 0, 2, 1, 0, 1, 0, 0, 1, 1, 3, 1, 3, 0, 3, 3,\n",
              "         1, 3, 2, 1, 1, 3, 3, 1, 0, 0, 0, 1, 1, 2, 0, 3, 3, 0, 2, 1, 2, 2, 1, 0,\n",
              "         3, 1, 2, 0, 0, 2, 1, 3, 3, 2, 3, 1, 2, 1, 2, 3, 2, 0, 1, 0, 0, 1, 0, 3,\n",
              "         1, 1, 3, 0])]"
            ]
          },
          "metadata": {},
          "execution_count": 25
        }
      ],
      "source": [
        "next(train_loader_iter)"
      ]
    },
    {
      "cell_type": "code",
      "execution_count": 26,
      "metadata": {
        "id": "fLd5AoUFhXMj"
      },
      "outputs": [],
      "source": [
        "x_batch, y_batch = next(iter(train_loader))"
      ]
    },
    {
      "cell_type": "code",
      "execution_count": 27,
      "metadata": {
        "colab": {
          "base_uri": "https://localhost:8080/"
        },
        "id": "eXQFAr3thfLh",
        "outputId": "d763856b-aebf-4d23-c5c5-0ddb470ba52e"
      },
      "outputs": [
        {
          "output_type": "execute_result",
          "data": {
            "text/plain": [
              "torch.Size([100, 20])"
            ]
          },
          "metadata": {},
          "execution_count": 27
        }
      ],
      "source": [
        "x_batch.shape"
      ]
    },
    {
      "cell_type": "markdown",
      "metadata": {
        "id": "UqBb145D1PC5"
      },
      "source": [
        "## Validation"
      ]
    },
    {
      "cell_type": "code",
      "execution_count": 28,
      "metadata": {
        "id": "Pd-bs_NQ1Brf"
      },
      "outputs": [],
      "source": [
        "valid_dataset = TensorDataset(x_valid, y_valid)\n",
        "valid_loader = DataLoader(valid_dataset, batch_size=200, shuffle=False)"
      ]
    },
    {
      "cell_type": "markdown",
      "metadata": {
        "id": "-NBcJXJkfgUI"
      },
      "source": [
        "# Model"
      ]
    },
    {
      "cell_type": "code",
      "execution_count": 29,
      "metadata": {
        "id": "2b9Po2RYfi8C"
      },
      "outputs": [],
      "source": [
        "num_feats = 20\n",
        "num_class = 4\n",
        "h1 = 128\n",
        "h2 = 256\n",
        "h3 = 64\n",
        "\n",
        "model = nn.Sequential(nn.Linear(num_feats, h1),\n",
        "                      nn.ReLU(),\n",
        "                      nn.Linear(h1, h2),\n",
        "                      nn.ReLU(),\n",
        "                      nn.Linear(h2, h3),\n",
        "                      nn.ReLU(),\n",
        "                      nn.Linear(h3, num_class))"
      ]
    },
    {
      "cell_type": "code",
      "execution_count": 30,
      "metadata": {
        "colab": {
          "base_uri": "https://localhost:8080/"
        },
        "id": "vM09hqPZoFnZ",
        "outputId": "d564a7f2-5350-4500-b694-726e94d610bf"
      },
      "outputs": [
        {
          "output_type": "execute_result",
          "data": {
            "text/plain": [
              "Sequential(\n",
              "  (0): Linear(in_features=20, out_features=128, bias=True)\n",
              "  (1): ReLU()\n",
              "  (2): Linear(in_features=128, out_features=256, bias=True)\n",
              "  (3): ReLU()\n",
              "  (4): Linear(in_features=256, out_features=64, bias=True)\n",
              "  (5): ReLU()\n",
              "  (6): Linear(in_features=64, out_features=4, bias=True)\n",
              ")"
            ]
          },
          "metadata": {},
          "execution_count": 30
        }
      ],
      "source": [
        "model"
      ]
    },
    {
      "cell_type": "code",
      "execution_count": 31,
      "metadata": {
        "id": "J2-XsODpoJL-"
      },
      "outputs": [],
      "source": [
        "yp = model(x_batch)"
      ]
    },
    {
      "cell_type": "code",
      "execution_count": 35,
      "metadata": {
        "colab": {
          "base_uri": "https://localhost:8080/"
        },
        "id": "clq3Rv3NokDA",
        "outputId": "bd205e99-4710-4e84-cae3-02cd96733d51"
      },
      "outputs": [
        {
          "output_type": "execute_result",
          "data": {
            "text/plain": [
              "tensor([[ 0.0903,  0.0041,  0.1414,  0.0578],\n",
              "        [ 0.1019,  0.0364,  0.0981,  0.0942],\n",
              "        [ 0.0892,  0.0349,  0.1040,  0.1092],\n",
              "        [ 0.0727,  0.0358,  0.1014,  0.0979],\n",
              "        [ 0.0770,  0.0354,  0.1065,  0.1211],\n",
              "        [ 0.1055,  0.0389,  0.1380,  0.0906],\n",
              "        [ 0.0709,  0.0247,  0.0719,  0.0902],\n",
              "        [ 0.0643,  0.0580,  0.0651,  0.0864],\n",
              "        [ 0.0938,  0.0149,  0.0937,  0.0757],\n",
              "        [ 0.0851,  0.0310,  0.1213,  0.0849],\n",
              "        [ 0.0735,  0.0051,  0.0855,  0.0922],\n",
              "        [ 0.0462,  0.0510,  0.0594,  0.1123],\n",
              "        [ 0.0632,  0.0076,  0.1012,  0.0927],\n",
              "        [ 0.0916,  0.0539,  0.0845,  0.0723],\n",
              "        [ 0.1044,  0.0411,  0.1037,  0.1067],\n",
              "        [ 0.0940, -0.0122,  0.1044,  0.1313],\n",
              "        [ 0.1153,  0.0137,  0.1087,  0.1099],\n",
              "        [ 0.0946,  0.0367,  0.1004,  0.0847],\n",
              "        [ 0.0694,  0.0179,  0.0746,  0.0842],\n",
              "        [ 0.0898,  0.0023,  0.0910,  0.1177],\n",
              "        [ 0.0534,  0.0440,  0.1190,  0.0869],\n",
              "        [ 0.0898,  0.0320,  0.0976,  0.1156],\n",
              "        [ 0.0993,  0.0061,  0.0778,  0.0822],\n",
              "        [ 0.0895,  0.0111,  0.1175,  0.0872],\n",
              "        [ 0.0620,  0.0390,  0.0926,  0.0901],\n",
              "        [ 0.0846,  0.0522,  0.0554,  0.0718],\n",
              "        [ 0.0815,  0.0542,  0.1128,  0.1124],\n",
              "        [ 0.0827,  0.0308,  0.0901,  0.1073],\n",
              "        [ 0.0980,  0.0388,  0.0774,  0.1295],\n",
              "        [ 0.0854,  0.0436,  0.1014,  0.1174],\n",
              "        [ 0.0766,  0.0366,  0.0514,  0.0976],\n",
              "        [ 0.0971,  0.0241,  0.1006,  0.1057],\n",
              "        [ 0.0610,  0.0182,  0.0772,  0.0621],\n",
              "        [ 0.0770,  0.0644,  0.0660,  0.0924],\n",
              "        [ 0.0362,  0.0083,  0.0617,  0.0901],\n",
              "        [ 0.0597,  0.0716,  0.0766,  0.0999],\n",
              "        [ 0.0593,  0.0359,  0.0776,  0.0797],\n",
              "        [ 0.0606,  0.0419,  0.0590,  0.1102],\n",
              "        [ 0.1335,  0.0501,  0.1054,  0.0949],\n",
              "        [ 0.0780,  0.0404,  0.0834,  0.1117],\n",
              "        [ 0.0685,  0.0601,  0.0675,  0.1026],\n",
              "        [ 0.0464,  0.0728,  0.0646,  0.1038],\n",
              "        [ 0.1049, -0.0354,  0.1471,  0.1437],\n",
              "        [ 0.0569,  0.0473,  0.0614,  0.0894],\n",
              "        [ 0.0574,  0.0248,  0.1004,  0.1254],\n",
              "        [ 0.1362,  0.0322,  0.1082,  0.1286],\n",
              "        [ 0.0828,  0.0005,  0.1490,  0.0918],\n",
              "        [ 0.0820,  0.0082,  0.1394,  0.0615],\n",
              "        [ 0.0875,  0.0162,  0.0769,  0.0766],\n",
              "        [ 0.0965,  0.0384,  0.0930,  0.1035],\n",
              "        [ 0.0524, -0.0041,  0.1101,  0.0821],\n",
              "        [ 0.0916,  0.0122,  0.0930,  0.1121],\n",
              "        [ 0.1005,  0.0419,  0.0893,  0.0891],\n",
              "        [ 0.1026,  0.0217,  0.1137,  0.0967],\n",
              "        [ 0.0820,  0.0442,  0.0779,  0.1017],\n",
              "        [ 0.1263,  0.0319,  0.1116,  0.1164],\n",
              "        [ 0.1031,  0.0182,  0.1254,  0.1087],\n",
              "        [ 0.0810,  0.0698,  0.0824,  0.1161],\n",
              "        [ 0.0797,  0.0108,  0.1191,  0.0833],\n",
              "        [ 0.0765,  0.0562,  0.0764,  0.0748],\n",
              "        [ 0.0973,  0.0286,  0.0703,  0.1260],\n",
              "        [ 0.0726,  0.0448,  0.0800,  0.1131],\n",
              "        [ 0.0903,  0.0460,  0.0951,  0.0945],\n",
              "        [ 0.0778,  0.0238,  0.0929,  0.0746],\n",
              "        [ 0.1081,  0.0431,  0.1106,  0.0964],\n",
              "        [ 0.1150,  0.0254,  0.1147,  0.1342],\n",
              "        [ 0.0492,  0.0942,  0.0691,  0.0974],\n",
              "        [ 0.0860, -0.0360,  0.1076,  0.1196],\n",
              "        [ 0.0612,  0.0271,  0.0619,  0.1027],\n",
              "        [ 0.1157,  0.0309,  0.1000,  0.1267],\n",
              "        [ 0.0943,  0.0217,  0.1099,  0.0983],\n",
              "        [ 0.0455,  0.0476,  0.1027,  0.0725],\n",
              "        [ 0.1077,  0.0196,  0.1247,  0.1485],\n",
              "        [ 0.0472,  0.0321,  0.0890,  0.1160],\n",
              "        [ 0.0999,  0.0477,  0.0921,  0.1357],\n",
              "        [ 0.0608,  0.0316,  0.1096,  0.0976],\n",
              "        [ 0.0698,  0.0432,  0.0845,  0.0917],\n",
              "        [ 0.1154,  0.0948,  0.0831,  0.0882],\n",
              "        [ 0.0814,  0.0140,  0.0868,  0.1091],\n",
              "        [ 0.0479,  0.0220,  0.0917,  0.1165],\n",
              "        [ 0.0800,  0.0256,  0.1166,  0.1109],\n",
              "        [ 0.0724,  0.0243,  0.1142,  0.1227],\n",
              "        [ 0.0697,  0.0191,  0.1108,  0.0754],\n",
              "        [ 0.0908,  0.0019,  0.0943,  0.1101],\n",
              "        [ 0.0632,  0.0725,  0.0567,  0.0837],\n",
              "        [ 0.0684,  0.0564,  0.1239,  0.0861],\n",
              "        [ 0.0900,  0.0418,  0.1201,  0.0651],\n",
              "        [ 0.0734,  0.0375,  0.0833,  0.0907],\n",
              "        [ 0.0870,  0.0354,  0.0899,  0.1133],\n",
              "        [ 0.1148,  0.0167,  0.1228,  0.1239],\n",
              "        [ 0.1138,  0.0355,  0.1014,  0.1262],\n",
              "        [ 0.0432,  0.0814,  0.0544,  0.1119],\n",
              "        [ 0.0487,  0.0418,  0.0901,  0.1072],\n",
              "        [ 0.0530,  0.0240,  0.0888,  0.1182],\n",
              "        [ 0.0716,  0.0316,  0.0785,  0.1215],\n",
              "        [ 0.0695,  0.0407,  0.0760,  0.1224],\n",
              "        [ 0.1192,  0.0602,  0.1279,  0.1014],\n",
              "        [ 0.0517,  0.0273,  0.0660,  0.0905],\n",
              "        [ 0.0794,  0.0329,  0.0700,  0.1174],\n",
              "        [ 0.0755,  0.0694,  0.0559,  0.1222]], grad_fn=<AddmmBackward0>)"
            ]
          },
          "metadata": {},
          "execution_count": 35
        }
      ],
      "source": [
        "yp"
      ]
    },
    {
      "cell_type": "code",
      "source": [
        "next(iter(model.parameters()))"
      ],
      "metadata": {
        "id": "3MOmDez_Cl0y",
        "outputId": "05437c75-de51-41de-b060-c6115d632fc6",
        "colab": {
          "base_uri": "https://localhost:8080/"
        }
      },
      "execution_count": 36,
      "outputs": [
        {
          "output_type": "execute_result",
          "data": {
            "text/plain": [
              "Parameter containing:\n",
              "tensor([[ 0.0920, -0.1913, -0.0985,  ..., -0.0510,  0.1240,  0.0345],\n",
              "        [-0.2169, -0.0168,  0.1384,  ...,  0.1380,  0.1018, -0.1753],\n",
              "        [-0.1418, -0.0098,  0.1848,  ..., -0.1945, -0.2055, -0.1875],\n",
              "        ...,\n",
              "        [ 0.0228, -0.0689, -0.1814,  ...,  0.1582, -0.1889, -0.0533],\n",
              "        [ 0.1201, -0.1494, -0.0959,  ...,  0.1281, -0.2035,  0.0586],\n",
              "        [ 0.1733, -0.1834,  0.1643,  ..., -0.0546,  0.2110, -0.1222]],\n",
              "       requires_grad=True)"
            ]
          },
          "metadata": {},
          "execution_count": 36
        }
      ]
    },
    {
      "cell_type": "code",
      "execution_count": 37,
      "metadata": {
        "id": "h_3ZptLho2bs"
      },
      "outputs": [],
      "source": [
        "def params_nums(model):\n",
        "  return torch.tensor([torch.numel(p) for p in model.parameters()]).sum()"
      ]
    },
    {
      "cell_type": "code",
      "source": [
        "params_nums(model)"
      ],
      "metadata": {
        "id": "htS0pUeMCy5U",
        "outputId": "653afe4e-bf5a-4550-e086-a2e5ca031adc",
        "colab": {
          "base_uri": "https://localhost:8080/"
        }
      },
      "execution_count": 38,
      "outputs": [
        {
          "output_type": "execute_result",
          "data": {
            "text/plain": [
              "tensor(52420)"
            ]
          },
          "metadata": {},
          "execution_count": 38
        }
      ]
    },
    {
      "cell_type": "code",
      "execution_count": 39,
      "metadata": {
        "colab": {
          "base_uri": "https://localhost:8080/"
        },
        "id": "0SQUtO2IpgwQ",
        "outputId": "84a0a30f-d911-4d48-8be4-2687d5b66f07"
      },
      "outputs": [
        {
          "output_type": "execute_result",
          "data": {
            "text/plain": [
              "[Parameter containing:\n",
              " tensor([[ 0.0920, -0.1913, -0.0985,  ..., -0.0510,  0.1240,  0.0345],\n",
              "         [-0.2169, -0.0168,  0.1384,  ...,  0.1380,  0.1018, -0.1753],\n",
              "         [-0.1418, -0.0098,  0.1848,  ..., -0.1945, -0.2055, -0.1875],\n",
              "         ...,\n",
              "         [ 0.0228, -0.0689, -0.1814,  ...,  0.1582, -0.1889, -0.0533],\n",
              "         [ 0.1201, -0.1494, -0.0959,  ...,  0.1281, -0.2035,  0.0586],\n",
              "         [ 0.1733, -0.1834,  0.1643,  ..., -0.0546,  0.2110, -0.1222]],\n",
              "        requires_grad=True),\n",
              " Parameter containing:\n",
              " tensor([ 0.0494,  0.1485,  0.2041, -0.2232, -0.1603,  0.1342, -0.0096, -0.0578,\n",
              "          0.1927,  0.1661, -0.1201, -0.1532, -0.1557,  0.1655, -0.1889,  0.0544,\n",
              "          0.1912,  0.0719, -0.0930,  0.1932,  0.1224, -0.1797,  0.1349, -0.2165,\n",
              "         -0.1519,  0.1522,  0.1827,  0.1050, -0.0313, -0.1407,  0.0264, -0.0031,\n",
              "          0.0430, -0.1821,  0.1985,  0.1623, -0.0437,  0.1614, -0.1129, -0.1928,\n",
              "          0.0707, -0.0836, -0.1526, -0.1548, -0.1838, -0.0654,  0.0072,  0.0891,\n",
              "          0.0037,  0.0982, -0.0131,  0.0011,  0.0445, -0.0647,  0.0312, -0.1109,\n",
              "         -0.1034,  0.2146,  0.0703,  0.1942,  0.0902,  0.0023, -0.1939,  0.1161,\n",
              "         -0.0409, -0.1097, -0.0097,  0.1845, -0.1703,  0.0646,  0.1135,  0.0023,\n",
              "          0.0772,  0.0120,  0.2067, -0.0718,  0.1008, -0.2013, -0.1500,  0.1105,\n",
              "         -0.0723,  0.0787,  0.1714, -0.0133,  0.2205, -0.0681, -0.2129,  0.1583,\n",
              "          0.1405, -0.0216,  0.1801, -0.1317,  0.1572, -0.1033,  0.0117,  0.1063,\n",
              "          0.1060, -0.0901,  0.1449, -0.1016,  0.0939,  0.1025, -0.1961, -0.0455,\n",
              "         -0.1041, -0.1562,  0.1843, -0.0432,  0.0500,  0.0305,  0.0800,  0.2164,\n",
              "         -0.1796,  0.0155,  0.0574, -0.1792,  0.2110,  0.0691, -0.1589, -0.1486,\n",
              "          0.0906,  0.0803, -0.0218,  0.1171,  0.0359, -0.1504, -0.1027,  0.0109],\n",
              "        requires_grad=True),\n",
              " Parameter containing:\n",
              " tensor([[ 0.0195, -0.0437,  0.0523,  ..., -0.0612, -0.0324, -0.0327],\n",
              "         [ 0.0555, -0.0044,  0.0135,  ...,  0.0258,  0.0606, -0.0286],\n",
              "         [ 0.0059, -0.0105,  0.0323,  ...,  0.0319,  0.0815,  0.0034],\n",
              "         ...,\n",
              "         [-0.0786,  0.0749,  0.0276,  ..., -0.0056, -0.0011,  0.0034],\n",
              "         [-0.0209,  0.0350,  0.0424,  ..., -0.0808,  0.0038,  0.0061],\n",
              "         [-0.0278, -0.0689,  0.0475,  ...,  0.0550, -0.0490,  0.0763]],\n",
              "        requires_grad=True),\n",
              " Parameter containing:\n",
              " tensor([-0.0212,  0.0049, -0.0437, -0.0794,  0.0771,  0.0319, -0.0618, -0.0330,\n",
              "          0.0709, -0.0210,  0.0830,  0.0525,  0.0026, -0.0553, -0.0032,  0.0232,\n",
              "          0.0669, -0.0170,  0.0422, -0.0820, -0.0743, -0.0580, -0.0296,  0.0830,\n",
              "         -0.0121, -0.0096,  0.0786,  0.0779,  0.0612,  0.0448,  0.0534,  0.0635,\n",
              "         -0.0495,  0.0532,  0.0438, -0.0688,  0.0644,  0.0360, -0.0258, -0.0766,\n",
              "          0.0768, -0.0137,  0.0802,  0.0288, -0.0188,  0.0260, -0.0693, -0.0043,\n",
              "          0.0353, -0.0775, -0.0075, -0.0275, -0.0634,  0.0229,  0.0629,  0.0540,\n",
              "         -0.0063, -0.0023, -0.0492, -0.0506, -0.0387,  0.0165,  0.0576,  0.0399,\n",
              "         -0.0766,  0.0221,  0.0245, -0.0796, -0.0181,  0.0329,  0.0056,  0.0251,\n",
              "         -0.0423,  0.0733,  0.0699, -0.0455, -0.0708,  0.0125, -0.0499, -0.0078,\n",
              "          0.0807, -0.0172,  0.0680,  0.0777, -0.0242, -0.0519,  0.0572,  0.0018,\n",
              "         -0.0599, -0.0634, -0.0067, -0.0316, -0.0026, -0.0323, -0.0555,  0.0599,\n",
              "          0.0011,  0.0523, -0.0332,  0.0119,  0.0391, -0.0038,  0.0350, -0.0740,\n",
              "          0.0882, -0.0131, -0.0279, -0.0347, -0.0658, -0.0040, -0.0500,  0.0771,\n",
              "         -0.0764,  0.0202, -0.0350, -0.0835, -0.0222,  0.0571,  0.0122, -0.0199,\n",
              "         -0.0865,  0.0007,  0.0281,  0.0746,  0.0774,  0.0501, -0.0195, -0.0663,\n",
              "         -0.0044,  0.0686,  0.0675, -0.0398, -0.0173, -0.0208, -0.0708,  0.0384,\n",
              "         -0.0199, -0.0542, -0.0215, -0.0229,  0.0325, -0.0077, -0.0078, -0.0620,\n",
              "         -0.0086,  0.0798, -0.0321, -0.0828, -0.0468,  0.0631, -0.0095, -0.0095,\n",
              "          0.0602,  0.0819,  0.0458, -0.0516,  0.0789,  0.0515,  0.0203,  0.0047,\n",
              "         -0.0753,  0.0799,  0.0725,  0.0639,  0.0415,  0.0799, -0.0005, -0.0164,\n",
              "         -0.0804,  0.0699, -0.0777,  0.0638, -0.0116, -0.0003,  0.0087,  0.0276,\n",
              "          0.0246, -0.0585, -0.0759,  0.0462, -0.0222,  0.0552,  0.0714,  0.0413,\n",
              "         -0.0810, -0.0695,  0.0588, -0.0460, -0.0207,  0.0124, -0.0791, -0.0648,\n",
              "          0.0235,  0.0170, -0.0719,  0.0526,  0.0453,  0.0030, -0.0252,  0.0442,\n",
              "          0.0296,  0.0790,  0.0847,  0.0378, -0.0072,  0.0069,  0.0398, -0.0684,\n",
              "          0.0566, -0.0879, -0.0292, -0.0315, -0.0594,  0.0435,  0.0787, -0.0430,\n",
              "         -0.0118,  0.0733, -0.0535,  0.0255,  0.0682,  0.0610,  0.0279,  0.0072,\n",
              "          0.0278,  0.0225,  0.0137,  0.0806,  0.0400,  0.0100, -0.0158,  0.0303,\n",
              "          0.0250, -0.0345,  0.0505, -0.0351,  0.0778,  0.0640, -0.0125, -0.0652,\n",
              "         -0.0384,  0.0844,  0.0755, -0.0633,  0.0305, -0.0754,  0.0172, -0.0253,\n",
              "         -0.0484,  0.0615, -0.0882, -0.0443,  0.0113, -0.0530,  0.0675,  0.0770],\n",
              "        requires_grad=True),\n",
              " Parameter containing:\n",
              " tensor([[ 0.0051, -0.0178,  0.0424,  ..., -0.0228, -0.0347,  0.0343],\n",
              "         [-0.0058, -0.0572, -0.0572,  ...,  0.0155,  0.0577, -0.0042],\n",
              "         [ 0.0617, -0.0505, -0.0434,  ..., -0.0482,  0.0022, -0.0439],\n",
              "         ...,\n",
              "         [-0.0218, -0.0079,  0.0472,  ..., -0.0344,  0.0114,  0.0068],\n",
              "         [ 0.0312,  0.0457,  0.0563,  ..., -0.0412, -0.0042,  0.0498],\n",
              "         [ 0.0174,  0.0438,  0.0083,  ..., -0.0519, -0.0073,  0.0311]],\n",
              "        requires_grad=True),\n",
              " Parameter containing:\n",
              " tensor([ 0.0438,  0.0307,  0.0347, -0.0012, -0.0100,  0.0594, -0.0380,  0.0386,\n",
              "         -0.0524, -0.0327,  0.0080,  0.0510, -0.0022, -0.0096, -0.0059,  0.0095,\n",
              "         -0.0054, -0.0280, -0.0030, -0.0461, -0.0569, -0.0168,  0.0460,  0.0079,\n",
              "          0.0138,  0.0107, -0.0596,  0.0389,  0.0342, -0.0569, -0.0212, -0.0364,\n",
              "          0.0471,  0.0005,  0.0080,  0.0018,  0.0117,  0.0061, -0.0259, -0.0411,\n",
              "          0.0324, -0.0501,  0.0056, -0.0166, -0.0526,  0.0276, -0.0433,  0.0013,\n",
              "          0.0423, -0.0087, -0.0454,  0.0181,  0.0517,  0.0037, -0.0104, -0.0096,\n",
              "          0.0602, -0.0144, -0.0243,  0.0318, -0.0496, -0.0302, -0.0503,  0.0334],\n",
              "        requires_grad=True),\n",
              " Parameter containing:\n",
              " tensor([[ 0.0079, -0.0468,  0.0382, -0.0496,  0.1233,  0.0108, -0.0166,  0.0148,\n",
              "          -0.0066, -0.0163, -0.0018, -0.0078,  0.1016,  0.0069,  0.0720,  0.1088,\n",
              "           0.0129,  0.0390, -0.1222, -0.0978, -0.1219,  0.0508, -0.0365, -0.0912,\n",
              "          -0.1128, -0.0097,  0.0292,  0.0569,  0.0572,  0.0900, -0.0995,  0.0769,\n",
              "           0.1153,  0.0073,  0.0037,  0.0781, -0.0980,  0.0554, -0.0651, -0.1150,\n",
              "          -0.0997, -0.0711,  0.0799,  0.0609, -0.0397,  0.0972, -0.0076,  0.0978,\n",
              "           0.0977, -0.0591,  0.0994, -0.0490, -0.0774, -0.0248, -0.0209, -0.0488,\n",
              "          -0.0992,  0.0365,  0.0534, -0.0115,  0.0409, -0.0165,  0.0697, -0.0636],\n",
              "         [ 0.0943,  0.0133, -0.1114, -0.0639, -0.0022, -0.0548,  0.1180, -0.1079,\n",
              "          -0.0907,  0.1126, -0.0335, -0.0817, -0.0945,  0.0476,  0.0591, -0.0243,\n",
              "          -0.1084, -0.0601,  0.0210, -0.1008,  0.1059, -0.0177, -0.0764, -0.0491,\n",
              "          -0.0296, -0.0170, -0.1241,  0.0724,  0.0183,  0.0267,  0.0622, -0.0712,\n",
              "          -0.0597,  0.0920,  0.0816,  0.0194,  0.0957,  0.0981, -0.0218,  0.1147,\n",
              "           0.0850, -0.1019,  0.1032, -0.1207, -0.0584,  0.0261,  0.0783, -0.0431,\n",
              "           0.0546, -0.0504,  0.0329,  0.0753, -0.0149,  0.0600,  0.1187, -0.1067,\n",
              "          -0.0405, -0.0731,  0.0128, -0.0939, -0.0238,  0.0807, -0.1015, -0.1070],\n",
              "         [ 0.0979, -0.0799,  0.1043,  0.0492, -0.0439, -0.0021, -0.0295,  0.0269,\n",
              "          -0.0700, -0.0546,  0.0938,  0.0191,  0.1141,  0.0456, -0.0933,  0.1238,\n",
              "           0.1202,  0.0962, -0.0727, -0.0553,  0.0349,  0.0294, -0.0097, -0.0436,\n",
              "           0.0583, -0.0256, -0.0739,  0.0154, -0.1246,  0.0071, -0.1139,  0.0439,\n",
              "           0.0857,  0.0089, -0.0180, -0.1040, -0.0018, -0.0997,  0.0864,  0.0348,\n",
              "           0.1049,  0.1249,  0.0250, -0.0193,  0.0594, -0.0090,  0.0125, -0.0433,\n",
              "           0.0420, -0.0014, -0.0071,  0.0495, -0.0568,  0.0433, -0.1207, -0.0052,\n",
              "          -0.1047,  0.0622, -0.0672,  0.0624,  0.0161,  0.0076,  0.1154, -0.0348],\n",
              "         [ 0.0041,  0.1009,  0.0389,  0.0658, -0.0117, -0.0434,  0.0821, -0.0553,\n",
              "           0.1040, -0.0261,  0.1163,  0.0817,  0.0717,  0.0659, -0.0887, -0.0979,\n",
              "          -0.1018,  0.0449,  0.0110, -0.0551, -0.1218,  0.0164,  0.0188, -0.0963,\n",
              "           0.0001,  0.1060,  0.1098,  0.0582, -0.0042,  0.0312, -0.0104,  0.0466,\n",
              "           0.0481, -0.0729,  0.0901, -0.0407,  0.0761,  0.1135,  0.0878, -0.0430,\n",
              "           0.0121,  0.0547, -0.0048,  0.1129, -0.0333, -0.0333, -0.0388,  0.0925,\n",
              "          -0.0773, -0.0007, -0.0456, -0.0617, -0.0980, -0.0270, -0.0120,  0.0964,\n",
              "          -0.0544, -0.0799,  0.0662,  0.0513, -0.0130,  0.0027, -0.1126, -0.0389]],\n",
              "        requires_grad=True),\n",
              " Parameter containing:\n",
              " tensor([0.0724, 0.0664, 0.0896, 0.1127], requires_grad=True)]"
            ]
          },
          "metadata": {},
          "execution_count": 39
        }
      ],
      "source": [
        "list(model.parameters())"
      ]
    },
    {
      "cell_type": "markdown",
      "metadata": {
        "id": "xFbRtOqLfnh6"
      },
      "source": [
        "# Loss and Optimizer"
      ]
    },
    {
      "cell_type": "code",
      "execution_count": 40,
      "metadata": {
        "id": "EpzTOAOafj8e"
      },
      "outputs": [],
      "source": [
        "loss_fn = nn.CrossEntropyLoss()\n",
        "optimizer = optim.SGD(model.parameters(), lr=0.01)"
      ]
    },
    {
      "cell_type": "markdown",
      "metadata": {
        "id": "DY5JMY1Yftsr"
      },
      "source": [
        "# Device"
      ]
    },
    {
      "cell_type": "code",
      "execution_count": 41,
      "metadata": {
        "id": "z1dAzlvo2NG_"
      },
      "outputs": [],
      "source": [
        "device = 'cuda' if torch.cuda.is_available() else 'cpu'"
      ]
    },
    {
      "cell_type": "code",
      "execution_count": 42,
      "metadata": {
        "colab": {
          "base_uri": "https://localhost:8080/",
          "height": 36
        },
        "id": "B5dUuwsxUFYu",
        "outputId": "1a78c769-50ab-46c8-9f3c-08764dc5fa70"
      },
      "outputs": [
        {
          "output_type": "execute_result",
          "data": {
            "text/plain": [
              "'cpu'"
            ],
            "application/vnd.google.colaboratory.intrinsic+json": {
              "type": "string"
            }
          },
          "metadata": {},
          "execution_count": 42
        }
      ],
      "source": [
        "device"
      ]
    },
    {
      "cell_type": "code",
      "execution_count": 43,
      "metadata": {
        "id": "GFEFrYISUlVq"
      },
      "outputs": [],
      "source": [
        "model = model.to(device)"
      ]
    },
    {
      "cell_type": "markdown",
      "metadata": {
        "id": "mbpEEA0g1-Be"
      },
      "source": [
        "# **Utils**"
      ]
    },
    {
      "cell_type": "markdown",
      "metadata": {
        "id": "9FaKAxroExA2"
      },
      "source": [
        "## AVG meter"
      ]
    },
    {
      "cell_type": "code",
      "execution_count": 45,
      "metadata": {
        "id": "G6s889_UrqDT"
      },
      "outputs": [],
      "source": [
        "class AverageMeter(object):\n",
        "    \"\"\"Computes and stores the average and current value\"\"\"\n",
        "    def __init__(self):\n",
        "        self.reset()\n",
        "\n",
        "    def reset(self):\n",
        "        self.val = 0\n",
        "        self.avg = 0\n",
        "        self.sum = 0\n",
        "        self.count = 0\n",
        "\n",
        "    def update(self, val, n=1):\n",
        "        self.val = val\n",
        "        self.sum += val * n\n",
        "        self.count += n\n",
        "        self.avg = self.sum / self.count"
      ]
    },
    {
      "cell_type": "markdown",
      "metadata": {
        "id": "smHqYYnjfz0v"
      },
      "source": [
        "# Train Loop (CLS only)"
      ]
    },
    {
      "cell_type": "code",
      "execution_count": 46,
      "metadata": {
        "colab": {
          "base_uri": "https://localhost:8080/"
        },
        "id": "2n9nZeFMfvv1",
        "outputId": "5ee29b2e-742e-4d6e-f704-801c83e8893d"
      },
      "outputs": [
        {
          "output_type": "stream",
          "name": "stdout",
          "text": [
            "Epoch 0\n",
            "Train: Loss = 1.387, Acc = 0.2371\n",
            "Valid: Loss = 1.386, Acc = 0.2433\n",
            "\n",
            "Epoch 10\n",
            "Train: Loss = 1.379, Acc = 0.3779\n",
            "Valid: Loss = 1.38, Acc = 0.3433\n",
            "\n",
            "Epoch 20\n",
            "Train: Loss = 1.369, Acc = 0.4507\n",
            "Valid: Loss = 1.37, Acc = 0.4183\n",
            "\n",
            "Epoch 30\n",
            "Train: Loss = 1.348, Acc = 0.5171\n",
            "Valid: Loss = 1.351, Acc = 0.4967\n",
            "\n",
            "Epoch 40\n",
            "Train: Loss = 1.304, Acc = 0.5457\n",
            "Valid: Loss = 1.306, Acc = 0.5383\n",
            "\n",
            "Epoch 50\n",
            "Train: Loss = 1.197, Acc = 0.5321\n",
            "Valid: Loss = 1.196, Acc = 0.54\n",
            "\n",
            "Epoch 60\n",
            "Train: Loss = 0.9897, Acc = 0.5493\n",
            "Valid: Loss = 0.983, Acc = 0.5667\n",
            "\n",
            "Epoch 70\n",
            "Train: Loss = 0.7803, Acc = 0.695\n",
            "Valid: Loss = 0.7735, Acc = 0.7267\n",
            "\n",
            "Epoch 80\n",
            "Train: Loss = 0.6181, Acc = 0.8407\n",
            "Valid: Loss = 0.6151, Acc = 0.84\n",
            "\n",
            "Epoch 90\n",
            "Train: Loss = 0.4884, Acc = 0.8857\n",
            "Valid: Loss = 0.4914, Acc = 0.8783\n",
            "\n",
            "Epoch 100\n",
            "Train: Loss = 0.3896, Acc = 0.9114\n",
            "Valid: Loss = 0.3998, Acc = 0.9017\n",
            "\n",
            "Epoch 110\n",
            "Train: Loss = 0.3163, Acc = 0.9307\n",
            "Valid: Loss = 0.3347, Acc = 0.9117\n",
            "\n",
            "Epoch 120\n",
            "Train: Loss = 0.2627, Acc = 0.9386\n",
            "Valid: Loss = 0.2892, Acc = 0.9183\n",
            "\n",
            "Epoch 130\n",
            "Train: Loss = 0.2222, Acc = 0.9457\n",
            "Valid: Loss = 0.2574, Acc = 0.9217\n",
            "\n",
            "Epoch 140\n",
            "Train: Loss = 0.1918, Acc = 0.9536\n",
            "Valid: Loss = 0.2344, Acc = 0.9267\n",
            "\n",
            "Epoch 150\n",
            "Train: Loss = 0.1673, Acc = 0.9621\n",
            "Valid: Loss = 0.2179, Acc = 0.93\n",
            "\n",
            "Epoch 160\n",
            "Train: Loss = 0.1476, Acc = 0.965\n",
            "Valid: Loss = 0.205, Acc = 0.93\n",
            "\n",
            "Epoch 170\n",
            "Train: Loss = 0.1315, Acc = 0.9693\n",
            "Valid: Loss = 0.1958, Acc = 0.93\n",
            "\n",
            "Epoch 180\n",
            "Train: Loss = 0.1184, Acc = 0.9721\n",
            "Valid: Loss = 0.1893, Acc = 0.9283\n",
            "\n",
            "Epoch 190\n",
            "Train: Loss = 0.1063, Acc = 0.9743\n",
            "Valid: Loss = 0.1833, Acc = 0.93\n",
            "\n",
            "Epoch 200\n",
            "Train: Loss = 0.09613, Acc = 0.9829\n",
            "Valid: Loss = 0.1794, Acc = 0.9317\n",
            "\n",
            "Epoch 210\n",
            "Train: Loss = 0.08735, Acc = 0.9836\n",
            "Valid: Loss = 0.1757, Acc = 0.9283\n",
            "\n",
            "Epoch 220\n",
            "Train: Loss = 0.07974, Acc = 0.9879\n",
            "Valid: Loss = 0.1734, Acc = 0.9283\n",
            "\n",
            "Epoch 230\n",
            "Train: Loss = 0.07327, Acc = 0.9893\n",
            "Valid: Loss = 0.1714, Acc = 0.93\n",
            "\n",
            "Epoch 240\n",
            "Train: Loss = 0.06654, Acc = 0.9929\n",
            "Valid: Loss = 0.1692, Acc = 0.925\n",
            "\n",
            "Epoch 250\n",
            "Train: Loss = 0.06116, Acc = 0.9943\n",
            "Valid: Loss = 0.1683, Acc = 0.925\n",
            "\n",
            "Epoch 260\n",
            "Train: Loss = 0.05618, Acc = 0.9943\n",
            "Valid: Loss = 0.1673, Acc = 0.925\n",
            "\n",
            "Epoch 270\n",
            "Train: Loss = 0.05182, Acc = 0.9957\n",
            "Valid: Loss = 0.1676, Acc = 0.925\n",
            "\n",
            "Epoch 280\n",
            "Train: Loss = 0.04795, Acc = 0.9964\n",
            "Valid: Loss = 0.1674, Acc = 0.9217\n",
            "\n",
            "Epoch 290\n",
            "Train: Loss = 0.04424, Acc = 0.9964\n",
            "Valid: Loss = 0.1687, Acc = 0.925\n",
            "\n",
            "Epoch 300\n",
            "Train: Loss = 0.04096, Acc = 0.9971\n",
            "Valid: Loss = 0.1686, Acc = 0.9267\n",
            "\n",
            "Epoch 310\n",
            "Train: Loss = 0.03807, Acc = 0.9979\n",
            "Valid: Loss = 0.1694, Acc = 0.925\n",
            "\n",
            "Epoch 320\n",
            "Train: Loss = 0.03531, Acc = 0.9986\n",
            "Valid: Loss = 0.17, Acc = 0.925\n",
            "\n",
            "Epoch 330\n",
            "Train: Loss = 0.03282, Acc = 0.9993\n",
            "Valid: Loss = 0.171, Acc = 0.9233\n",
            "\n",
            "Epoch 340\n",
            "Train: Loss = 0.0307, Acc = 0.9993\n",
            "Valid: Loss = 0.1713, Acc = 0.9267\n",
            "\n",
            "Epoch 350\n",
            "Train: Loss = 0.02851, Acc = 0.9993\n",
            "Valid: Loss = 0.1726, Acc = 0.9267\n",
            "\n",
            "Epoch 360\n",
            "Train: Loss = 0.02663, Acc = 1.0\n",
            "Valid: Loss = 0.1736, Acc = 0.9267\n",
            "\n",
            "Epoch 370\n",
            "Train: Loss = 0.02488, Acc = 1.0\n",
            "Valid: Loss = 0.1747, Acc = 0.925\n",
            "\n",
            "Epoch 380\n",
            "Train: Loss = 0.02332, Acc = 1.0\n",
            "Valid: Loss = 0.1763, Acc = 0.925\n",
            "\n",
            "Epoch 390\n",
            "Train: Loss = 0.02185, Acc = 1.0\n",
            "Valid: Loss = 0.1775, Acc = 0.925\n",
            "\n"
          ]
        }
      ],
      "source": [
        "num_epochs = 400\n",
        "\n",
        "loss_train_hist = []\n",
        "loss_valid_hist = []\n",
        "\n",
        "acc_train_hist = []\n",
        "acc_valid_hist = []\n",
        "\n",
        "for epoch in range(num_epochs):\n",
        "  loss_train = AverageMeter()\n",
        "  acc_train = Accuracy(task='multiclass', num_classes=4).to(device)\n",
        "  for i, (inputs, targets) in enumerate(train_loader):\n",
        "    inputs = inputs.to(device)\n",
        "    targets = targets.to(device)\n",
        "\n",
        "    outputs = model(inputs)\n",
        "\n",
        "    loss = loss_fn(outputs, targets)\n",
        "\n",
        "    loss.backward()\n",
        "    optimizer.step()\n",
        "    optimizer.zero_grad()\n",
        "\n",
        "    loss_train.update(loss.item())\n",
        "    acc_train(outputs, targets)\n",
        "\n",
        "  with torch.no_grad():\n",
        "    loss_valid = AverageMeter()\n",
        "    acc_valid = Accuracy(task='multiclass', num_classes=4).to(device)\n",
        "    for i, (inputs, targets) in enumerate(valid_loader):\n",
        "      inputs = inputs.to(device)\n",
        "      targets = targets.to(device)\n",
        "\n",
        "      outputs = model(inputs)\n",
        "      loss = loss_fn(outputs, targets)\n",
        "\n",
        "      loss_valid.update(loss.item())\n",
        "      acc_valid(outputs, targets)\n",
        "\n",
        "  loss_train_hist.append(loss_train.avg)\n",
        "  loss_valid_hist.append(loss_valid.avg)\n",
        "\n",
        "  acc_train_hist.append(acc_train.compute())\n",
        "  acc_valid_hist.append(acc_valid.compute())\n",
        "\n",
        "  if epoch % 10 == 0:\n",
        "    print(f'Epoch {epoch}')\n",
        "    print(f'Train: Loss = {loss_train.avg:.4}, Acc = {acc_train.compute():.4}')\n",
        "    print(f'Valid: Loss = {loss_valid.avg:.4}, Acc = {acc_valid.compute():.4}')\n",
        "    print()"
      ]
    },
    {
      "cell_type": "markdown",
      "metadata": {
        "id": "bzrFLSkIgNmL"
      },
      "source": [
        "# Monitoring model performance"
      ]
    },
    {
      "cell_type": "markdown",
      "metadata": {
        "id": "ARmfVUbmf8ug"
      },
      "source": [
        "## Loss curve"
      ]
    },
    {
      "cell_type": "code",
      "execution_count": 47,
      "metadata": {
        "id": "xFr4fs9Vf7-G",
        "colab": {
          "base_uri": "https://localhost:8080/",
          "height": 466
        },
        "outputId": "4b5d26ff-7968-4277-b04e-e3d1568b8377"
      },
      "outputs": [
        {
          "output_type": "execute_result",
          "data": {
            "text/plain": [
              "<matplotlib.legend.Legend at 0x7ad56a6366b0>"
            ]
          },
          "metadata": {},
          "execution_count": 47
        },
        {
          "output_type": "display_data",
          "data": {
            "text/plain": [
              "<Figure size 640x480 with 1 Axes>"
            ],
            "image/png": "[encoded data removed]"
          },
          "metadata": {}
        }
      ],
      "source": [
        "plt.plot(range(num_epochs), loss_train_hist, 'r-', label='Train')\n",
        "plt.plot(range(num_epochs), loss_valid_hist, 'b-', label='Validation')\n",
        "\n",
        "plt.xlabel('Epoch')\n",
        "plt.ylabel('Loss')\n",
        "plt.grid(True)\n",
        "plt.legend()"
      ]
    },
    {
      "cell_type": "markdown",
      "metadata": {
        "id": "9jcu4Kzi76tD"
      },
      "source": [
        "## Accuracy plot"
      ]
    },
    {
      "cell_type": "code",
      "execution_count": 48,
      "metadata": {
        "id": "e_820-mcgLJa",
        "colab": {
          "base_uri": "https://localhost:8080/",
          "height": 466
        },
        "outputId": "904e7c8c-31f4-484c-8348-5751518154e1"
      },
      "outputs": [
        {
          "output_type": "execute_result",
          "data": {
            "text/plain": [
              "<matplotlib.legend.Legend at 0x7ad56a6364a0>"
            ]
          },
          "metadata": {},
          "execution_count": 48
        },
        {
          "output_type": "display_data",
          "data": {
            "text/plain": [
              "<Figure size 640x480 with 1 Axes>"
            ],
            "image/png": "[encoded data removed]"
          },
          "metadata": {}
        }
      ],
      "source": [
        "plt.plot(range(num_epochs), acc_train_hist, 'r-', label='Train')\n",
        "plt.plot(range(num_epochs), acc_valid_hist, 'b-', label='Validation')\n",
        "\n",
        "plt.xlabel('Epoch')\n",
        "plt.ylabel('Acc')\n",
        "plt.grid(True)\n",
        "plt.legend()"
      ]
    },
    {
      "cell_type": "markdown",
      "metadata": {
        "id": "QqgL2fWH95qz"
      },
      "source": [
        "# Save and load model"
      ]
    },
    {
      "cell_type": "code",
      "execution_count": 49,
      "metadata": {
        "id": "wv8dnH8h99NX"
      },
      "outputs": [],
      "source": [
        "torch.save(model, 'model.pth')"
      ]
    },
    {
      "cell_type": "code",
      "execution_count": 50,
      "metadata": {
        "id": "_Qxy6Cp80qXo"
      },
      "outputs": [],
      "source": [
        "mymodel = torch.load('model.pth')"
      ]
    },
    {
      "cell_type": "code",
      "source": [
        "mymodel"
      ],
      "metadata": {
        "id": "KU50ddrL0ugd",
        "outputId": "ffe8852b-16aa-4d3f-81a4-62222f67f791",
        "colab": {
          "base_uri": "https://localhost:8080/"
        }
      },
      "execution_count": 51,
      "outputs": [
        {
          "output_type": "execute_result",
          "data": {
            "text/plain": [
              "Sequential(\n",
              "  (0): Linear(in_features=20, out_features=128, bias=True)\n",
              "  (1): ReLU()\n",
              "  (2): Linear(in_features=128, out_features=256, bias=True)\n",
              "  (3): ReLU()\n",
              "  (4): Linear(in_features=256, out_features=64, bias=True)\n",
              "  (5): ReLU()\n",
              "  (6): Linear(in_features=64, out_features=4, bias=True)\n",
              ")"
            ]
          },
          "metadata": {},
          "execution_count": 51
        }
      ]
    }
  ],
  "metadata": {
    "colab": {
      "collapsed_sections": [
        "fQFlVvECeZsD",
        "OsNaqujTeiGx",
        "_RlAcfkrvBDn",
        "Q6PmiPs8ywKY",
        "IRW18V_oys_n",
        "5qOD027He6RR",
        "5w5NN9K80w3r",
        "t37KJ4cVEWAW",
        "2QWZFlZFES5P",
        "XQtUFreK0tjS",
        "Fy195c8EfWDJ",
        "DHQLMJH41Cjf",
        "UqBb145D1PC5",
        "-NBcJXJkfgUI",
        "xFbRtOqLfnh6",
        "DY5JMY1Yftsr",
        "mbpEEA0g1-Be",
        "9FaKAxroExA2",
        "4eRJfJv_EtQ8",
        "smHqYYnjfz0v",
        "bzrFLSkIgNmL",
        "ARmfVUbmf8ug",
        "9jcu4Kzi76tD",
        "QqgL2fWH95qz"
      ],
      "provenance": []
    },
    "kernelspec": {
      "display_name": "Python 3",
      "name": "python3"
    },
    "language_info": {
      "name": "python"
    }
  },
  "nbformat": 4,
  "nbformat_minor": 0
}