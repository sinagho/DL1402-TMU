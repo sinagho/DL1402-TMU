{
  "nbformat": 4,
  "nbformat_minor": 0,
  "metadata": {
    "colab": {
      "provenance": [],
      "gpuType": "T4"
    },
    "kernelspec": {
      "name": "python3",
      "display_name": "Python 3"
    },
    "language_info": {
      "name": "python"
    },
    "accelerator": "GPU"
  },
  "cells": [
    {
      "cell_type": "markdown",
      "source": [
        "##**Import Library**"
      ],
      "metadata": {
        "id": "B8fWtlgUCOzm"
      }
    },
    {
      "cell_type": "code",
      "source": [
        "import torch"
      ],
      "metadata": {
        "id": "cz6pzRjxCWfq"
      },
      "execution_count": 112,
      "outputs": []
    },
    {
      "cell_type": "markdown",
      "source": [
        "## **create scaler - vector - matrix**"
      ],
      "metadata": {
        "id": "5Y_rccxPkYjJ"
      }
    },
    {
      "cell_type": "code",
      "source": [
        "scaler = torch.tensor(1.2)\n",
        "scaler"
      ],
      "metadata": {
        "colab": {
          "base_uri": "https://localhost:8080/"
        },
        "id": "mKIwVs_CkgNe",
        "outputId": "13d34c70-3a85-46c7-89c1-fac6f4011fa3"
      },
      "execution_count": 2,
      "outputs": [
        {
          "output_type": "execute_result",
          "data": {
            "text/plain": [
              "tensor(1.2000)"
            ]
          },
          "metadata": {},
          "execution_count": 2
        }
      ]
    },
    {
      "cell_type": "code",
      "source": [
        "vector = torch.tensor([2,5,8,6.8])\n",
        "vector"
      ],
      "metadata": {
        "colab": {
          "base_uri": "https://localhost:8080/"
        },
        "id": "6w1RB1gBkmzk",
        "outputId": "3b5d030b-89d7-4da9-8059-2f8e325dfd8c"
      },
      "execution_count": 3,
      "outputs": [
        {
          "output_type": "execute_result",
          "data": {
            "text/plain": [
              "tensor([2.0000, 5.0000, 8.0000, 6.8000])"
            ]
          },
          "metadata": {},
          "execution_count": 3
        }
      ]
    },
    {
      "cell_type": "code",
      "source": [
        "# torch.set_printoptions(precision=2)"
      ],
      "metadata": {
        "id": "u7Wv3xZJl2oC"
      },
      "execution_count": 4,
      "outputs": []
    },
    {
      "cell_type": "code",
      "source": [
        "matrix2D = torch.tensor([[1,2],\n",
        "                       [3,4]])\n",
        "print(\"matrix2D :\",matrix2D)\n",
        "matrix4D = torch.tensor([[\n",
        "                       [[1,2,4,6],\n",
        "                       [3,4,5,7]],\n",
        "\n",
        "                       [[5,6,7,9],\n",
        "                        [7,8,8,8]],\n",
        "\n",
        "                       [[5,6,7,9],\n",
        "                        [7,8,8,8]]\n",
        "\n",
        "                       ]])\n",
        "print(\"matrix4D :\",matrix3D)"
      ],
      "metadata": {
        "id": "kWLy9kIvoVL8",
        "colab": {
          "base_uri": "https://localhost:8080/"
        },
        "outputId": "d92c1dae-29d4-4deb-eb3e-2cb060a0b275"
      },
      "execution_count": 22,
      "outputs": [
        {
          "output_type": "stream",
          "name": "stdout",
          "text": [
            "matrix2D : tensor([[1, 2],\n",
            "        [3, 4]])\n",
            "matrix4D : tensor([[[[1, 2, 4, 6],\n",
            "          [3, 4, 5, 7]],\n",
            "\n",
            "         [[5, 6, 7, 9],\n",
            "          [7, 8, 8, 8]],\n",
            "\n",
            "         [[5, 6, 7, 9],\n",
            "          [7, 8, 8, 8]]]])\n"
          ]
        }
      ]
    },
    {
      "cell_type": "markdown",
      "source": [
        "##**Data Type**"
      ],
      "metadata": {
        "id": "s_Q4etIHCb4j"
      }
    },
    {
      "cell_type": "markdown",
      "source": [
        "https://pytorch.org/docs/stable/tensors.html"
      ],
      "metadata": {
        "id": "Wba8zZR-CZP8"
      }
    },
    {
      "cell_type": "code",
      "source": [
        "scaler.dtype"
      ],
      "metadata": {
        "id": "g5stv2qcCaxv",
        "colab": {
          "base_uri": "https://localhost:8080/"
        },
        "outputId": "f3a8253d-c86e-4a76-cd20-6a8eeee43f77"
      },
      "execution_count": 6,
      "outputs": [
        {
          "output_type": "execute_result",
          "data": {
            "text/plain": [
              "torch.float32"
            ]
          },
          "metadata": {},
          "execution_count": 6
        }
      ]
    },
    {
      "cell_type": "code",
      "source": [
        "c = torch.tensor([1, 2], dtype=torch.uint8)\n",
        "print(c.dtype)\n",
        "c = torch.tensor([1, 2], dtype=torch.double)\n",
        "print(c.dtype)"
      ],
      "metadata": {
        "id": "pVTFn8JEfDot",
        "colab": {
          "base_uri": "https://localhost:8080/"
        },
        "outputId": "ea6a463d-099b-433c-cd23-c92fbcf295c5"
      },
      "execution_count": 7,
      "outputs": [
        {
          "output_type": "stream",
          "name": "stdout",
          "text": [
            "torch.uint8\n",
            "torch.float64\n"
          ]
        }
      ]
    },
    {
      "cell_type": "markdown",
      "source": [
        "##**Tensor To Numpy**"
      ],
      "metadata": {
        "id": "mQoB20SKt4aO"
      }
    },
    {
      "cell_type": "code",
      "source": [
        "import numpy as np\n",
        "a = torch.tensor([2,5,8,6.8])\n",
        "a.numpy() # numpy to tensor"
      ],
      "metadata": {
        "id": "wxa_uzJVfDxN",
        "colab": {
          "base_uri": "https://localhost:8080/"
        },
        "outputId": "3255fafb-9795-4600-ada0-f1c63fc0f70f"
      },
      "execution_count": 8,
      "outputs": [
        {
          "output_type": "execute_result",
          "data": {
            "text/plain": [
              "array([2. , 5. , 8. , 6.8], dtype=float32)"
            ]
          },
          "metadata": {},
          "execution_count": 8
        }
      ]
    },
    {
      "cell_type": "markdown",
      "source": [
        "##**Numpy To Tensor**"
      ],
      "metadata": {
        "id": "udUoejm5uQdF"
      }
    },
    {
      "cell_type": "code",
      "source": [
        "b = np.array([1, 2, 3])\n",
        "torch.tensor(b) # tensor to numpy"
      ],
      "metadata": {
        "id": "eADP50rlfLzW",
        "colab": {
          "base_uri": "https://localhost:8080/"
        },
        "outputId": "7af784ed-219a-4da9-f733-4a272501b5ba"
      },
      "execution_count": 9,
      "outputs": [
        {
          "output_type": "execute_result",
          "data": {
            "text/plain": [
              "tensor([1, 2, 3])"
            ]
          },
          "metadata": {},
          "execution_count": 9
        }
      ]
    },
    {
      "cell_type": "markdown",
      "source": [
        "##**Change Device**"
      ],
      "metadata": {
        "id": "HH4nAXQTus1I"
      }
    },
    {
      "cell_type": "code",
      "source": [
        "!nvidia-smi"
      ],
      "metadata": {
        "colab": {
          "base_uri": "https://localhost:8080/"
        },
        "id": "nUIzruPjtuC5",
        "outputId": "32839a94-9b8f-4938-8d23-5d6a4f6c8dbe"
      },
      "execution_count": 10,
      "outputs": [
        {
          "output_type": "stream",
          "name": "stdout",
          "text": [
            "Tue Nov  7 07:41:19 2023       \n",
            "+-----------------------------------------------------------------------------+\n",
            "| NVIDIA-SMI 525.105.17   Driver Version: 525.105.17   CUDA Version: 12.0     |\n",
            "|-------------------------------+----------------------+----------------------+\n",
            "| GPU  Name        Persistence-M| Bus-Id        Disp.A | Volatile Uncorr. ECC |\n",
            "| Fan  Temp  Perf  Pwr:Usage/Cap|         Memory-Usage | GPU-Util  Compute M. |\n",
            "|                               |                      |               MIG M. |\n",
            "|===============================+======================+======================|\n",
            "|   0  Tesla T4            Off  | 00000000:00:04.0 Off |                    0 |\n",
            "| N/A   39C    P8    10W /  70W |      0MiB / 15360MiB |      0%      Default |\n",
            "|                               |                      |                  N/A |\n",
            "+-------------------------------+----------------------+----------------------+\n",
            "                                                                               \n",
            "+-----------------------------------------------------------------------------+\n",
            "| Processes:                                                                  |\n",
            "|  GPU   GI   CI        PID   Type   Process name                  GPU Memory |\n",
            "|        ID   ID                                                   Usage      |\n",
            "|=============================================================================|\n",
            "|  No running processes found                                                 |\n",
            "+-----------------------------------------------------------------------------+\n"
          ]
        }
      ]
    },
    {
      "cell_type": "code",
      "source": [
        "torch.tensor([1,2],device='cuda')"
      ],
      "metadata": {
        "colab": {
          "base_uri": "https://localhost:8080/"
        },
        "id": "eOcPZaAPuqkJ",
        "outputId": "6c5828be-fbc9-4825-a68d-b5a3eac6e8c5"
      },
      "execution_count": 11,
      "outputs": [
        {
          "output_type": "execute_result",
          "data": {
            "text/plain": [
              "tensor([1, 2], device='cuda:0')"
            ]
          },
          "metadata": {},
          "execution_count": 11
        }
      ]
    },
    {
      "cell_type": "code",
      "source": [
        "scaler.cuda()"
      ],
      "metadata": {
        "colab": {
          "base_uri": "https://localhost:8080/"
        },
        "id": "ewnbGPujvqqe",
        "outputId": "2642cd55-9a78-4192-872a-17a3a21255b3"
      },
      "execution_count": 12,
      "outputs": [
        {
          "output_type": "execute_result",
          "data": {
            "text/plain": [
              "tensor(1.2000, device='cuda:0')"
            ]
          },
          "metadata": {},
          "execution_count": 12
        }
      ]
    },
    {
      "cell_type": "code",
      "source": [
        "scaler.cpu()"
      ],
      "metadata": {
        "colab": {
          "base_uri": "https://localhost:8080/"
        },
        "id": "lUusrb76vuMY",
        "outputId": "0a83b3a0-7e7a-405b-af2d-87313468ded8"
      },
      "execution_count": 13,
      "outputs": [
        {
          "output_type": "execute_result",
          "data": {
            "text/plain": [
              "tensor(1.2000)"
            ]
          },
          "metadata": {},
          "execution_count": 13
        }
      ]
    },
    {
      "cell_type": "markdown",
      "source": [
        "##**Methods**"
      ],
      "metadata": {
        "id": "aNwvFItqv8WJ"
      }
    },
    {
      "cell_type": "code",
      "source": [
        "matrix4D.shape"
      ],
      "metadata": {
        "colab": {
          "base_uri": "https://localhost:8080/"
        },
        "id": "FJ6R7M1MvxLA",
        "outputId": "8df1fed5-f095-4c47-e4c9-a45781579f42"
      },
      "execution_count": 23,
      "outputs": [
        {
          "output_type": "execute_result",
          "data": {
            "text/plain": [
              "torch.Size([1, 3, 2, 4])"
            ]
          },
          "metadata": {},
          "execution_count": 23
        }
      ]
    },
    {
      "cell_type": "code",
      "source": [
        "matrix4D.size(2)"
      ],
      "metadata": {
        "colab": {
          "base_uri": "https://localhost:8080/"
        },
        "id": "OsQQxsPawidg",
        "outputId": "e2e549e9-8818-45de-9946-c1d49bacf5e2"
      },
      "execution_count": 26,
      "outputs": [
        {
          "output_type": "execute_result",
          "data": {
            "text/plain": [
              "2"
            ]
          },
          "metadata": {},
          "execution_count": 26
        }
      ]
    },
    {
      "cell_type": "code",
      "source": [
        "matrix4D.max()"
      ],
      "metadata": {
        "colab": {
          "base_uri": "https://localhost:8080/"
        },
        "id": "5PER6WCzwif4",
        "outputId": "41569f71-fdc8-4d4c-edc5-df8cc403b3fb"
      },
      "execution_count": 27,
      "outputs": [
        {
          "output_type": "execute_result",
          "data": {
            "text/plain": [
              "tensor(9)"
            ]
          },
          "metadata": {},
          "execution_count": 27
        }
      ]
    },
    {
      "cell_type": "code",
      "source": [
        "vector.mean()"
      ],
      "metadata": {
        "colab": {
          "base_uri": "https://localhost:8080/"
        },
        "id": "sWPLpwl7wiii",
        "outputId": "57a397cd-d216-4d7a-8af3-11ebbbbbcd1e"
      },
      "execution_count": 32,
      "outputs": [
        {
          "output_type": "execute_result",
          "data": {
            "text/plain": [
              "tensor(5.4500)"
            ]
          },
          "metadata": {},
          "execution_count": 32
        }
      ]
    },
    {
      "cell_type": "code",
      "source": [
        "vec = torch.tensor([1.33, 2.59])\n",
        "vec1 = vec.ceil()\n",
        "print(vec)\n",
        "print(vec1)"
      ],
      "metadata": {
        "colab": {
          "base_uri": "https://localhost:8080/"
        },
        "id": "29JDMk6tyLY4",
        "outputId": "e9c759f3-04f7-4fd4-e2bf-a52ec9ea824e"
      },
      "execution_count": 39,
      "outputs": [
        {
          "output_type": "stream",
          "name": "stdout",
          "text": [
            "tensor([1.3300, 2.5900])\n",
            "tensor([2., 3.])\n"
          ]
        }
      ]
    },
    {
      "cell_type": "code",
      "source": [
        "vec.ceil_()\n",
        "vec"
      ],
      "metadata": {
        "colab": {
          "base_uri": "https://localhost:8080/"
        },
        "id": "CZU5EIzOzD3G",
        "outputId": "a9976f0a-c04d-470f-a726-6a520ba1b262"
      },
      "execution_count": 38,
      "outputs": [
        {
          "output_type": "execute_result",
          "data": {
            "text/plain": [
              "tensor([2., 3.])"
            ]
          },
          "metadata": {},
          "execution_count": 38
        }
      ]
    },
    {
      "cell_type": "code",
      "source": [
        "one = torch.ones((2, 3))\n",
        "zero = torch.zeros((2, 3))\n",
        "\n",
        "print(one)\n",
        "print(zero)"
      ],
      "metadata": {
        "colab": {
          "base_uri": "https://localhost:8080/"
        },
        "id": "CuUG6JuhzUEP",
        "outputId": "49ac8327-c020-4e04-ff8a-703308733dd1"
      },
      "execution_count": 47,
      "outputs": [
        {
          "output_type": "stream",
          "name": "stdout",
          "text": [
            "tensor([[1., 1., 1.],\n",
            "        [1., 1., 1.]])\n",
            "tensor([[0., 0., 0.],\n",
            "        [0., 0., 0.]])\n"
          ]
        }
      ]
    },
    {
      "cell_type": "code",
      "source": [
        "empty = torch.empty((2, 3))\n",
        "empty.fill_(1.2)"
      ],
      "metadata": {
        "colab": {
          "base_uri": "https://localhost:8080/"
        },
        "id": "iJOTOWDq0Y91",
        "outputId": "d77fa875-ec88-41f7-8fd1-a2ebebaaeeaf"
      },
      "execution_count": 48,
      "outputs": [
        {
          "output_type": "execute_result",
          "data": {
            "text/plain": [
              "tensor([[1.2000, 1.2000, 1.2000],\n",
              "        [1.2000, 1.2000, 1.2000]])"
            ]
          },
          "metadata": {},
          "execution_count": 48
        }
      ]
    },
    {
      "cell_type": "code",
      "source": [
        "torch.full((2,3),1.2)"
      ],
      "metadata": {
        "colab": {
          "base_uri": "https://localhost:8080/"
        },
        "id": "XObbVC4x0yKh",
        "outputId": "9a9afefb-402c-4d63-e48d-1e8b571f31e4"
      },
      "execution_count": 49,
      "outputs": [
        {
          "output_type": "execute_result",
          "data": {
            "text/plain": [
              "tensor([[1.2000, 1.2000, 1.2000],\n",
              "        [1.2000, 1.2000, 1.2000]])"
            ]
          },
          "metadata": {},
          "execution_count": 49
        }
      ]
    },
    {
      "cell_type": "code",
      "source": [
        "torch.zeros_like(vector)"
      ],
      "metadata": {
        "colab": {
          "base_uri": "https://localhost:8080/"
        },
        "id": "ee4zn-GE0-Ag",
        "outputId": "8479007b-4670-475f-b6f7-7464131253a6"
      },
      "execution_count": 50,
      "outputs": [
        {
          "output_type": "execute_result",
          "data": {
            "text/plain": [
              "tensor([0., 0., 0., 0.])"
            ]
          },
          "metadata": {},
          "execution_count": 50
        }
      ]
    },
    {
      "cell_type": "markdown",
      "source": [
        "##**Random Arrays**"
      ],
      "metadata": {
        "id": "u9yDEAK91UJF"
      }
    },
    {
      "cell_type": "code",
      "source": [
        "import matplotlib.pyplot as plt"
      ],
      "metadata": {
        "id": "UigsQ13N9BcV"
      },
      "execution_count": 66,
      "outputs": []
    },
    {
      "cell_type": "code",
      "source": [
        "uniform  = torch.rand((2, 3))\n",
        "uniform"
      ],
      "metadata": {
        "colab": {
          "base_uri": "https://localhost:8080/",
          "height": 537
        },
        "id": "FKBuTcRa1YCR",
        "outputId": "b2124c11-dc9f-4d95-9523-5045a2b0e6c4"
      },
      "execution_count": 58,
      "outputs": [
        {
          "output_type": "execute_result",
          "data": {
            "text/plain": [
              "(array([[1., 0., 1., 0., 0., 0., 0., 1., 0., 0.],\n",
              "        [0., 1., 0., 0., 0., 0., 1., 0., 0., 1.]]),\n",
              " array([0.23292285, 0.3089402 , 0.38495755, 0.46097487, 0.53699225,\n",
              "        0.61300957, 0.68902689, 0.76504427, 0.84106159, 0.91707897,\n",
              "        0.99309629]),\n",
              " <a list of 2 BarContainer objects>)"
            ]
          },
          "metadata": {},
          "execution_count": 58
        },
        {
          "output_type": "display_data",
          "data": {
            "text/plain": [
              "<Figure size 640x480 with 1 Axes>"
            ],
            "image/png": "[encoded data removed]"
          },
          "metadata": {}
        }
      ]
    },
    {
      "cell_type": "code",
      "source": [
        "normal = torch.randn(1000)\n",
        "normal\n",
        "plt.hist(normal)"
      ],
      "metadata": {
        "colab": {
          "base_uri": "https://localhost:8080/",
          "height": 519
        },
        "id": "Eiv3hMZA3vZR",
        "outputId": "66ca3667-24ee-46b7-a450-44b16cda9c66"
      },
      "execution_count": 65,
      "outputs": [
        {
          "output_type": "execute_result",
          "data": {
            "text/plain": [
              "(array([ 13.,  38., 106., 197., 213., 196., 157.,  60.,  15.,   5.]),\n",
              " array([-2.76655173, -2.17417002, -1.58178818, -0.98940635, -0.39702457,\n",
              "         0.1953572 ,  0.78773898,  1.38012075,  1.97250259,  2.56488442,\n",
              "         3.15726614]),\n",
              " <BarContainer object of 10 artists>)"
            ]
          },
          "metadata": {},
          "execution_count": 65
        },
        {
          "output_type": "display_data",
          "data": {
            "text/plain": [
              "<Figure size 640x480 with 1 Axes>"
            ],
            "image/png": "[encoded data removed]"
          },
          "metadata": {}
        }
      ]
    },
    {
      "cell_type": "code",
      "source": [
        "torch.randint(2, 12, (2, 5))"
      ],
      "metadata": {
        "colab": {
          "base_uri": "https://localhost:8080/"
        },
        "id": "V_jAyxle4BkX",
        "outputId": "fd176173-0c40-4f83-e053-fb6d8ee939cc"
      },
      "execution_count": 73,
      "outputs": [
        {
          "output_type": "execute_result",
          "data": {
            "text/plain": [
              "tensor([[ 5,  8,  4,  3,  8],\n",
              "        [11, 10, 10, 10,  4]])"
            ]
          },
          "metadata": {},
          "execution_count": 73
        }
      ]
    },
    {
      "cell_type": "code",
      "source": [
        "torch.manual_seed(0)\n",
        "torch.randint(2, 12, (2, 5))"
      ],
      "metadata": {
        "colab": {
          "base_uri": "https://localhost:8080/"
        },
        "id": "A9JLDxX04MHZ",
        "outputId": "26f6fe2d-7a85-4570-f5a7-73b34d8d6a44"
      },
      "execution_count": 80,
      "outputs": [
        {
          "output_type": "execute_result",
          "data": {
            "text/plain": [
              "tensor([[ 6, 11,  5,  2,  5],\n",
              "        [11,  9,  5,  9,  5]])"
            ]
          },
          "metadata": {},
          "execution_count": 80
        }
      ]
    },
    {
      "cell_type": "markdown",
      "source": [
        "##**Indexing & Slicing**"
      ],
      "metadata": {
        "id": "KsVtUZpI4lKt"
      }
    },
    {
      "cell_type": "code",
      "source": [
        "a = torch.randn(5)\n",
        "a"
      ],
      "metadata": {
        "colab": {
          "base_uri": "https://localhost:8080/"
        },
        "id": "wTFKgnNi4nrQ",
        "outputId": "7dafb4de-6183-463a-ad1d-afa0dab960f3"
      },
      "execution_count": 81,
      "outputs": [
        {
          "output_type": "execute_result",
          "data": {
            "text/plain": [
              "tensor([ 0.1604, -0.6065, -0.7831,  1.0622, -0.2613])"
            ]
          },
          "metadata": {},
          "execution_count": 81
        }
      ]
    },
    {
      "cell_type": "code",
      "source": [
        "a[4]"
      ],
      "metadata": {
        "colab": {
          "base_uri": "https://localhost:8080/"
        },
        "id": "3_80RvBu4o_4",
        "outputId": "210bbe86-6254-41ce-9fab-c9a49abe87a9"
      },
      "execution_count": 82,
      "outputs": [
        {
          "output_type": "execute_result",
          "data": {
            "text/plain": [
              "tensor(-0.2613)"
            ]
          },
          "metadata": {},
          "execution_count": 82
        }
      ]
    },
    {
      "cell_type": "markdown",
      "source": [
        "........................."
      ],
      "metadata": {
        "id": "-9LvMA-W-WRR"
      }
    },
    {
      "cell_type": "code",
      "source": [
        "b = torch.rand(2, 3)\n",
        "b"
      ],
      "metadata": {
        "colab": {
          "base_uri": "https://localhost:8080/"
        },
        "id": "ZKiojgbv44l6",
        "outputId": "06214734-f38d-4853-a6e9-5955ed8bfb2a"
      },
      "execution_count": 87,
      "outputs": [
        {
          "output_type": "execute_result",
          "data": {
            "text/plain": [
              "tensor([[0.6047, 0.1100, 0.2121],\n",
              "        [0.9704, 0.8369, 0.2820]])"
            ]
          },
          "metadata": {},
          "execution_count": 87
        }
      ]
    },
    {
      "cell_type": "code",
      "source": [
        "b[1, 2]"
      ],
      "metadata": {
        "colab": {
          "base_uri": "https://localhost:8080/"
        },
        "id": "cgFGgcI345k3",
        "outputId": "7588f5b8-c63b-4468-8558-f1207b29fab9"
      },
      "execution_count": 88,
      "outputs": [
        {
          "output_type": "execute_result",
          "data": {
            "text/plain": [
              "tensor(0.2820)"
            ]
          },
          "metadata": {},
          "execution_count": 88
        }
      ]
    },
    {
      "cell_type": "code",
      "source": [
        "b[1]"
      ],
      "metadata": {
        "colab": {
          "base_uri": "https://localhost:8080/"
        },
        "id": "FFgDeb8b45nZ",
        "outputId": "06b3b03f-811c-4fa9-8c49-a144459d6482"
      },
      "execution_count": 89,
      "outputs": [
        {
          "output_type": "execute_result",
          "data": {
            "text/plain": [
              "tensor([0.9704, 0.8369, 0.2820])"
            ]
          },
          "metadata": {},
          "execution_count": 89
        }
      ]
    },
    {
      "cell_type": "markdown",
      "source": [
        "..........................."
      ],
      "metadata": {
        "id": "upagzwGJ-Sg7"
      }
    },
    {
      "cell_type": "code",
      "source": [
        "c = torch.randint(1,100, (2, 3, 4))\n",
        "c"
      ],
      "metadata": {
        "colab": {
          "base_uri": "https://localhost:8080/"
        },
        "id": "3Lq5FRCX45qI",
        "outputId": "49db0d22-c3c9-4b95-c022-b5ea34f90719"
      },
      "execution_count": 93,
      "outputs": [
        {
          "output_type": "execute_result",
          "data": {
            "text/plain": [
              "tensor([[[55, 86, 50, 39],\n",
              "         [97, 26, 44, 91],\n",
              "         [64, 80, 71, 49]],\n",
              "\n",
              "        [[ 4,  7, 29, 87],\n",
              "         [68, 95, 95, 41],\n",
              "         [71, 28, 27, 87]]])"
            ]
          },
          "metadata": {},
          "execution_count": 93
        }
      ]
    },
    {
      "cell_type": "code",
      "source": [
        "c[1, 0, 2]"
      ],
      "metadata": {
        "colab": {
          "base_uri": "https://localhost:8080/"
        },
        "id": "bISpI3dj45sq",
        "outputId": "ac30dd03-650d-465e-cb55-bf96b8e94c61"
      },
      "execution_count": 94,
      "outputs": [
        {
          "output_type": "execute_result",
          "data": {
            "text/plain": [
              "tensor(29)"
            ]
          },
          "metadata": {},
          "execution_count": 94
        }
      ]
    },
    {
      "cell_type": "markdown",
      "source": [
        ".................................."
      ],
      "metadata": {
        "id": "x_lZGsnR-P5r"
      }
    },
    {
      "cell_type": "code",
      "source": [
        "a = torch.randn(5)\n",
        "a"
      ],
      "metadata": {
        "colab": {
          "base_uri": "https://localhost:8080/"
        },
        "id": "y-N8BqOV5dJb",
        "outputId": "83ee7f81-8f26-4286-a6dc-e1c157bd2d8e"
      },
      "execution_count": 96,
      "outputs": [
        {
          "output_type": "execute_result",
          "data": {
            "text/plain": [
              "tensor([0.6297, 0.1781, 0.3893, 1.4593, 1.3651])"
            ]
          },
          "metadata": {},
          "execution_count": 96
        }
      ]
    },
    {
      "cell_type": "code",
      "source": [
        "a[1:3]"
      ],
      "metadata": {
        "colab": {
          "base_uri": "https://localhost:8080/"
        },
        "id": "uwa43EhQ5mac",
        "outputId": "8bc48a12-f462-4afc-cf65-fc4d3a8ac018"
      },
      "execution_count": 97,
      "outputs": [
        {
          "output_type": "execute_result",
          "data": {
            "text/plain": [
              "tensor([0.1781, 0.3893])"
            ]
          },
          "metadata": {},
          "execution_count": 97
        }
      ]
    },
    {
      "cell_type": "code",
      "source": [
        "a[1::3]"
      ],
      "metadata": {
        "colab": {
          "base_uri": "https://localhost:8080/"
        },
        "id": "AuV01R695dNK",
        "outputId": "7853b2aa-afed-4f8d-8921-1882282fcb0f"
      },
      "execution_count": 98,
      "outputs": [
        {
          "output_type": "execute_result",
          "data": {
            "text/plain": [
              "tensor([0.1781, 1.3651])"
            ]
          },
          "metadata": {},
          "execution_count": 98
        }
      ]
    },
    {
      "cell_type": "code",
      "source": [
        "a[[0, 3, 4, 2]]"
      ],
      "metadata": {
        "colab": {
          "base_uri": "https://localhost:8080/"
        },
        "id": "fbmvxiTX5dP6",
        "outputId": "be4acfec-ffad-4031-d3fa-f04fed4b1f66"
      },
      "execution_count": 99,
      "outputs": [
        {
          "output_type": "execute_result",
          "data": {
            "text/plain": [
              "tensor([0.6297, 1.4593, 1.3651, 0.3893])"
            ]
          },
          "metadata": {},
          "execution_count": 99
        }
      ]
    },
    {
      "cell_type": "markdown",
      "source": [
        "##**Matrix Multiplication**"
      ],
      "metadata": {
        "id": "9jkFIPus6A-T"
      }
    },
    {
      "cell_type": "code",
      "source": [
        "a = torch.randint(5, (2,2))\n",
        "a"
      ],
      "metadata": {
        "colab": {
          "base_uri": "https://localhost:8080/"
        },
        "id": "Uxqvl4wd6GNL",
        "outputId": "45b80e44-02bf-4dbe-c22a-00fee0038d52"
      },
      "execution_count": 100,
      "outputs": [
        {
          "output_type": "execute_result",
          "data": {
            "text/plain": [
              "tensor([[1, 2],\n",
              "        [4, 2]])"
            ]
          },
          "metadata": {},
          "execution_count": 100
        }
      ]
    },
    {
      "cell_type": "code",
      "source": [
        "b = torch.randint(6, (2,2))\n",
        "b"
      ],
      "metadata": {
        "colab": {
          "base_uri": "https://localhost:8080/"
        },
        "id": "gJ-R1kP06GS7",
        "outputId": "32854acb-4d2b-41cb-ecf3-112608eb29a4"
      },
      "execution_count": 101,
      "outputs": [
        {
          "output_type": "execute_result",
          "data": {
            "text/plain": [
              "tensor([[4, 1],\n",
              "        [3, 2]])"
            ]
          },
          "metadata": {},
          "execution_count": 101
        }
      ]
    },
    {
      "cell_type": "code",
      "source": [
        "torch.matmul(a, b)"
      ],
      "metadata": {
        "colab": {
          "base_uri": "https://localhost:8080/"
        },
        "id": "sFyRi-qE5dSs",
        "outputId": "c883cbe2-7693-465e-cb45-a5af47882d81"
      },
      "execution_count": 102,
      "outputs": [
        {
          "output_type": "execute_result",
          "data": {
            "text/plain": [
              "tensor([[10,  5],\n",
              "        [22,  8]])"
            ]
          },
          "metadata": {},
          "execution_count": 102
        }
      ]
    },
    {
      "cell_type": "code",
      "source": [
        "a @ b"
      ],
      "metadata": {
        "colab": {
          "base_uri": "https://localhost:8080/"
        },
        "id": "XrdkPNO96Kz_",
        "outputId": "9e44c243-23b3-4b25-f0ae-039d52303dd5"
      },
      "execution_count": 103,
      "outputs": [
        {
          "output_type": "execute_result",
          "data": {
            "text/plain": [
              "tensor([[10,  5],\n",
              "        [22,  8]])"
            ]
          },
          "metadata": {},
          "execution_count": 103
        }
      ]
    },
    {
      "cell_type": "code",
      "source": [
        "a * b"
      ],
      "metadata": {
        "colab": {
          "base_uri": "https://localhost:8080/"
        },
        "id": "D9bU3Owz6K36",
        "outputId": "8e6c825e-0ff8-4c00-d871-4a8c0527b480"
      },
      "execution_count": 104,
      "outputs": [
        {
          "output_type": "execute_result",
          "data": {
            "text/plain": [
              "tensor([[ 4,  2],\n",
              "        [12,  4]])"
            ]
          },
          "metadata": {},
          "execution_count": 104
        }
      ]
    },
    {
      "cell_type": "markdown",
      "source": [
        "##**Dimention Transformation**"
      ],
      "metadata": {
        "id": "1Q1_ubjP6kHM"
      }
    },
    {
      "cell_type": "code",
      "source": [
        "a.view(1,4)"
      ],
      "metadata": {
        "colab": {
          "base_uri": "https://localhost:8080/"
        },
        "id": "EShMnynv6qAI",
        "outputId": "b3c62bb3-58d0-40ac-933e-e2b12f691ad5"
      },
      "execution_count": 106,
      "outputs": [
        {
          "output_type": "execute_result",
          "data": {
            "text/plain": [
              "tensor([[1, 2, 4, 2]])"
            ]
          },
          "metadata": {},
          "execution_count": 106
        }
      ]
    },
    {
      "cell_type": "code",
      "source": [
        "a.reshape(4,1)"
      ],
      "metadata": {
        "colab": {
          "base_uri": "https://localhost:8080/"
        },
        "id": "Abo4aDHR6tCa",
        "outputId": "05368104-8f7e-4f78-cd9d-bd5eca95c3ef"
      },
      "execution_count": 107,
      "outputs": [
        {
          "output_type": "execute_result",
          "data": {
            "text/plain": [
              "tensor([[1],\n",
              "        [2],\n",
              "        [4],\n",
              "        [2]])"
            ]
          },
          "metadata": {},
          "execution_count": 107
        }
      ]
    },
    {
      "cell_type": "code",
      "source": [
        "a.view(-1)\n",
        "a.reshape(-1)"
      ],
      "metadata": {
        "colab": {
          "base_uri": "https://localhost:8080/"
        },
        "id": "bENa4A1x6tE_",
        "outputId": "9281098f-5ecc-42f7-c23f-8353bcdb3f70"
      },
      "execution_count": 108,
      "outputs": [
        {
          "output_type": "execute_result",
          "data": {
            "text/plain": [
              "tensor([1, 2, 4, 2])"
            ]
          },
          "metadata": {},
          "execution_count": 108
        }
      ]
    },
    {
      "cell_type": "code",
      "source": [
        "cat = torch.cat((a, a))\n",
        "cat_ = torch.cat((a, a), dim=1)\n",
        "print(cat)\n",
        "print(cat_)"
      ],
      "metadata": {
        "colab": {
          "base_uri": "https://localhost:8080/"
        },
        "id": "5hlJ5L3I6tHo",
        "outputId": "5ae0dd1d-35a6-4969-dfdb-3a377dbd7ce7"
      },
      "execution_count": 109,
      "outputs": [
        {
          "output_type": "stream",
          "name": "stdout",
          "text": [
            "tensor([[1, 2],\n",
            "        [4, 2],\n",
            "        [1, 2],\n",
            "        [4, 2]])\n",
            "tensor([[1, 2, 1, 2],\n",
            "        [4, 2, 4, 2]])\n"
          ]
        }
      ]
    },
    {
      "cell_type": "code",
      "source": [
        "a = a.unsqueeze(2)\n",
        "a.shape"
      ],
      "metadata": {
        "colab": {
          "base_uri": "https://localhost:8080/"
        },
        "id": "Xn8z38rk6tKJ",
        "outputId": "752e833d-0b8e-420d-8fd4-b528ba2109bc"
      },
      "execution_count": 110,
      "outputs": [
        {
          "output_type": "execute_result",
          "data": {
            "text/plain": [
              "torch.Size([2, 2, 1])"
            ]
          },
          "metadata": {},
          "execution_count": 110
        }
      ]
    },
    {
      "cell_type": "code",
      "source": [
        "a.squeeze(-1).shape"
      ],
      "metadata": {
        "colab": {
          "base_uri": "https://localhost:8080/"
        },
        "id": "2-FrCsWS7KyK",
        "outputId": "e34c07a3-2f8c-43b9-e519-cf0d059ed66f"
      },
      "execution_count": 111,
      "outputs": [
        {
          "output_type": "execute_result",
          "data": {
            "text/plain": [
              "torch.Size([2, 2])"
            ]
          },
          "metadata": {},
          "execution_count": 111
        }
      ]
    }
  ]
}