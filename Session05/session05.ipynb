{
  "nbformat": 4,
  "nbformat_minor": 0,
  "metadata": {
    "colab": {
      "provenance": [],
      "collapsed_sections": [
        "VUTd203mRuuZ"
      ],
      "gpuType": "T4"
    },
    "kernelspec": {
      "name": "python3",
      "display_name": "Python 3"
    },
    "language_info": {
      "name": "python"
    },
    "accelerator": "GPU"
  },
  "cells": [
    {
      "cell_type": "markdown",
      "source": [
        "#Import Libs and Install Packages"
      ],
      "metadata": {
        "id": "unHDqdo1Q0u0"
      }
    },
    {
      "cell_type": "code",
      "source": [
        "import torch\n",
        "import torch.nn as nn\n",
        "import torch.optim as optim\n",
        "import torch.nn.functional as F\n",
        "from torch.utils.data import DataLoader, ConcatDataset # New ---> should be searched\n",
        "from torch import autograd\n",
        "\n",
        "import torchvision\n",
        "from torchvision import transforms as T\n",
        "from torchvision.datasets import MNIST\n",
        "from torchvision.utils import make_grid, save_image # New ---> Should be described\n",
        "\n",
        "import matplotlib.pyplot as plt"
      ],
      "metadata": {
        "id": "nKBo6h9kQ6vH"
      },
      "execution_count": 2,
      "outputs": []
    },
    {
      "cell_type": "markdown",
      "source": [
        "# Configs"
      ],
      "metadata": {
        "id": "Icg7KBCTgQ6D"
      }
    },
    {
      "cell_type": "code",
      "source": [
        "device = 'cuda' if torch.cuda.is_available() else 'cpu'\n",
        "\n",
        "batch_size = 100\n",
        "\n",
        "mnist_dim = 28*28\n",
        "\n",
        "n_g = 256\n",
        "\n",
        "z_dim = 100\n",
        "\n",
        "lr = 0.0002\n",
        "\n",
        "n_epochs = 200"
      ],
      "metadata": {
        "id": "wKsGaLcSgTaF"
      },
      "execution_count": 2,
      "outputs": []
    },
    {
      "cell_type": "code",
      "source": [
        "class AverageMeter(object):\n",
        "    \"\"\"Computes and stores the average and current value\"\"\"\n",
        "    def __init__(self):\n",
        "        self.reset()\n",
        "\n",
        "    def reset(self):\n",
        "        self.val = 0\n",
        "        self.avg = 0\n",
        "        self.sum = 0\n",
        "        self.count = 0\n",
        "\n",
        "    def update(self, val, n=1):\n",
        "        self.val = val\n",
        "        self.sum += val * n\n",
        "        self.count += n\n",
        "        self.avg = self.sum / self.count"
      ],
      "metadata": {
        "id": "k72pIbIhgXsW"
      },
      "execution_count": 3,
      "outputs": []
    },
    {
      "cell_type": "markdown",
      "source": [
        "# Data Preparation"
      ],
      "metadata": {
        "id": "YkaIWRdCdEPU"
      }
    },
    {
      "cell_type": "code",
      "source": [
        "transform = T.Compose([T.ToTensor(), ## 0-1\n",
        "                       T.Normalize(0.5, 0.5)])"
      ],
      "metadata": {
        "id": "QvcJGF5VeWHR"
      },
      "execution_count": 12,
      "outputs": []
    },
    {
      "cell_type": "code",
      "source": [
        "train_data = MNIST(root = './content/', download= True, train= True, transform = transform)\n",
        "test_data = MNIST(root = './content/', download= True, train= False) # there is no need for test data for generation ---> or concat"
      ],
      "metadata": {
        "id": "IkL49kRrdK9y"
      },
      "execution_count": 15,
      "outputs": []
    },
    {
      "cell_type": "code",
      "source": [
        "train_data.class_to_idx"
      ],
      "metadata": {
        "colab": {
          "base_uri": "https://localhost:8080/"
        },
        "id": "cET5IztMdnt2",
        "outputId": "dec2e23c-961a-406f-fe4d-415bb4000d1d"
      },
      "execution_count": 16,
      "outputs": [
        {
          "output_type": "execute_result",
          "data": {
            "text/plain": [
              "{'0 - zero': 0,\n",
              " '1 - one': 1,\n",
              " '2 - two': 2,\n",
              " '3 - three': 3,\n",
              " '4 - four': 4,\n",
              " '5 - five': 5,\n",
              " '6 - six': 6,\n",
              " '7 - seven': 7,\n",
              " '8 - eight': 8,\n",
              " '9 - nine': 9}"
            ]
          },
          "metadata": {},
          "execution_count": 16
        }
      ]
    },
    {
      "cell_type": "code",
      "source": [
        "train_data.data"
      ],
      "metadata": {
        "colab": {
          "base_uri": "https://localhost:8080/"
        },
        "id": "8weCT3bxd1Vj",
        "outputId": "f8b54ca4-4c7a-495c-868a-461d9ebad77d"
      },
      "execution_count": 17,
      "outputs": [
        {
          "output_type": "execute_result",
          "data": {
            "text/plain": [
              "tensor([[[0, 0, 0,  ..., 0, 0, 0],\n",
              "         [0, 0, 0,  ..., 0, 0, 0],\n",
              "         [0, 0, 0,  ..., 0, 0, 0],\n",
              "         ...,\n",
              "         [0, 0, 0,  ..., 0, 0, 0],\n",
              "         [0, 0, 0,  ..., 0, 0, 0],\n",
              "         [0, 0, 0,  ..., 0, 0, 0]],\n",
              "\n",
              "        [[0, 0, 0,  ..., 0, 0, 0],\n",
              "         [0, 0, 0,  ..., 0, 0, 0],\n",
              "         [0, 0, 0,  ..., 0, 0, 0],\n",
              "         ...,\n",
              "         [0, 0, 0,  ..., 0, 0, 0],\n",
              "         [0, 0, 0,  ..., 0, 0, 0],\n",
              "         [0, 0, 0,  ..., 0, 0, 0]],\n",
              "\n",
              "        [[0, 0, 0,  ..., 0, 0, 0],\n",
              "         [0, 0, 0,  ..., 0, 0, 0],\n",
              "         [0, 0, 0,  ..., 0, 0, 0],\n",
              "         ...,\n",
              "         [0, 0, 0,  ..., 0, 0, 0],\n",
              "         [0, 0, 0,  ..., 0, 0, 0],\n",
              "         [0, 0, 0,  ..., 0, 0, 0]],\n",
              "\n",
              "        ...,\n",
              "\n",
              "        [[0, 0, 0,  ..., 0, 0, 0],\n",
              "         [0, 0, 0,  ..., 0, 0, 0],\n",
              "         [0, 0, 0,  ..., 0, 0, 0],\n",
              "         ...,\n",
              "         [0, 0, 0,  ..., 0, 0, 0],\n",
              "         [0, 0, 0,  ..., 0, 0, 0],\n",
              "         [0, 0, 0,  ..., 0, 0, 0]],\n",
              "\n",
              "        [[0, 0, 0,  ..., 0, 0, 0],\n",
              "         [0, 0, 0,  ..., 0, 0, 0],\n",
              "         [0, 0, 0,  ..., 0, 0, 0],\n",
              "         ...,\n",
              "         [0, 0, 0,  ..., 0, 0, 0],\n",
              "         [0, 0, 0,  ..., 0, 0, 0],\n",
              "         [0, 0, 0,  ..., 0, 0, 0]],\n",
              "\n",
              "        [[0, 0, 0,  ..., 0, 0, 0],\n",
              "         [0, 0, 0,  ..., 0, 0, 0],\n",
              "         [0, 0, 0,  ..., 0, 0, 0],\n",
              "         ...,\n",
              "         [0, 0, 0,  ..., 0, 0, 0],\n",
              "         [0, 0, 0,  ..., 0, 0, 0],\n",
              "         [0, 0, 0,  ..., 0, 0, 0]]], dtype=torch.uint8)"
            ]
          },
          "metadata": {},
          "execution_count": 17
        }
      ]
    },
    {
      "cell_type": "code",
      "source": [
        "train_data.data.shape"
      ],
      "metadata": {
        "colab": {
          "base_uri": "https://localhost:8080/"
        },
        "id": "xhLrXt3BdrWs",
        "outputId": "00f463ca-fcde-4053-e3b5-ed853b06c0b0"
      },
      "execution_count": 18,
      "outputs": [
        {
          "output_type": "execute_result",
          "data": {
            "text/plain": [
              "torch.Size([60000, 28, 28])"
            ]
          },
          "metadata": {},
          "execution_count": 18
        }
      ]
    },
    {
      "cell_type": "code",
      "source": [
        "train_data.data[5]"
      ],
      "metadata": {
        "colab": {
          "base_uri": "https://localhost:8080/"
        },
        "id": "r6aYdHyGd3r9",
        "outputId": "567440a1-bcc8-42cf-c57e-55248fb50a84"
      },
      "execution_count": 19,
      "outputs": [
        {
          "output_type": "execute_result",
          "data": {
            "text/plain": [
              "tensor([[  0,   0,   0,   0,   0,   0,   0,   0,   0,   0,   0,   0,   0,   0,\n",
              "           0,   0,   0,   0,   0,   0,   0,   0,   0,   0,   0,   0,   0,   0],\n",
              "        [  0,   0,   0,   0,   0,   0,   0,   0,   0,   0,   0,   0,   0,   0,\n",
              "           0,   0,   0,   0,   0,   0,   0,   0,   0,   0,   0,   0,   0,   0],\n",
              "        [  0,   0,   0,   0,   0,   0,   0,   0,   0,   0,   0,   0,   0,   0,\n",
              "           0,   0,   0,   0,   0,   0,   0,   0,   0,   0,   0,   0,   0,   0],\n",
              "        [  0,   0,   0,   0,   0,   0,   0,   0,   0,   0,   0,   0,   0,   0,\n",
              "           0,   0,   0,   0,   0,   0,   0,   0,   0,   0,   0,   0,   0,   0],\n",
              "        [  0,   0,   0,   0,   0,   0,   0,   0,   0,   0,   0,   0,   0,   0,\n",
              "           0,   0,   0,   0,   0,   0,   0,   0,   0,   0,   0,   0,   0,   0],\n",
              "        [  0,   0,   0,   0,   0,   0,   0,   0,   0,   0,   0,   0,   0,   0,\n",
              "           0,  13,  25, 100, 122,   7,   0,   0,   0,   0,   0,   0,   0,   0],\n",
              "        [  0,   0,   0,   0,   0,   0,   0,   0,   0,   0,   0,   0,   0,  33,\n",
              "         151, 208, 252, 252, 252, 146,   0,   0,   0,   0,   0,   0,   0,   0],\n",
              "        [  0,   0,   0,   0,   0,   0,   0,   0,   0,   0,   0,  40, 152, 244,\n",
              "         252, 253, 224, 211, 252, 232,  40,   0,   0,   0,   0,   0,   0,   0],\n",
              "        [  0,   0,   0,   0,   0,   0,   0,   0,   0,  15, 152, 239, 252, 252,\n",
              "         252, 216,  31,  37, 252, 252,  60,   0,   0,   0,   0,   0,   0,   0],\n",
              "        [  0,   0,   0,   0,   0,   0,   0,   0,   0,  96, 252, 252, 252, 252,\n",
              "         217,  29,   0,  37, 252, 252,  60,   0,   0,   0,   0,   0,   0,   0],\n",
              "        [  0,   0,   0,   0,   0,   0,   0,   0,   0, 181, 252, 252, 220, 167,\n",
              "          30,   0,   0,  77, 252, 252,  60,   0,   0,   0,   0,   0,   0,   0],\n",
              "        [  0,   0,   0,   0,   0,   0,   0,   0,   0,  26, 128,  58,  22,   0,\n",
              "           0,   0,   0, 100, 252, 252,  60,   0,   0,   0,   0,   0,   0,   0],\n",
              "        [  0,   0,   0,   0,   0,   0,   0,   0,   0,   0,   0,   0,   0,   0,\n",
              "           0,   0,   0, 157, 252, 252,  60,   0,   0,   0,   0,   0,   0,   0],\n",
              "        [  0,   0,   0,   0,   0,   0,   0,   0,   0,   0,   0,   0,   0, 110,\n",
              "         121, 122, 121, 202, 252, 194,   3,   0,   0,   0,   0,   0,   0,   0],\n",
              "        [  0,   0,   0,   0,   0,   0,   0,   0,   0,   0,  10,  53, 179, 253,\n",
              "         253, 255, 253, 253, 228,  35,   0,   0,   0,   0,   0,   0,   0,   0],\n",
              "        [  0,   0,   0,   0,   0,   0,   0,   0,   5,  54, 227, 252, 243, 228,\n",
              "         170, 242, 252, 252, 231, 117,   6,   0,   0,   0,   0,   0,   0,   0],\n",
              "        [  0,   0,   0,   0,   0,   0,   0,   6,  78, 252, 252, 125,  59,   0,\n",
              "          18, 208, 252, 252, 252, 252,  87,   7,   0,   0,   0,   0,   0,   0],\n",
              "        [  0,   0,   0,   0,   0,   0,   5, 135, 252, 252, 180,  16,   0,  21,\n",
              "         203, 253, 247, 129, 173, 252, 252, 184,  66,  49,  49,   0,   0,   0],\n",
              "        [  0,   0,   0,   0,   0,   3, 136, 252, 241, 106,  17,   0,  53, 200,\n",
              "         252, 216,  65,   0,  14,  72, 163, 241, 252, 252, 223,   0,   0,   0],\n",
              "        [  0,   0,   0,   0,   0, 105, 252, 242,  88,  18,  73, 170, 244, 252,\n",
              "         126,  29,   0,   0,   0,   0,   0,  89, 180, 180,  37,   0,   0,   0],\n",
              "        [  0,   0,   0,   0,   0, 231, 252, 245, 205, 216, 252, 252, 252, 124,\n",
              "           3,   0,   0,   0,   0,   0,   0,   0,   0,   0,   0,   0,   0,   0],\n",
              "        [  0,   0,   0,   0,   0, 207, 252, 252, 252, 252, 178, 116,  36,   4,\n",
              "           0,   0,   0,   0,   0,   0,   0,   0,   0,   0,   0,   0,   0,   0],\n",
              "        [  0,   0,   0,   0,   0,  13,  93, 143, 121,  23,   6,   0,   0,   0,\n",
              "           0,   0,   0,   0,   0,   0,   0,   0,   0,   0,   0,   0,   0,   0],\n",
              "        [  0,   0,   0,   0,   0,   0,   0,   0,   0,   0,   0,   0,   0,   0,\n",
              "           0,   0,   0,   0,   0,   0,   0,   0,   0,   0,   0,   0,   0,   0],\n",
              "        [  0,   0,   0,   0,   0,   0,   0,   0,   0,   0,   0,   0,   0,   0,\n",
              "           0,   0,   0,   0,   0,   0,   0,   0,   0,   0,   0,   0,   0,   0],\n",
              "        [  0,   0,   0,   0,   0,   0,   0,   0,   0,   0,   0,   0,   0,   0,\n",
              "           0,   0,   0,   0,   0,   0,   0,   0,   0,   0,   0,   0,   0,   0],\n",
              "        [  0,   0,   0,   0,   0,   0,   0,   0,   0,   0,   0,   0,   0,   0,\n",
              "           0,   0,   0,   0,   0,   0,   0,   0,   0,   0,   0,   0,   0,   0],\n",
              "        [  0,   0,   0,   0,   0,   0,   0,   0,   0,   0,   0,   0,   0,   0,\n",
              "           0,   0,   0,   0,   0,   0,   0,   0,   0,   0,   0,   0,   0,   0]],\n",
              "       dtype=torch.uint8)"
            ]
          },
          "metadata": {},
          "execution_count": 19
        }
      ]
    },
    {
      "cell_type": "code",
      "source": [
        "plt.imshow(train_data.data[5], cmap='gray')"
      ],
      "metadata": {
        "colab": {
          "base_uri": "https://localhost:8080/",
          "height": 447
        },
        "id": "X9D-Q6lHfKWa",
        "outputId": "7905f47c-fbad-492b-a399-fb4f5a316d89"
      },
      "execution_count": 21,
      "outputs": [
        {
          "output_type": "execute_result",
          "data": {
            "text/plain": [
              "<matplotlib.image.AxesImage at 0x78882305b220>"
            ]
          },
          "metadata": {},
          "execution_count": 21
        },
        {
          "output_type": "display_data",
          "data": {
            "text/plain": [
              "<Figure size 640x480 with 1 Axes>"
            ],
            "image/png": "[encoded data removed]"
          },
          "metadata": {}
        }
      ]
    },
    {
      "cell_type": "code",
      "source": [
        "dataloader = DataLoader(train_data, batch_size, True)"
      ],
      "metadata": {
        "id": "hvL7581agIP-"
      },
      "execution_count": 24,
      "outputs": []
    },
    {
      "cell_type": "code",
      "source": [
        "x, y = next(iter(dataloader))"
      ],
      "metadata": {
        "id": "jltNZjF5gbW1"
      },
      "execution_count": 25,
      "outputs": []
    },
    {
      "cell_type": "code",
      "source": [
        "x.shape, y"
      ],
      "metadata": {
        "colab": {
          "base_uri": "https://localhost:8080/"
        },
        "id": "kJZtXj63gefW",
        "outputId": "c5bb013b-4236-4ffb-e26d-822b48da6dbd"
      },
      "execution_count": 26,
      "outputs": [
        {
          "output_type": "execute_result",
          "data": {
            "text/plain": [
              "(torch.Size([100, 1, 28, 28]),\n",
              " tensor([4, 0, 7, 9, 5, 6, 1, 6, 4, 6, 1, 0, 9, 3, 2, 8, 9, 5, 1, 2, 1, 1, 2, 0,\n",
              "         9, 3, 8, 1, 3, 8, 4, 4, 0, 9, 3, 6, 9, 4, 6, 9, 2, 6, 5, 7, 3, 4, 4, 9,\n",
              "         5, 5, 0, 9, 4, 4, 3, 7, 0, 0, 2, 8, 4, 4, 6, 4, 1, 6, 7, 1, 5, 7, 5, 1,\n",
              "         7, 8, 7, 1, 1, 5, 2, 5, 3, 7, 7, 9, 4, 7, 2, 7, 9, 6, 9, 2, 9, 4, 2, 6,\n",
              "         7, 4, 5, 5]))"
            ]
          },
          "metadata": {},
          "execution_count": 26
        }
      ]
    },
    {
      "cell_type": "code",
      "source": [
        "img_grid = make_grid(x, 10) # ncol --> Should be explained\n",
        "img_grid.shape"
      ],
      "metadata": {
        "colab": {
          "base_uri": "https://localhost:8080/"
        },
        "id": "Efz7xMhGgg88",
        "outputId": "814e9108-663e-4177-c2fc-ea8a27fd0bc7"
      },
      "execution_count": 32,
      "outputs": [
        {
          "output_type": "execute_result",
          "data": {
            "text/plain": [
              "torch.Size([3, 302, 302])"
            ]
          },
          "metadata": {},
          "execution_count": 32
        }
      ]
    },
    {
      "cell_type": "code",
      "source": [
        "plt.imshow(img_grid.permute(1,2,0), cmap='gray') # channel conflict (PyTorch Vs Matplotlib, NumPy, CV2) --> Should be explained"
      ],
      "metadata": {
        "colab": {
          "base_uri": "https://localhost:8080/",
          "height": 470
        },
        "id": "DDJReRmIgj8-",
        "outputId": "0e5762be-5818-4114-ed8e-401a8989d19f"
      },
      "execution_count": 33,
      "outputs": [
        {
          "output_type": "stream",
          "name": "stderr",
          "text": [
            "WARNING:matplotlib.image:Clipping input data to the valid range for imshow with RGB data ([0..1] for floats or [0..255] for integers).\n"
          ]
        },
        {
          "output_type": "execute_result",
          "data": {
            "text/plain": [
              "<matplotlib.image.AxesImage at 0x7888203a4ee0>"
            ]
          },
          "metadata": {},
          "execution_count": 33
        },
        {
          "output_type": "display_data",
          "data": {
            "text/plain": [
              "<Figure size 640x480 with 1 Axes>"
            ],
            "image/png": "[encoded data removed]"
          },
          "metadata": {}
        }
      ]
    },
    {
      "cell_type": "markdown",
      "source": [
        "# Simplified Traditional GAN"
      ],
      "metadata": {
        "id": "QD86yDtrQtrW"
      }
    },
    {
      "cell_type": "markdown",
      "source": [
        "## Generator"
      ],
      "metadata": {
        "id": "N0gbOGrKicVt"
      }
    },
    {
      "cell_type": "code",
      "execution_count": 34,
      "metadata": {
        "id": "O3c9URdgQodD"
      },
      "outputs": [],
      "source": [
        "class Generator(nn.Module):\n",
        "\n",
        "  def __init__(self, neuron = 256):\n",
        "    super(Generator, self).__init__()\n",
        "\n",
        "    # self.layers = nn.ModuleList()\n",
        "    # for l in range(nlayers): N = 3 , Neuron = 256\n",
        "    #   self.layers.append(nn.LazyLinear(neuron*(l+1)))\n",
        "\n",
        "\n",
        "    self.ln1 = nn.LazyLinear(neuron)  # in_features: Noise data; Noise data shape is cruicial here. Let us assume Z dim's is 100\n",
        "    self.ln2 = nn.LazyLinear(neuron*2)\n",
        "    self.ln3 = nn.LazyLinear(neuron*4)\n",
        "    self.ln4 = nn.LazyLinear(out_features= mnist_dim) # flatten patches of MNIST data\n",
        "\n",
        "\n",
        "  def forward(self, x):\n",
        "    x = F.leaky_relu(self.ln1(x), 0.2)\n",
        "    x = F.leaky_relu(self.ln2(x), 0.2)\n",
        "    x = F.leaky_relu(self.ln3(x), 0.2)\n",
        "    y = torch.tanh(self.ln4(x))\n",
        "    return y"
      ]
    },
    {
      "cell_type": "code",
      "source": [
        "G = Generator(n_g)\n",
        "G"
      ],
      "metadata": {
        "colab": {
          "base_uri": "https://localhost:8080/"
        },
        "id": "uHXlxQF2msiS",
        "outputId": "75ca3c63-a77a-4626-8e7b-1c36e0a8627d"
      },
      "execution_count": 70,
      "outputs": [
        {
          "output_type": "execute_result",
          "data": {
            "text/plain": [
              "Generator(\n",
              "  (ln1): LazyLinear(in_features=0, out_features=256, bias=True)\n",
              "  (ln2): LazyLinear(in_features=0, out_features=512, bias=True)\n",
              "  (ln3): LazyLinear(in_features=0, out_features=1024, bias=True)\n",
              "  (ln4): LazyLinear(in_features=0, out_features=784, bias=True)\n",
              ")"
            ]
          },
          "metadata": {},
          "execution_count": 70
        }
      ]
    },
    {
      "cell_type": "code",
      "source": [
        "G(torch.randn(100, z_dim)).shape #Should be explained"
      ],
      "metadata": {
        "colab": {
          "base_uri": "https://localhost:8080/"
        },
        "id": "hWazrjGFmw7a",
        "outputId": "7f1a63e3-7477-404f-c645-e145bd61c585"
      },
      "execution_count": 41,
      "outputs": [
        {
          "output_type": "execute_result",
          "data": {
            "text/plain": [
              "torch.Size([100, 784])"
            ]
          },
          "metadata": {},
          "execution_count": 41
        }
      ]
    },
    {
      "cell_type": "markdown",
      "source": [
        "## Discriminator"
      ],
      "metadata": {
        "id": "o7Cs4vRHm99X"
      }
    },
    {
      "cell_type": "code",
      "source": [
        "class Discriminator(nn.Module):\n",
        "  def __init__(self):\n",
        "    super(Discriminator, self).__init__()\n",
        "    self.ln1 = nn.LazyLinear(1024) # In_feat = 784 (Real and Fake)\n",
        "    self.ln2 = nn.LazyLinear(512)\n",
        "    self.ln3 = nn.LazyLinear(256)\n",
        "    self.ln4 = nn.LazyLinear(1) # Binary CLF\n",
        "\n",
        "  def forward(self, x):\n",
        "    x = F.dropout(F.leaky_relu(self.ln1(x), 0.2), 0.3)\n",
        "    x = F.dropout(F.leaky_relu(self.ln2(x), 0.2), 0.3)\n",
        "    x = F.dropout(F.leaky_relu(self.ln3(x), 0.2), 0.3)\n",
        "    y = torch.sigmoid(self.ln4(x))\n",
        "    return y"
      ],
      "metadata": {
        "id": "niZwgQWhnA7z"
      },
      "execution_count": 37,
      "outputs": []
    },
    {
      "cell_type": "code",
      "source": [
        "D = Discriminator()\n",
        "D"
      ],
      "metadata": {
        "colab": {
          "base_uri": "https://localhost:8080/"
        },
        "id": "Lz8SeOzopBno",
        "outputId": "ba89ccbc-85df-4a65-904d-9633742eee89"
      },
      "execution_count": 38,
      "outputs": [
        {
          "output_type": "stream",
          "name": "stderr",
          "text": [
            "/usr/local/lib/python3.10/dist-packages/torch/nn/modules/lazy.py:180: UserWarning: Lazy modules are a new feature under heavy development so changes to the API or functionality can happen at any moment.\n",
            "  warnings.warn('Lazy modules are a new feature under heavy development '\n"
          ]
        },
        {
          "output_type": "execute_result",
          "data": {
            "text/plain": [
              "Discriminator(\n",
              "  (ln1): LazyLinear(in_features=0, out_features=1024, bias=True)\n",
              "  (ln2): LazyLinear(in_features=0, out_features=512, bias=True)\n",
              "  (ln3): LazyLinear(in_features=0, out_features=256, bias=True)\n",
              "  (ln4): LazyLinear(in_features=0, out_features=1, bias=True)\n",
              ")"
            ]
          },
          "metadata": {},
          "execution_count": 38
        }
      ]
    },
    {
      "cell_type": "code",
      "source": [
        "x.shape"
      ],
      "metadata": {
        "colab": {
          "base_uri": "https://localhost:8080/"
        },
        "id": "9ERBkisupFGy",
        "outputId": "5dcd740a-4e1c-4f18-c8df-e6af82a09538"
      },
      "execution_count": 39,
      "outputs": [
        {
          "output_type": "execute_result",
          "data": {
            "text/plain": [
              "torch.Size([100, 1, 28, 28])"
            ]
          },
          "metadata": {},
          "execution_count": 39
        }
      ]
    },
    {
      "cell_type": "code",
      "source": [
        "x.flatten(1).shape"
      ],
      "metadata": {
        "colab": {
          "base_uri": "https://localhost:8080/"
        },
        "id": "a7RV5q57pWVq",
        "outputId": "2fa0b08e-d996-4913-c0a5-2ec7f36a916b"
      },
      "execution_count": 40,
      "outputs": [
        {
          "output_type": "execute_result",
          "data": {
            "text/plain": [
              "torch.Size([100, 784])"
            ]
          },
          "metadata": {},
          "execution_count": 40
        }
      ]
    },
    {
      "cell_type": "code",
      "source": [
        "x_f = x.flatten(1)\n",
        "\n",
        "D(x_f).shape"
      ],
      "metadata": {
        "colab": {
          "base_uri": "https://localhost:8080/"
        },
        "id": "kuclLN-CpimA",
        "outputId": "cd4d91e6-c713-455b-b88b-63775021bcc6"
      },
      "execution_count": 43,
      "outputs": [
        {
          "output_type": "execute_result",
          "data": {
            "text/plain": [
              "torch.Size([100, 1])"
            ]
          },
          "metadata": {},
          "execution_count": 43
        }
      ]
    },
    {
      "cell_type": "markdown",
      "source": [
        "## Models"
      ],
      "metadata": {
        "id": "zh-Y134Gpus_"
      }
    },
    {
      "cell_type": "code",
      "source": [
        "G = Generator().to(device)\n",
        "G"
      ],
      "metadata": {
        "colab": {
          "base_uri": "https://localhost:8080/"
        },
        "id": "Z5Icm21jpwJB",
        "outputId": "57a97925-cda8-4164-f061-07a9e129d387"
      },
      "execution_count": 71,
      "outputs": [
        {
          "output_type": "execute_result",
          "data": {
            "text/plain": [
              "Generator(\n",
              "  (ln1): LazyLinear(in_features=0, out_features=256, bias=True)\n",
              "  (ln2): LazyLinear(in_features=0, out_features=512, bias=True)\n",
              "  (ln3): LazyLinear(in_features=0, out_features=1024, bias=True)\n",
              "  (ln4): LazyLinear(in_features=0, out_features=784, bias=True)\n",
              ")"
            ]
          },
          "metadata": {},
          "execution_count": 71
        }
      ]
    },
    {
      "cell_type": "code",
      "source": [
        "D = Discriminator().to(device)\n",
        "D"
      ],
      "metadata": {
        "colab": {
          "base_uri": "https://localhost:8080/"
        },
        "id": "NBYimPexpyGF",
        "outputId": "7d476043-1bdb-42d6-89d2-db5b99673a0a"
      },
      "execution_count": 72,
      "outputs": [
        {
          "output_type": "execute_result",
          "data": {
            "text/plain": [
              "Discriminator(\n",
              "  (ln1): LazyLinear(in_features=0, out_features=1024, bias=True)\n",
              "  (ln2): LazyLinear(in_features=0, out_features=512, bias=True)\n",
              "  (ln3): LazyLinear(in_features=0, out_features=256, bias=True)\n",
              "  (ln4): LazyLinear(in_features=0, out_features=1, bias=True)\n",
              ")"
            ]
          },
          "metadata": {},
          "execution_count": 72
        }
      ]
    },
    {
      "cell_type": "markdown",
      "source": [
        "## loss and opts"
      ],
      "metadata": {
        "id": "Z1cUC63lp5G6"
      }
    },
    {
      "cell_type": "code",
      "execution_count": 73,
      "metadata": {
        "id": "0kGcFDwLL0DD"
      },
      "outputs": [],
      "source": [
        "loss_fn = nn.BCELoss()"
      ]
    },
    {
      "cell_type": "code",
      "source": [
        "G_optimizer = optim.Adam(G.parameters(), lr)\n",
        "D_optimizer = optim.Adam(D.parameters(), lr)"
      ],
      "metadata": {
        "id": "puo65Sz7yg44"
      },
      "execution_count": 74,
      "outputs": []
    },
    {
      "cell_type": "markdown",
      "source": [
        "## Train Loop"
      ],
      "metadata": {
        "id": "mLO6hEqwwfXN"
      }
    },
    {
      "cell_type": "code",
      "source": [
        "loss_D_hist, loss_G_hist = [], []"
      ],
      "metadata": {
        "id": "-dv9U2kSwifH"
      },
      "execution_count": 75,
      "outputs": []
    },
    {
      "cell_type": "code",
      "source": [
        "for epoch in range(n_epochs):\n",
        "  loss_D_avg, loss_G_avg = AverageMeter(), AverageMeter()\n",
        "  for i , (x , _ ) in enumerate(dataloader): # What happend to y? explain... , X.shape ---> (100, 1, 28, 28) ---> (100,784)\n",
        "    #==========================================#\n",
        "                # Discriminator #\n",
        "    #==========================================#\n",
        "      D.zero_grad() # ----> ? Gradient acc VS D_optimizer.zero_grad()\n",
        "\n",
        "    # Real data handling\n",
        "      x_real = x.flatten(1).to(device)\n",
        "      y_real = torch.ones(batch_size, 1).to(device) # one is artificial dim [100] ---> [100,1]\n",
        "\n",
        "    # Further steps\n",
        "    # real_data ----> D(real_data) ----> D_output ----> Loss_D(D_output, y_real)\n",
        "      D_output = D(x_real)\n",
        "      D_loss = loss_fn(D_output, y_real)\n",
        "\n",
        "    # Noise and fake Data handling ----> fake_data = G(Z) ---> G_output = D(G(Z)) ---> Loss_G(G_output, y_fake) ----> Total D loss\n",
        "      z = torch.randn(batch_size, z_dim).to(device) # dim ---> [100,100] ---> suitable for G net\n",
        "      y_fake = torch.zeros(batch_size, 1).to(device) # torch zeros ---> Why? explain Dim... [100,1]\n",
        "\n",
        "      x_fake = G(z)\n",
        "\n",
        "      G_output = D(x_fake)\n",
        "      G_loss = loss_fn(G_output, y_fake)\n",
        "\n",
        "    # Total loss\n",
        "      D_loss = G_loss + D_loss\n",
        "\n",
        "    # Gradients and backprop\n",
        "\n",
        "      D_loss.backward() # Important to be explained (D,G params)\n",
        "      D_optimizer.step()\n",
        "      #D_optimizer.zero_grad() Gradient acc\n",
        "\n",
        "    #==========================================#\n",
        "                  # Generator #\n",
        "    #==========================================#\n",
        "      G.zero_grad() # ----> ? Gradient acc VS G_optimizer.zero_grad()\n",
        "    #Steps:\n",
        "    # noise and fake data handling ----> out = D(G(z)) ----> loss_G(out, y_fake), where y_fake obtains 1 as label (G's Policy)\n",
        "\n",
        "\n",
        "      z = torch.randn(batch_size, z_dim).to(device) # dim ---> [100,100] ---> suitable for G net\n",
        "      y_real = torch.ones(batch_size, 1).to(device) # torch ones ---> Why? explain Dim...[100,1]\n",
        "\n",
        "      output = D(G(z))\n",
        "\n",
        "      G_loss = loss_fn(output, y_real)\n",
        "\n",
        "      G_loss.backward()\n",
        "      G_optimizer.step()\n",
        "      #G_optimizer.zero_grad() Gradient acc\n",
        "\n",
        "      loss_D_avg.update(D_loss.item())\n",
        "      loss_G_avg.update(G_loss.item())\n",
        "\n",
        "  loss_D_hist.append(loss_D_avg.avg)\n",
        "  loss_G_hist.append(loss_G_avg.avg)\n",
        "\n",
        "  with torch.no_grad():\n",
        "    bs = 64\n",
        "    z_test = torch.randn(bs, z_dim).to(device)\n",
        "    outputs = G(z_test)\n",
        "    save_image(outputs.view(bs, 1, 28, 28), f'./images/gan-{epoch:03d}.png')\n",
        "\n",
        "  print(f'{epoch}/{n_epochs}: D Loss: {loss_D_avg.avg:.4f}, G Loss: {loss_G_avg.avg:.4f}')"
      ],
      "metadata": {
        "colab": {
          "base_uri": "https://localhost:8080/"
        },
        "id": "68zEeK44wrRr",
        "outputId": "337e5aba-55aa-41c4-82f9-87fec6442954"
      },
      "execution_count": 76,
      "outputs": [
        {
          "output_type": "stream",
          "name": "stdout",
          "text": [
            "0/200: D Loss: 1.0565, G Loss: 2.2094\n",
            "1/200: D Loss: 0.9777, G Loss: 2.7451\n",
            "2/200: D Loss: 1.1032, G Loss: 1.3846\n",
            "3/200: D Loss: 0.7535, G Loss: 2.4197\n",
            "4/200: D Loss: 0.5360, G Loss: 2.8960\n",
            "5/200: D Loss: 0.5426, G Loss: 2.7187\n",
            "6/200: D Loss: 0.5619, G Loss: 2.7152\n",
            "7/200: D Loss: 0.6332, G Loss: 2.4092\n",
            "8/200: D Loss: 0.6472, G Loss: 2.3761\n",
            "9/200: D Loss: 0.6389, G Loss: 2.3500\n",
            "10/200: D Loss: 0.6817, G Loss: 2.2443\n",
            "11/200: D Loss: 0.7051, G Loss: 2.1507\n",
            "12/200: D Loss: 0.7612, G Loss: 2.1020\n",
            "13/200: D Loss: 0.7423, G Loss: 2.0787\n",
            "14/200: D Loss: 0.7986, G Loss: 1.8732\n",
            "15/200: D Loss: 0.8932, G Loss: 1.6733\n",
            "16/200: D Loss: 0.8434, G Loss: 1.7960\n",
            "17/200: D Loss: 0.8399, G Loss: 1.8131\n",
            "18/200: D Loss: 0.8378, G Loss: 1.7983\n",
            "19/200: D Loss: 0.8688, G Loss: 1.7181\n",
            "20/200: D Loss: 0.8897, G Loss: 1.6559\n",
            "21/200: D Loss: 0.8993, G Loss: 1.6296\n",
            "22/200: D Loss: 0.9050, G Loss: 1.6368\n",
            "23/200: D Loss: 0.9260, G Loss: 1.5951\n",
            "24/200: D Loss: 0.9282, G Loss: 1.5892\n",
            "25/200: D Loss: 0.9517, G Loss: 1.5063\n",
            "26/200: D Loss: 0.9646, G Loss: 1.4799\n",
            "27/200: D Loss: 0.9752, G Loss: 1.4482\n",
            "28/200: D Loss: 1.0024, G Loss: 1.4116\n",
            "29/200: D Loss: 1.0168, G Loss: 1.3825\n",
            "30/200: D Loss: 1.0259, G Loss: 1.3593\n",
            "31/200: D Loss: 1.0276, G Loss: 1.3778\n",
            "32/200: D Loss: 1.0512, G Loss: 1.3134\n",
            "33/200: D Loss: 1.0418, G Loss: 1.3258\n",
            "34/200: D Loss: 1.0586, G Loss: 1.2788\n",
            "35/200: D Loss: 1.0750, G Loss: 1.2489\n",
            "36/200: D Loss: 1.0586, G Loss: 1.2854\n",
            "37/200: D Loss: 1.0626, G Loss: 1.2863\n",
            "38/200: D Loss: 1.0782, G Loss: 1.2473\n",
            "39/200: D Loss: 1.0867, G Loss: 1.2404\n",
            "40/200: D Loss: 1.0914, G Loss: 1.2187\n",
            "41/200: D Loss: 1.1117, G Loss: 1.2228\n",
            "42/200: D Loss: 1.1031, G Loss: 1.1835\n",
            "43/200: D Loss: 1.1196, G Loss: 1.1640\n",
            "44/200: D Loss: 1.1344, G Loss: 1.1562\n",
            "45/200: D Loss: 1.1371, G Loss: 1.1357\n",
            "46/200: D Loss: 1.1304, G Loss: 1.1503\n",
            "47/200: D Loss: 1.1562, G Loss: 1.1181\n",
            "48/200: D Loss: 1.1430, G Loss: 1.1267\n",
            "50/200: D Loss: 1.1515, G Loss: 1.1117\n",
            "51/200: D Loss: 1.1738, G Loss: 1.0724\n",
            "52/200: D Loss: 1.1830, G Loss: 1.0645\n",
            "53/200: D Loss: 1.1766, G Loss: 1.0759\n",
            "54/200: D Loss: 1.1792, G Loss: 1.0870\n",
            "55/200: D Loss: 1.1628, G Loss: 1.0983\n",
            "56/200: D Loss: 1.1796, G Loss: 1.0537\n",
            "57/200: D Loss: 1.1897, G Loss: 1.0423\n",
            "58/200: D Loss: 1.1888, G Loss: 1.0535\n",
            "59/200: D Loss: 1.1949, G Loss: 1.0289\n",
            "60/200: D Loss: 1.1933, G Loss: 1.0473\n",
            "61/200: D Loss: 1.1892, G Loss: 1.0486\n",
            "62/200: D Loss: 1.1998, G Loss: 1.0289\n",
            "63/200: D Loss: 1.1968, G Loss: 1.0418\n",
            "64/200: D Loss: 1.1971, G Loss: 1.0244\n",
            "65/200: D Loss: 1.1971, G Loss: 1.0446\n",
            "66/200: D Loss: 1.2024, G Loss: 1.0227\n",
            "67/200: D Loss: 1.2107, G Loss: 1.0102\n",
            "68/200: D Loss: 1.2077, G Loss: 1.0151\n",
            "69/200: D Loss: 1.2106, G Loss: 1.0136\n",
            "70/200: D Loss: 1.2172, G Loss: 1.0000\n",
            "71/200: D Loss: 1.2138, G Loss: 1.0130\n",
            "72/200: D Loss: 1.2281, G Loss: 0.9962\n",
            "73/200: D Loss: 1.2147, G Loss: 1.0045\n",
            "74/200: D Loss: 1.2168, G Loss: 0.9981\n",
            "75/200: D Loss: 1.2272, G Loss: 0.9744\n",
            "76/200: D Loss: 1.2313, G Loss: 0.9799\n",
            "77/200: D Loss: 1.2249, G Loss: 0.9849\n",
            "78/200: D Loss: 1.2236, G Loss: 0.9945\n",
            "79/200: D Loss: 1.2277, G Loss: 0.9735\n",
            "80/200: D Loss: 1.2319, G Loss: 0.9721\n",
            "81/200: D Loss: 1.2335, G Loss: 0.9724\n",
            "82/200: D Loss: 1.2338, G Loss: 0.9738\n",
            "83/200: D Loss: 1.2410, G Loss: 0.9555\n",
            "84/200: D Loss: 1.2354, G Loss: 0.9685\n",
            "85/200: D Loss: 1.2357, G Loss: 0.9713\n",
            "86/200: D Loss: 1.2256, G Loss: 0.9862\n",
            "87/200: D Loss: 1.2317, G Loss: 0.9799\n",
            "88/200: D Loss: 1.2353, G Loss: 0.9640\n",
            "89/200: D Loss: 1.2378, G Loss: 0.9713\n",
            "90/200: D Loss: 1.2374, G Loss: 0.9564\n",
            "91/200: D Loss: 1.2478, G Loss: 0.9523\n",
            "92/200: D Loss: 1.2511, G Loss: 0.9403\n",
            "93/200: D Loss: 1.2540, G Loss: 0.9431\n",
            "94/200: D Loss: 1.2518, G Loss: 0.9339\n",
            "95/200: D Loss: 1.2540, G Loss: 0.9350\n",
            "96/200: D Loss: 1.2562, G Loss: 0.9376\n",
            "97/200: D Loss: 1.2568, G Loss: 0.9359\n",
            "98/200: D Loss: 1.2514, G Loss: 0.9315\n",
            "99/200: D Loss: 1.2598, G Loss: 0.9311\n",
            "100/200: D Loss: 1.2544, G Loss: 0.9380\n",
            "101/200: D Loss: 1.2493, G Loss: 0.9452\n",
            "102/200: D Loss: 1.2580, G Loss: 0.9247\n",
            "103/200: D Loss: 1.2567, G Loss: 0.9285\n",
            "104/200: D Loss: 1.2593, G Loss: 0.9228\n",
            "105/200: D Loss: 1.2653, G Loss: 0.9212\n",
            "106/200: D Loss: 1.2594, G Loss: 0.9225\n",
            "107/200: D Loss: 1.2600, G Loss: 0.9269\n",
            "108/200: D Loss: 1.2607, G Loss: 0.9247\n",
            "109/200: D Loss: 1.2560, G Loss: 0.9277\n",
            "110/200: D Loss: 1.2634, G Loss: 0.9067\n",
            "111/200: D Loss: 1.2619, G Loss: 0.9317\n",
            "112/200: D Loss: 1.2629, G Loss: 0.9229\n",
            "113/200: D Loss: 1.2576, G Loss: 0.9263\n",
            "114/200: D Loss: 1.2659, G Loss: 0.9122\n",
            "115/200: D Loss: 1.2611, G Loss: 0.9187\n",
            "116/200: D Loss: 1.2613, G Loss: 0.9143\n",
            "117/200: D Loss: 1.2689, G Loss: 0.9081\n",
            "118/200: D Loss: 1.2704, G Loss: 0.9013\n",
            "119/200: D Loss: 1.2593, G Loss: 0.9349\n",
            "120/200: D Loss: 1.2641, G Loss: 0.9060\n",
            "121/200: D Loss: 1.2644, G Loss: 0.9143\n",
            "122/200: D Loss: 1.2644, G Loss: 0.9146\n",
            "123/200: D Loss: 1.2666, G Loss: 0.9128\n",
            "124/200: D Loss: 1.2736, G Loss: 0.9041\n",
            "125/200: D Loss: 1.2734, G Loss: 0.8948\n",
            "126/200: D Loss: 1.2692, G Loss: 0.8995\n",
            "127/200: D Loss: 1.2739, G Loss: 0.9034\n",
            "128/200: D Loss: 1.2708, G Loss: 0.9116\n",
            "129/200: D Loss: 1.2644, G Loss: 0.9150\n",
            "130/200: D Loss: 1.2717, G Loss: 0.8969\n",
            "131/200: D Loss: 1.2737, G Loss: 0.8940\n",
            "132/200: D Loss: 1.2709, G Loss: 0.9105\n",
            "133/200: D Loss: 1.2762, G Loss: 0.8952\n",
            "134/200: D Loss: 1.2775, G Loss: 0.9043\n",
            "135/200: D Loss: 1.2785, G Loss: 0.8908\n",
            "136/200: D Loss: 1.2778, G Loss: 0.8973\n",
            "137/200: D Loss: 1.2704, G Loss: 0.9118\n",
            "138/200: D Loss: 1.2818, G Loss: 0.8920\n",
            "139/200: D Loss: 1.2769, G Loss: 0.8912\n",
            "140/200: D Loss: 1.2793, G Loss: 0.8993\n",
            "141/200: D Loss: 1.2760, G Loss: 0.8938\n",
            "142/200: D Loss: 1.2867, G Loss: 0.8887\n",
            "143/200: D Loss: 1.2839, G Loss: 0.8833\n",
            "144/200: D Loss: 1.2779, G Loss: 0.8867\n",
            "145/200: D Loss: 1.2755, G Loss: 0.9043\n",
            "146/200: D Loss: 1.2798, G Loss: 0.8916\n",
            "147/200: D Loss: 1.2757, G Loss: 0.9071\n",
            "148/200: D Loss: 1.2762, G Loss: 0.8866\n",
            "149/200: D Loss: 1.2836, G Loss: 0.8856\n",
            "150/200: D Loss: 1.2823, G Loss: 0.8919\n",
            "151/200: D Loss: 1.2829, G Loss: 0.8805\n",
            "152/200: D Loss: 1.2839, G Loss: 0.8806\n",
            "153/200: D Loss: 1.2825, G Loss: 0.9055\n",
            "154/200: D Loss: 1.2732, G Loss: 0.8950\n",
            "155/200: D Loss: 1.2860, G Loss: 0.8883\n",
            "156/200: D Loss: 1.2749, G Loss: 0.9035\n",
            "157/200: D Loss: 1.2819, G Loss: 0.8920\n",
            "158/200: D Loss: 1.2790, G Loss: 0.8873\n",
            "159/200: D Loss: 1.2754, G Loss: 0.8962\n",
            "160/200: D Loss: 1.2859, G Loss: 0.8755\n",
            "161/200: D Loss: 1.2828, G Loss: 0.8835\n",
            "162/200: D Loss: 1.2791, G Loss: 0.8919\n",
            "163/200: D Loss: 1.2852, G Loss: 0.8853\n",
            "164/200: D Loss: 1.2758, G Loss: 0.8981\n",
            "165/200: D Loss: 1.2776, G Loss: 0.8942\n",
            "166/200: D Loss: 1.2764, G Loss: 0.9051\n",
            "167/200: D Loss: 1.2793, G Loss: 0.8867\n",
            "168/200: D Loss: 1.2783, G Loss: 0.8943\n",
            "169/200: D Loss: 1.2844, G Loss: 0.8936\n",
            "170/200: D Loss: 1.2825, G Loss: 0.8810\n",
            "171/200: D Loss: 1.2818, G Loss: 0.8771\n",
            "172/200: D Loss: 1.2790, G Loss: 0.8887\n",
            "173/200: D Loss: 1.2798, G Loss: 0.8860\n",
            "174/200: D Loss: 1.2762, G Loss: 0.8933\n",
            "175/200: D Loss: 1.2786, G Loss: 0.9069\n",
            "176/200: D Loss: 1.2766, G Loss: 0.8879\n",
            "177/200: D Loss: 1.2799, G Loss: 0.8899\n",
            "178/200: D Loss: 1.2875, G Loss: 0.8721\n",
            "179/200: D Loss: 1.2829, G Loss: 0.8840\n",
            "180/200: D Loss: 1.2851, G Loss: 0.8834\n",
            "181/200: D Loss: 1.2857, G Loss: 0.8811\n",
            "182/200: D Loss: 1.2815, G Loss: 0.8860\n",
            "183/200: D Loss: 1.2798, G Loss: 0.8850\n",
            "184/200: D Loss: 1.2833, G Loss: 0.8902\n",
            "185/200: D Loss: 1.2793, G Loss: 0.8900\n",
            "186/200: D Loss: 1.2865, G Loss: 0.8801\n",
            "187/200: D Loss: 1.2894, G Loss: 0.8759\n",
            "188/200: D Loss: 1.2888, G Loss: 0.8747\n",
            "189/200: D Loss: 1.2895, G Loss: 0.8787\n",
            "190/200: D Loss: 1.2854, G Loss: 0.8821\n",
            "191/200: D Loss: 1.2823, G Loss: 0.8829\n",
            "192/200: D Loss: 1.2812, G Loss: 0.8812\n",
            "193/200: D Loss: 1.2828, G Loss: 0.8862\n",
            "194/200: D Loss: 1.2761, G Loss: 0.8917\n",
            "195/200: D Loss: 1.2796, G Loss: 0.8932\n",
            "196/200: D Loss: 1.2864, G Loss: 0.8790\n",
            "197/200: D Loss: 1.2857, G Loss: 0.8835\n",
            "198/200: D Loss: 1.2798, G Loss: 0.8905\n",
            "199/200: D Loss: 1.2745, G Loss: 0.8979\n"
          ]
        }
      ]
    },
    {
      "cell_type": "code",
      "source": [
        "plt.plot(range(epoch+1), loss_G_hist, 'r-', label='Generator')\n",
        "plt.plot(range(epoch+1), loss_D_hist, 'b-', label='Discriminator')\n",
        "\n",
        "plt.xlabel('Epoch')\n",
        "plt.ylabel('loss')\n",
        "plt.grid(True)\n",
        "plt.legend()"
      ],
      "metadata": {
        "colab": {
          "base_uri": "https://localhost:8080/",
          "height": 470
        },
        "id": "1W-oYYGIyrAw",
        "outputId": "7189084a-164b-4aba-ffae-36bbb9b86f70"
      },
      "execution_count": 77,
      "outputs": [
        {
          "output_type": "execute_result",
          "data": {
            "text/plain": [
              "<matplotlib.legend.Legend at 0x78882027fa30>"
            ]
          },
          "metadata": {},
          "execution_count": 77
        },
        {
          "output_type": "display_data",
          "data": {
            "text/plain": [
              "<Figure size 640x480 with 1 Axes>"
            ],
            "image/png": "[encoded data removed]"
          },
          "metadata": {}
        }
      ]
    },
    {
      "cell_type": "markdown",
      "source": [
        "#DCGAN\n",
        "\n",
        "https://pytorch.org/tutorials/beginner/dcgan_faces_tutorial.html\n",
        "\n",
        "paper:"
      ],
      "metadata": {
        "id": "ljx5wOleRsCr"
      }
    },
    {
      "cell_type": "markdown",
      "source": [
        "# CGAN\n",
        "\n",
        "https://github.com/qbxlvnf11/conditional-GAN\n",
        "\n",
        "https://github.com/s-chh/Pytorch-cGAN-conditional-GAN/blob/main/cGAN.py#L67\n",
        "\n",
        "https://medium.com/@simple.schwarz/how-to-build-a-cgan-for-generating-mnist-digits-in-pytorch-b74b59b77e7c\n",
        "\n",
        "https://github.com/qbxlvnf11/conditional-GAN/blob/main/conditional-GAN-generating-fashion-mnist.ipynb ----> ipynb\n",
        "\n",
        "\n",
        "paper:"
      ],
      "metadata": {
        "id": "VUTd203mRuuZ"
      }
    },
    {
      "cell_type": "code",
      "source": [
        "i = torch.randn(10,100)\n",
        "i_dim = 100\n",
        "i.view(-1, i_dim).shape"
      ],
      "metadata": {
        "colab": {
          "base_uri": "https://localhost:8080/"
        },
        "id": "UeiwmHy6JUGh",
        "outputId": "c692bc03-d2ef-49b0-c019-cd08c1da73c4"
      },
      "execution_count": 79,
      "outputs": [
        {
          "output_type": "execute_result",
          "data": {
            "text/plain": [
              "torch.Size([10, 100])"
            ]
          },
          "metadata": {},
          "execution_count": 79
        }
      ]
    },
    {
      "cell_type": "markdown",
      "source": [
        "#WGAN - GP\n",
        "\n",
        "https://arxiv.org/abs/1701.07875 WGAN\n",
        "\n",
        "https://arxiv.org/abs/1704.00028 WGAN-GP\n",
        "\n",
        "\n",
        "https://github.com/EmilienDupont/wgan-gp/blob/master/training.py"
      ],
      "metadata": {
        "id": "vLbfp0SeRwwv"
      }
    },
    {
      "cell_type": "markdown",
      "source": [
        "## PyTorch Autograd Engine"
      ],
      "metadata": {
        "id": "lhH9YfRJOkFn"
      }
    },
    {
      "cell_type": "code",
      "source": [
        "x = torch.tensor([1., 3, 4], requires_grad= True)\n",
        "\n",
        "y = x + x ** 3\n",
        "\n",
        "autograd.grad(outputs = y , inputs = x, grad_outputs= torch.ones_like(y))"
      ],
      "metadata": {
        "colab": {
          "base_uri": "https://localhost:8080/"
        },
        "id": "DX0TNE_DOwjm",
        "outputId": "b41a5a44-fbe4-4bc7-a800-a065ff96bd6f"
      },
      "execution_count": 3,
      "outputs": [
        {
          "output_type": "execute_result",
          "data": {
            "text/plain": [
              "(tensor([ 4., 28., 49.]),)"
            ]
          },
          "metadata": {},
          "execution_count": 3
        }
      ]
    },
    {
      "cell_type": "code",
      "source": [
        "x = torch.tensor([1., 2., -1], requires_grad= True)\n",
        "w = torch.tensor(0.5, requires_grad= True)\n",
        "\n",
        "y = w * x + x ** 3\n",
        "\n",
        "autograd.grad(outputs = y , inputs = x, grad_outputs= torch.ones_like(y))"
      ],
      "metadata": {
        "colab": {
          "base_uri": "https://localhost:8080/"
        },
        "id": "fHep4Z4VP8m3",
        "outputId": "38d547d5-f50f-444d-e056-3a50b88d2ae7"
      },
      "execution_count": 87,
      "outputs": [
        {
          "output_type": "execute_result",
          "data": {
            "text/plain": [
              "(tensor([ 3.5000, 12.5000,  3.5000]),)"
            ]
          },
          "metadata": {},
          "execution_count": 87
        }
      ]
    },
    {
      "cell_type": "code",
      "source": [
        "x = torch.tensor([1., 2., -1], requires_grad= True)\n",
        "w = torch.tensor(0.5, requires_grad= True)\n",
        "\n",
        "y = w * x + x ** 3\n",
        "\n",
        "autograd.grad(outputs = y , inputs = w, grad_outputs= torch.ones_like(y))"
      ],
      "metadata": {
        "colab": {
          "base_uri": "https://localhost:8080/"
        },
        "id": "_8IyMgVUQUi1",
        "outputId": "9e3f9feb-c3aa-48f5-fd68-b8d3c073e995"
      },
      "execution_count": 88,
      "outputs": [
        {
          "output_type": "execute_result",
          "data": {
            "text/plain": [
              "(tensor(2.),)"
            ]
          },
          "metadata": {},
          "execution_count": 88
        }
      ]
    },
    {
      "cell_type": "code",
      "source": [
        "def compute_gradient_penalty(D, real_samples, fake_samples, device):\n",
        "    \"\"\"Calculates the gradient penalty loss for WGAN GP\"\"\"\n",
        "    # Random weight term for interpolation between real and fake samples\n",
        "    alpha = torch.rand((real_samples.size(0), 1, 1, 1), dtype=torch.float, device=device)\n",
        "    # Get random interpolation between real and fake samples\n",
        "    interpolates = (alpha * real_samples + ((1 - alpha) * fake_samples)).requires_grad_(True)\n",
        "    d_interpolates = D(interpolates).view(real_samples.size(0), -1)\n",
        "    fake = torch.full((real_samples.shape[0], 1), 1.0, dtype=torch.float, device=device, requires_grad=False)\n",
        "    # Get gradient w.r.t. interpolates\n",
        "    gradients = autograd.grad(\n",
        "        outputs=d_interpolates,\n",
        "        inputs=interpolates, # weights of D\n",
        "        grad_outputs=fake,\n",
        "        create_graph=True,\n",
        "        retain_graph=True,\n",
        "        only_inputs=True,\n",
        "    )[0]\n",
        "    gradients = gradients.view(gradients.size(0), -1)\n",
        "    gradient_penalty = ((gradients.norm(2, dim=1) - 1) ** 2).mean()\n",
        "    return gradient_penalty"
      ],
      "metadata": {
        "id": "DyOiqIPGOTyL"
      },
      "execution_count": null,
      "outputs": []
    },
    {
      "cell_type": "markdown",
      "source": [
        "# If you want to dig in to the domain of GANs or other Generative Models\n",
        "\n",
        "link: https://arxiv.org/abs/1801.04406#:~:text=Our%20analysis%20shows%20that%20GAN,converge%20to%20the%20equilibrium%20point.\n"
      ],
      "metadata": {
        "id": "WvlaaycYR3It"
      }
    }
  ]
}