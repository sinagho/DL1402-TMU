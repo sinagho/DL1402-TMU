{
  "nbformat": 4,
  "nbformat_minor": 0,
  "metadata": {
    "colab": {
      "provenance": [],
      "collapsed_sections": [
        "E8NvEnDuEuvS",
        "ZDxeMvcWij-V",
        "9Evgx0dMinH8",
        "QQkJGggyFT1l",
        "5gthkoN-i7mP",
        "9GYFtLnmkPmM",
        "w9l5yOhwFvox",
        "v914aoFiF3ef",
        "apFE-dVxGVM6",
        "S5jWRm9UrnYQ",
        "cFDi4SATGd3N",
        "rGicZePAGmbZ",
        "akmGXzmPuwR4"
      ]
    },
    "kernelspec": {
      "name": "python3",
      "display_name": "Python 3"
    },
    "language_info": {
      "name": "python"
    }
  },
  "cells": [
    {
      "cell_type": "markdown",
      "source": [
        "https://www.kaggle.com/code/abdallahhassann/california-housing-data-preprocessing-and-modeling"
      ],
      "metadata": {
        "id": "4uqoSXbFKuxV"
      }
    },
    {
      "cell_type": "markdown",
      "source": [
        "# **Imports**"
      ],
      "metadata": {
        "id": "E8NvEnDuEuvS"
      }
    },
    {
      "cell_type": "code",
      "execution_count": 30,
      "metadata": {
        "id": "D-xDzpneEj7x"
      },
      "outputs": [],
      "source": [
        "import torch\n",
        "from torch import nn, optim\n",
        "import torch.nn.functional as F\n",
        "from torch.utils.data import DataLoader, TensorDataset\n",
        "\n",
        "import matplotlib.pyplot as plt\n",
        "import pandas as pd\n",
        "from sklearn.metrics import r2_score"
      ]
    },
    {
      "cell_type": "markdown",
      "source": [
        "# **Load Dataset**"
      ],
      "metadata": {
        "id": "h48NIf0EE4J4"
      }
    },
    {
      "cell_type": "code",
      "source": [
        "from google.colab import drive\n",
        "drive.mount('/content/drive')"
      ],
      "metadata": {
        "colab": {
          "base_uri": "https://localhost:8080/"
        },
        "id": "LQW-5lGVjhMO",
        "outputId": "a267cecf-79ab-421b-f4bb-f4e5e264dd1b"
      },
      "execution_count": 31,
      "outputs": [
        {
          "output_type": "stream",
          "name": "stdout",
          "text": [
            "Drive already mounted at /content/drive; to attempt to forcibly remount, call drive.mount(\"/content/drive\", force_remount=True).\n"
          ]
        }
      ]
    },
    {
      "cell_type": "code",
      "source": [
        "!cp /content/drive/MyDrive/DeepLearning02/session1regression/data/train.csv train.csv\n",
        "\n",
        "!cp /content/drive/MyDrive/DeepLearning02/session1regression/data/test.csv test.csv"
      ],
      "metadata": {
        "id": "GuXVhw4ify8g"
      },
      "execution_count": 32,
      "outputs": []
    },
    {
      "cell_type": "code",
      "source": [
        "df_train = pd.read_csv(\"/content/train.csv\")\n",
        "x_train = df_train.drop('MedHouseVal', axis=1)\n",
        "y_train = df_train['MedHouseVal']"
      ],
      "metadata": {
        "id": "h-IrkW_bE0Cz"
      },
      "execution_count": 44,
      "outputs": []
    },
    {
      "cell_type": "code",
      "source": [
        "df_train.head()"
      ],
      "metadata": {
        "colab": {
          "base_uri": "https://localhost:8080/",
          "height": 206
        },
        "id": "oz_wvF4qrNbQ",
        "outputId": "a2e9c405-b0a0-431b-ecc1-2c36d696954b"
      },
      "execution_count": 45,
      "outputs": [
        {
          "output_type": "execute_result",
          "data": {
            "text/plain": [
              "   MedInc  HouseAge  AveRooms  AveBedrms  Population  AveOccup  Latitude  \\\n",
              "0  1.4817         6  4.443645   1.134293        1397  3.350120     36.77   \n",
              "1  6.9133         8  5.976471   1.026471         862  2.535294     33.68   \n",
              "2  1.5536        25  4.088785   1.000000         931  4.350467     36.60   \n",
              "3  1.5284        31  2.740088   1.008811         597  2.629956     34.10   \n",
              "4  4.0815        21  5.166667   1.002688        1130  3.037634     37.79   \n",
              "\n",
              "   Longitude  MedHouseVal  \n",
              "0    -119.84        0.720  \n",
              "1    -117.80        2.741  \n",
              "2    -120.19        0.583  \n",
              "3    -118.32        2.000  \n",
              "4    -121.23        1.179  "
            ],
            "text/html": [
              "\n",
              "  <div id=\"df-f13d070f-8127-4a4c-840c-789db6267bba\" class=\"colab-df-container\">\n",
              "    <div>\n",
              "<style scoped>\n",
              "    .dataframe tbody tr th:only-of-type {\n",
              "        vertical-align: middle;\n",
              "    }\n",
              "\n",
              "    .dataframe tbody tr th {\n",
              "        vertical-align: top;\n",
              "    }\n",
              "\n",
              "    .dataframe thead th {\n",
              "        text-align: right;\n",
              "    }\n",
              "</style>\n",
              "<table border=\"1\" class=\"dataframe\">\n",
              "  <thead>\n",
              "    <tr style=\"text-align: right;\">\n",
              "      <th></th>\n",
              "      <th>MedInc</th>\n",
              "      <th>HouseAge</th>\n",
              "      <th>AveRooms</th>\n",
              "      <th>AveBedrms</th>\n",
              "      <th>Population</th>\n",
              "      <th>AveOccup</th>\n",
              "      <th>Latitude</th>\n",
              "      <th>Longitude</th>\n",
              "      <th>MedHouseVal</th>\n",
              "    </tr>\n",
              "  </thead>\n",
              "  <tbody>\n",
              "    <tr>\n",
              "      <th>0</th>\n",
              "      <td>1.4817</td>\n",
              "      <td>6</td>\n",
              "      <td>4.443645</td>\n",
              "      <td>1.134293</td>\n",
              "      <td>1397</td>\n",
              "      <td>3.350120</td>\n",
              "      <td>36.77</td>\n",
              "      <td>-119.84</td>\n",
              "      <td>0.720</td>\n",
              "    </tr>\n",
              "    <tr>\n",
              "      <th>1</th>\n",
              "      <td>6.9133</td>\n",
              "      <td>8</td>\n",
              "      <td>5.976471</td>\n",
              "      <td>1.026471</td>\n",
              "      <td>862</td>\n",
              "      <td>2.535294</td>\n",
              "      <td>33.68</td>\n",
              "      <td>-117.80</td>\n",
              "      <td>2.741</td>\n",
              "    </tr>\n",
              "    <tr>\n",
              "      <th>2</th>\n",
              "      <td>1.5536</td>\n",
              "      <td>25</td>\n",
              "      <td>4.088785</td>\n",
              "      <td>1.000000</td>\n",
              "      <td>931</td>\n",
              "      <td>4.350467</td>\n",
              "      <td>36.60</td>\n",
              "      <td>-120.19</td>\n",
              "      <td>0.583</td>\n",
              "    </tr>\n",
              "    <tr>\n",
              "      <th>3</th>\n",
              "      <td>1.5284</td>\n",
              "      <td>31</td>\n",
              "      <td>2.740088</td>\n",
              "      <td>1.008811</td>\n",
              "      <td>597</td>\n",
              "      <td>2.629956</td>\n",
              "      <td>34.10</td>\n",
              "      <td>-118.32</td>\n",
              "      <td>2.000</td>\n",
              "    </tr>\n",
              "    <tr>\n",
              "      <th>4</th>\n",
              "      <td>4.0815</td>\n",
              "      <td>21</td>\n",
              "      <td>5.166667</td>\n",
              "      <td>1.002688</td>\n",
              "      <td>1130</td>\n",
              "      <td>3.037634</td>\n",
              "      <td>37.79</td>\n",
              "      <td>-121.23</td>\n",
              "      <td>1.179</td>\n",
              "    </tr>\n",
              "  </tbody>\n",
              "</table>\n",
              "</div>\n",
              "    <div class=\"colab-df-buttons\">\n",
              "\n",
              "  <div class=\"colab-df-container\">\n",
              "    <button class=\"colab-df-convert\" onclick=\"convertToInteractive('df-f13d070f-8127-4a4c-840c-789db6267bba')\"\n",
              "            title=\"Convert this dataframe to an interactive table.\"\n",
              "            style=\"display:none;\">\n",
              "\n",
              "  <svg xmlns=\"http://www.w3.org/2000/svg\" height=\"24px\" viewBox=\"0 -960 960 960\">\n",
              "    <path d=\"M120-120v-720h720v720H120Zm60-500h600v-160H180v160Zm220 220h160v-160H400v160Zm0 220h160v-160H400v160ZM180-400h160v-160H180v160Zm440 0h160v-160H620v160ZM180-180h160v-160H180v160Zm440 0h160v-160H620v160Z\"/>\n",
              "  </svg>\n",
              "    </button>\n",
              "\n",
              "  <style>\n",
              "    .colab-df-container {\n",
              "      display:flex;\n",
              "      gap: 12px;\n",
              "    }\n",
              "\n",
              "    .colab-df-convert {\n",
              "      background-color: #E8F0FE;\n",
              "      border: none;\n",
              "      border-radius: 50%;\n",
              "      cursor: pointer;\n",
              "      display: none;\n",
              "      fill: #1967D2;\n",
              "      height: 32px;\n",
              "      padding: 0 0 0 0;\n",
              "      width: 32px;\n",
              "    }\n",
              "\n",
              "    .colab-df-convert:hover {\n",
              "      background-color: #E2EBFA;\n",
              "      box-shadow: 0px 1px 2px rgba(60, 64, 67, 0.3), 0px 1px 3px 1px rgba(60, 64, 67, 0.15);\n",
              "      fill: #174EA6;\n",
              "    }\n",
              "\n",
              "    .colab-df-buttons div {\n",
              "      margin-bottom: 4px;\n",
              "    }\n",
              "\n",
              "    [theme=dark] .colab-df-convert {\n",
              "      background-color: #3B4455;\n",
              "      fill: #D2E3FC;\n",
              "    }\n",
              "\n",
              "    [theme=dark] .colab-df-convert:hover {\n",
              "      background-color: #434B5C;\n",
              "      box-shadow: 0px 1px 3px 1px rgba(0, 0, 0, 0.15);\n",
              "      filter: drop-shadow(0px 1px 2px rgba(0, 0, 0, 0.3));\n",
              "      fill: #FFFFFF;\n",
              "    }\n",
              "  </style>\n",
              "\n",
              "    <script>\n",
              "      const buttonEl =\n",
              "        document.querySelector('#df-f13d070f-8127-4a4c-840c-789db6267bba button.colab-df-convert');\n",
              "      buttonEl.style.display =\n",
              "        google.colab.kernel.accessAllowed ? 'block' : 'none';\n",
              "\n",
              "      async function convertToInteractive(key) {\n",
              "        const element = document.querySelector('#df-f13d070f-8127-4a4c-840c-789db6267bba');\n",
              "        const dataTable =\n",
              "          await google.colab.kernel.invokeFunction('convertToInteractive',\n",
              "                                                    [key], {});\n",
              "        if (!dataTable) return;\n",
              "\n",
              "        const docLinkHtml = 'Like what you see? Visit the ' +\n",
              "          '<a target=\"_blank\" href=https://colab.research.google.com/notebooks/data_table.ipynb>data table notebook</a>'\n",
              "          + ' to learn more about interactive tables.';\n",
              "        element.innerHTML = '';\n",
              "        dataTable['output_type'] = 'display_data';\n",
              "        await google.colab.output.renderOutput(dataTable, element);\n",
              "        const docLink = document.createElement('div');\n",
              "        docLink.innerHTML = docLinkHtml;\n",
              "        element.appendChild(docLink);\n",
              "      }\n",
              "    </script>\n",
              "  </div>\n",
              "\n",
              "\n",
              "<div id=\"df-82938a84-07dd-4a64-a511-2c95fd4f2737\">\n",
              "  <button class=\"colab-df-quickchart\" onclick=\"quickchart('df-82938a84-07dd-4a64-a511-2c95fd4f2737')\"\n",
              "            title=\"Suggest charts\"\n",
              "            style=\"display:none;\">\n",
              "\n",
              "<svg xmlns=\"http://www.w3.org/2000/svg\" height=\"24px\"viewBox=\"0 0 24 24\"\n",
              "     width=\"24px\">\n",
              "    <g>\n",
              "        <path d=\"M19 3H5c-1.1 0-2 .9-2 2v14c0 1.1.9 2 2 2h14c1.1 0 2-.9 2-2V5c0-1.1-.9-2-2-2zM9 17H7v-7h2v7zm4 0h-2V7h2v10zm4 0h-2v-4h2v4z\"/>\n",
              "    </g>\n",
              "</svg>\n",
              "  </button>\n",
              "\n",
              "<style>\n",
              "  .colab-df-quickchart {\n",
              "      --bg-color: #E8F0FE;\n",
              "      --fill-color: #1967D2;\n",
              "      --hover-bg-color: #E2EBFA;\n",
              "      --hover-fill-color: #174EA6;\n",
              "      --disabled-fill-color: #AAA;\n",
              "      --disabled-bg-color: #DDD;\n",
              "  }\n",
              "\n",
              "  [theme=dark] .colab-df-quickchart {\n",
              "      --bg-color: #3B4455;\n",
              "      --fill-color: #D2E3FC;\n",
              "      --hover-bg-color: #434B5C;\n",
              "      --hover-fill-color: #FFFFFF;\n",
              "      --disabled-bg-color: #3B4455;\n",
              "      --disabled-fill-color: #666;\n",
              "  }\n",
              "\n",
              "  .colab-df-quickchart {\n",
              "    background-color: var(--bg-color);\n",
              "    border: none;\n",
              "    border-radius: 50%;\n",
              "    cursor: pointer;\n",
              "    display: none;\n",
              "    fill: var(--fill-color);\n",
              "    height: 32px;\n",
              "    padding: 0;\n",
              "    width: 32px;\n",
              "  }\n",
              "\n",
              "  .colab-df-quickchart:hover {\n",
              "    background-color: var(--hover-bg-color);\n",
              "    box-shadow: 0 1px 2px rgba(60, 64, 67, 0.3), 0 1px 3px 1px rgba(60, 64, 67, 0.15);\n",
              "    fill: var(--button-hover-fill-color);\n",
              "  }\n",
              "\n",
              "  .colab-df-quickchart-complete:disabled,\n",
              "  .colab-df-quickchart-complete:disabled:hover {\n",
              "    background-color: var(--disabled-bg-color);\n",
              "    fill: var(--disabled-fill-color);\n",
              "    box-shadow: none;\n",
              "  }\n",
              "\n",
              "  .colab-df-spinner {\n",
              "    border: 2px solid var(--fill-color);\n",
              "    border-color: transparent;\n",
              "    border-bottom-color: var(--fill-color);\n",
              "    animation:\n",
              "      spin 1s steps(1) infinite;\n",
              "  }\n",
              "\n",
              "  @keyframes spin {\n",
              "    0% {\n",
              "      border-color: transparent;\n",
              "      border-bottom-color: var(--fill-color);\n",
              "      border-left-color: var(--fill-color);\n",
              "    }\n",
              "    20% {\n",
              "      border-color: transparent;\n",
              "      border-left-color: var(--fill-color);\n",
              "      border-top-color: var(--fill-color);\n",
              "    }\n",
              "    30% {\n",
              "      border-color: transparent;\n",
              "      border-left-color: var(--fill-color);\n",
              "      border-top-color: var(--fill-color);\n",
              "      border-right-color: var(--fill-color);\n",
              "    }\n",
              "    40% {\n",
              "      border-color: transparent;\n",
              "      border-right-color: var(--fill-color);\n",
              "      border-top-color: var(--fill-color);\n",
              "    }\n",
              "    60% {\n",
              "      border-color: transparent;\n",
              "      border-right-color: var(--fill-color);\n",
              "    }\n",
              "    80% {\n",
              "      border-color: transparent;\n",
              "      border-right-color: var(--fill-color);\n",
              "      border-bottom-color: var(--fill-color);\n",
              "    }\n",
              "    90% {\n",
              "      border-color: transparent;\n",
              "      border-bottom-color: var(--fill-color);\n",
              "    }\n",
              "  }\n",
              "</style>\n",
              "\n",
              "  <script>\n",
              "    async function quickchart(key) {\n",
              "      const quickchartButtonEl =\n",
              "        document.querySelector('#' + key + ' button');\n",
              "      quickchartButtonEl.disabled = true;  // To prevent multiple clicks.\n",
              "      quickchartButtonEl.classList.add('colab-df-spinner');\n",
              "      try {\n",
              "        const charts = await google.colab.kernel.invokeFunction(\n",
              "            'suggestCharts', [key], {});\n",
              "      } catch (error) {\n",
              "        console.error('Error during call to suggestCharts:', error);\n",
              "      }\n",
              "      quickchartButtonEl.classList.remove('colab-df-spinner');\n",
              "      quickchartButtonEl.classList.add('colab-df-quickchart-complete');\n",
              "    }\n",
              "    (() => {\n",
              "      let quickchartButtonEl =\n",
              "        document.querySelector('#df-82938a84-07dd-4a64-a511-2c95fd4f2737 button');\n",
              "      quickchartButtonEl.style.display =\n",
              "        google.colab.kernel.accessAllowed ? 'block' : 'none';\n",
              "    })();\n",
              "  </script>\n",
              "</div>\n",
              "    </div>\n",
              "  </div>\n"
            ]
          },
          "metadata": {},
          "execution_count": 45
        }
      ]
    },
    {
      "cell_type": "code",
      "source": [
        "x_train.shape"
      ],
      "metadata": {
        "colab": {
          "base_uri": "https://localhost:8080/"
        },
        "id": "nyaWDqG-t_61",
        "outputId": "33b2f6cb-5412-4f5d-d6ec-d08976b7c6e6"
      },
      "execution_count": 46,
      "outputs": [
        {
          "output_type": "execute_result",
          "data": {
            "text/plain": [
              "(16512, 8)"
            ]
          },
          "metadata": {},
          "execution_count": 46
        }
      ]
    },
    {
      "cell_type": "code",
      "source": [
        "y_train"
      ],
      "metadata": {
        "id": "yBghcEFIk5pj",
        "colab": {
          "base_uri": "https://localhost:8080/"
        },
        "outputId": "3f74c083-b2ad-4823-e79e-010793b93bbb"
      },
      "execution_count": 47,
      "outputs": [
        {
          "output_type": "execute_result",
          "data": {
            "text/plain": [
              "0        0.720\n",
              "1        2.741\n",
              "2        0.583\n",
              "3        2.000\n",
              "4        1.179\n",
              "         ...  \n",
              "16507    0.938\n",
              "16508    1.031\n",
              "16509    1.926\n",
              "16510    1.535\n",
              "16511    0.811\n",
              "Name: MedHouseVal, Length: 16512, dtype: float64"
            ]
          },
          "metadata": {},
          "execution_count": 47
        }
      ]
    },
    {
      "cell_type": "markdown",
      "source": [
        "## Test"
      ],
      "metadata": {
        "id": "9Evgx0dMinH8"
      }
    },
    {
      "cell_type": "code",
      "source": [
        "df_test = pd.read_csv(\"/content/test.csv\")\n",
        "x_test = df_test.drop('MedHouseVal', axis=1)\n",
        "y_test = df_test['MedHouseVal']"
      ],
      "metadata": {
        "id": "Q_qY4FctiiyM"
      },
      "execution_count": 48,
      "outputs": []
    },
    {
      "cell_type": "markdown",
      "source": [
        "# **Preprocessing**"
      ],
      "metadata": {
        "id": "QQkJGggyFT1l"
      }
    },
    {
      "cell_type": "markdown",
      "source": [
        "## Convert to tensor"
      ],
      "metadata": {
        "id": "5gthkoN-i7mP"
      }
    },
    {
      "cell_type": "markdown",
      "source": [
        "### Train"
      ],
      "metadata": {
        "id": "WRtTBCAsLhgn"
      }
    },
    {
      "cell_type": "code",
      "source": [
        "x_train.values"
      ],
      "metadata": {
        "colab": {
          "base_uri": "https://localhost:8080/"
        },
        "id": "kT70kEfaMNV9",
        "outputId": "5b83335e-1b28-4fa8-f08a-2d4ebc27191f"
      },
      "execution_count": 49,
      "outputs": [
        {
          "output_type": "execute_result",
          "data": {
            "text/plain": [
              "array([[   1.4817    ,    6.        ,    4.44364508, ...,    3.3501199 ,\n",
              "          36.77      , -119.84      ],\n",
              "       [   6.9133    ,    8.        ,    5.97647059, ...,    2.53529412,\n",
              "          33.68      , -117.8       ],\n",
              "       [   1.5536    ,   25.        ,    4.08878505, ...,    4.35046729,\n",
              "          36.6       , -120.19      ],\n",
              "       ...,\n",
              "       [   4.4958    ,   19.        ,    5.8997669 , ...,    2.81118881,\n",
              "          38.92      , -121.22      ],\n",
              "       [   2.575     ,   39.        ,    3.5912031 , ...,    3.29366106,\n",
              "          34.16      , -118.14      ],\n",
              "       [   2.2478    ,   31.        ,    5.12380952, ...,    2.99761905,\n",
              "          40.8       , -124.13      ]])"
            ]
          },
          "metadata": {},
          "execution_count": 49
        }
      ]
    },
    {
      "cell_type": "code",
      "source": [
        "x_train = torch.tensor(x_train.values, dtype=torch.float32)"
      ],
      "metadata": {
        "id": "Bkf2zzy2i-0K"
      },
      "execution_count": 50,
      "outputs": []
    },
    {
      "cell_type": "code",
      "source": [
        "y_train = torch.tensor(y_train.values, dtype=torch.float32) #First point"
      ],
      "metadata": {
        "id": "ojhIXegSMp0w"
      },
      "execution_count": 51,
      "outputs": []
    },
    {
      "cell_type": "markdown",
      "source": [
        "### Test"
      ],
      "metadata": {
        "id": "sVMB0VJVLjsy"
      }
    },
    {
      "cell_type": "code",
      "source": [
        "x_test = torch.FloatTensor(x_test.values)\n",
        "y_test = torch.FloatTensor(y_test.values) #First point"
      ],
      "metadata": {
        "id": "98dM65LsjEvA"
      },
      "execution_count": 52,
      "outputs": []
    },
    {
      "cell_type": "markdown",
      "source": [
        "## Normalize"
      ],
      "metadata": {
        "id": "9GYFtLnmkPmM"
      }
    },
    {
      "cell_type": "code",
      "source": [
        "mu = x_train.mean(dim=0)\n",
        "std = x_train.std(dim=0)"
      ],
      "metadata": {
        "id": "XD-Dt-L0kXRe"
      },
      "execution_count": 53,
      "outputs": []
    },
    {
      "cell_type": "code",
      "source": [
        "x_train = (x_train - mu) / std"
      ],
      "metadata": {
        "id": "r040DhtXE-6g"
      },
      "execution_count": 54,
      "outputs": []
    },
    {
      "cell_type": "code",
      "source": [
        "x_train.std(dim=0)"
      ],
      "metadata": {
        "colab": {
          "base_uri": "https://localhost:8080/"
        },
        "id": "WlW1-DXtN2r6",
        "outputId": "18c39dac-f39a-4d96-fc07-bd0893b9a30b"
      },
      "execution_count": 55,
      "outputs": [
        {
          "output_type": "execute_result",
          "data": {
            "text/plain": [
              "tensor([1.0000, 1.0000, 1.0000, 1.0000, 1.0000, 1.0000, 1.0000, 1.0000])"
            ]
          },
          "metadata": {},
          "execution_count": 55
        }
      ]
    },
    {
      "cell_type": "code",
      "source": [
        "x_test = (x_test - mu) / std"
      ],
      "metadata": {
        "id": "uVQqiLBbOGPe"
      },
      "execution_count": 56,
      "outputs": []
    },
    {
      "cell_type": "code",
      "source": [
        "x_test.mean(dim=0)"
      ],
      "metadata": {
        "colab": {
          "base_uri": "https://localhost:8080/"
        },
        "id": "FQW5eFtBOr8D",
        "outputId": "52f78d7a-7539-490d-a1f3-b3104e4e9444"
      },
      "execution_count": 57,
      "outputs": [
        {
          "output_type": "execute_result",
          "data": {
            "text/plain": [
              "tensor([ 0.0174,  0.0059,  0.0357,  0.0232, -0.0412, -0.0045,  0.0125, -0.0141])"
            ]
          },
          "metadata": {},
          "execution_count": 57
        }
      ]
    },
    {
      "cell_type": "code",
      "source": [
        "x_test.std(dim=0)"
      ],
      "metadata": {
        "colab": {
          "base_uri": "https://localhost:8080/"
        },
        "id": "FUbQSs40O0Xn",
        "outputId": "78eb48e8-d430-4ed8-c8a2-ac61c65c6a4d"
      },
      "execution_count": 58,
      "outputs": [
        {
          "output_type": "execute_result",
          "data": {
            "text/plain": [
              "tensor([1.0173, 0.9952, 1.3752, 1.2463, 0.8829, 0.7154, 0.9926, 0.9963])"
            ]
          },
          "metadata": {},
          "execution_count": 58
        }
      ]
    },
    {
      "cell_type": "markdown",
      "source": [
        "# **Dataloader**"
      ],
      "metadata": {
        "id": "w9l5yOhwFvox"
      }
    },
    {
      "cell_type": "code",
      "source": [
        "train_dataset = TensorDataset(x_train, y_train)"
      ],
      "metadata": {
        "id": "2AkgJ_9-k9jW"
      },
      "execution_count": 59,
      "outputs": []
    },
    {
      "cell_type": "code",
      "source": [
        "train_dataset"
      ],
      "metadata": {
        "colab": {
          "base_uri": "https://localhost:8080/"
        },
        "id": "SPJ7N68CQgdH",
        "outputId": "be8ea6d8-a357-4edd-8560-72fc0f70806c"
      },
      "execution_count": 60,
      "outputs": [
        {
          "output_type": "execute_result",
          "data": {
            "text/plain": [
              "<torch.utils.data.dataset.TensorDataset at 0x796e1b5dea70>"
            ]
          },
          "metadata": {},
          "execution_count": 60
        }
      ]
    },
    {
      "cell_type": "code",
      "source": [
        "train_dataset.tensors"
      ],
      "metadata": {
        "colab": {
          "base_uri": "https://localhost:8080/"
        },
        "id": "XLGLlzl5uyKR",
        "outputId": "cf5ec56d-2936-4498-806f-0f8f50a93d7c"
      },
      "execution_count": 61,
      "outputs": [
        {
          "output_type": "execute_result",
          "data": {
            "text/plain": [
              "(tensor([[-1.2584, -1.7959, -0.4252,  ...,  0.0247,  0.5345, -0.1376],\n",
              "         [ 1.6106, -1.6371,  0.2473,  ..., -0.0499, -0.9100,  0.8798],\n",
              "         [-1.2204, -0.2877, -0.5809,  ...,  0.1162,  0.4551, -0.3122],\n",
              "         ...,\n",
              "         [ 0.3337, -0.7640,  0.2137,  ..., -0.0246,  1.5396, -0.8259],\n",
              "         [-0.6809,  0.8236, -0.7992,  ...,  0.0195, -0.6856,  0.7102],\n",
              "         [-0.8537,  0.1886, -0.1268,  ..., -0.0076,  2.4185, -2.2772]]),\n",
              " tensor([0.7200, 2.7410, 0.5830,  ..., 1.9260, 1.5350, 0.8110]))"
            ]
          },
          "metadata": {},
          "execution_count": 61
        }
      ]
    },
    {
      "cell_type": "code",
      "source": [
        "train_dataset.tensors[1]"
      ],
      "metadata": {
        "colab": {
          "base_uri": "https://localhost:8080/"
        },
        "id": "zVe7fYdUQvVC",
        "outputId": "15ab8d51-4a3e-41d5-8596-27e8541f201a"
      },
      "execution_count": 62,
      "outputs": [
        {
          "output_type": "execute_result",
          "data": {
            "text/plain": [
              "tensor([0.7200, 2.7410, 0.5830,  ..., 1.9260, 1.5350, 0.8110])"
            ]
          },
          "metadata": {},
          "execution_count": 62
        }
      ]
    },
    {
      "cell_type": "code",
      "source": [
        "train_loader = DataLoader(train_dataset, batch_size=128, shuffle=True)"
      ],
      "metadata": {
        "id": "_cNJ89TyFsI0"
      },
      "execution_count": 63,
      "outputs": []
    },
    {
      "cell_type": "code",
      "source": [
        "train_loader"
      ],
      "metadata": {
        "id": "jRajYe6eoBHF",
        "colab": {
          "base_uri": "https://localhost:8080/"
        },
        "outputId": "f8680b5e-92a7-49f9-9302-27751d126a48"
      },
      "execution_count": 64,
      "outputs": [
        {
          "output_type": "execute_result",
          "data": {
            "text/plain": [
              "<torch.utils.data.dataloader.DataLoader at 0x796e188b3a90>"
            ]
          },
          "metadata": {},
          "execution_count": 64
        }
      ]
    },
    {
      "cell_type": "code",
      "source": [
        "for i, (x_batch, y_batch) in enumerate(train_loader):\n",
        "  print(i, x_batch.shape, y_batch.shape)"
      ],
      "metadata": {
        "id": "iyx4NbUDP8KQ",
        "colab": {
          "base_uri": "https://localhost:8080/"
        },
        "outputId": "6aac3c03-d8ec-4f75-c882-81522c7a05fb"
      },
      "execution_count": 65,
      "outputs": [
        {
          "output_type": "stream",
          "name": "stdout",
          "text": [
            "0 torch.Size([128, 8]) torch.Size([128])\n",
            "1 torch.Size([128, 8]) torch.Size([128])\n",
            "2 torch.Size([128, 8]) torch.Size([128])\n",
            "3 torch.Size([128, 8]) torch.Size([128])\n",
            "4 torch.Size([128, 8]) torch.Size([128])\n",
            "5 torch.Size([128, 8]) torch.Size([128])\n",
            "6 torch.Size([128, 8]) torch.Size([128])\n",
            "7 torch.Size([128, 8]) torch.Size([128])\n",
            "8 torch.Size([128, 8]) torch.Size([128])\n",
            "9 torch.Size([128, 8]) torch.Size([128])\n",
            "10 torch.Size([128, 8]) torch.Size([128])\n",
            "11 torch.Size([128, 8]) torch.Size([128])\n",
            "12 torch.Size([128, 8]) torch.Size([128])\n",
            "13 torch.Size([128, 8]) torch.Size([128])\n",
            "14 torch.Size([128, 8]) torch.Size([128])\n",
            "15 torch.Size([128, 8]) torch.Size([128])\n",
            "16 torch.Size([128, 8]) torch.Size([128])\n",
            "17 torch.Size([128, 8]) torch.Size([128])\n",
            "18 torch.Size([128, 8]) torch.Size([128])\n",
            "19 torch.Size([128, 8]) torch.Size([128])\n",
            "20 torch.Size([128, 8]) torch.Size([128])\n",
            "21 torch.Size([128, 8]) torch.Size([128])\n",
            "22 torch.Size([128, 8]) torch.Size([128])\n",
            "23 torch.Size([128, 8]) torch.Size([128])\n",
            "24 torch.Size([128, 8]) torch.Size([128])\n",
            "25 torch.Size([128, 8]) torch.Size([128])\n",
            "26 torch.Size([128, 8]) torch.Size([128])\n",
            "27 torch.Size([128, 8]) torch.Size([128])\n",
            "28 torch.Size([128, 8]) torch.Size([128])\n",
            "29 torch.Size([128, 8]) torch.Size([128])\n",
            "30 torch.Size([128, 8]) torch.Size([128])\n",
            "31 torch.Size([128, 8]) torch.Size([128])\n",
            "32 torch.Size([128, 8]) torch.Size([128])\n",
            "33 torch.Size([128, 8]) torch.Size([128])\n",
            "34 torch.Size([128, 8]) torch.Size([128])\n",
            "35 torch.Size([128, 8]) torch.Size([128])\n",
            "36 torch.Size([128, 8]) torch.Size([128])\n",
            "37 torch.Size([128, 8]) torch.Size([128])\n",
            "38 torch.Size([128, 8]) torch.Size([128])\n",
            "39 torch.Size([128, 8]) torch.Size([128])\n",
            "40 torch.Size([128, 8]) torch.Size([128])\n",
            "41 torch.Size([128, 8]) torch.Size([128])\n",
            "42 torch.Size([128, 8]) torch.Size([128])\n",
            "43 torch.Size([128, 8]) torch.Size([128])\n",
            "44 torch.Size([128, 8]) torch.Size([128])\n",
            "45 torch.Size([128, 8]) torch.Size([128])\n",
            "46 torch.Size([128, 8]) torch.Size([128])\n",
            "47 torch.Size([128, 8]) torch.Size([128])\n",
            "48 torch.Size([128, 8]) torch.Size([128])\n",
            "49 torch.Size([128, 8]) torch.Size([128])\n",
            "50 torch.Size([128, 8]) torch.Size([128])\n",
            "51 torch.Size([128, 8]) torch.Size([128])\n",
            "52 torch.Size([128, 8]) torch.Size([128])\n",
            "53 torch.Size([128, 8]) torch.Size([128])\n",
            "54 torch.Size([128, 8]) torch.Size([128])\n",
            "55 torch.Size([128, 8]) torch.Size([128])\n",
            "56 torch.Size([128, 8]) torch.Size([128])\n",
            "57 torch.Size([128, 8]) torch.Size([128])\n",
            "58 torch.Size([128, 8]) torch.Size([128])\n",
            "59 torch.Size([128, 8]) torch.Size([128])\n",
            "60 torch.Size([128, 8]) torch.Size([128])\n",
            "61 torch.Size([128, 8]) torch.Size([128])\n",
            "62 torch.Size([128, 8]) torch.Size([128])\n",
            "63 torch.Size([128, 8]) torch.Size([128])\n",
            "64 torch.Size([128, 8]) torch.Size([128])\n",
            "65 torch.Size([128, 8]) torch.Size([128])\n",
            "66 torch.Size([128, 8]) torch.Size([128])\n",
            "67 torch.Size([128, 8]) torch.Size([128])\n",
            "68 torch.Size([128, 8]) torch.Size([128])\n",
            "69 torch.Size([128, 8]) torch.Size([128])\n",
            "70 torch.Size([128, 8]) torch.Size([128])\n",
            "71 torch.Size([128, 8]) torch.Size([128])\n",
            "72 torch.Size([128, 8]) torch.Size([128])\n",
            "73 torch.Size([128, 8]) torch.Size([128])\n",
            "74 torch.Size([128, 8]) torch.Size([128])\n",
            "75 torch.Size([128, 8]) torch.Size([128])\n",
            "76 torch.Size([128, 8]) torch.Size([128])\n",
            "77 torch.Size([128, 8]) torch.Size([128])\n",
            "78 torch.Size([128, 8]) torch.Size([128])\n",
            "79 torch.Size([128, 8]) torch.Size([128])\n",
            "80 torch.Size([128, 8]) torch.Size([128])\n",
            "81 torch.Size([128, 8]) torch.Size([128])\n",
            "82 torch.Size([128, 8]) torch.Size([128])\n",
            "83 torch.Size([128, 8]) torch.Size([128])\n",
            "84 torch.Size([128, 8]) torch.Size([128])\n",
            "85 torch.Size([128, 8]) torch.Size([128])\n",
            "86 torch.Size([128, 8]) torch.Size([128])\n",
            "87 torch.Size([128, 8]) torch.Size([128])\n",
            "88 torch.Size([128, 8]) torch.Size([128])\n",
            "89 torch.Size([128, 8]) torch.Size([128])\n",
            "90 torch.Size([128, 8]) torch.Size([128])\n",
            "91 torch.Size([128, 8]) torch.Size([128])\n",
            "92 torch.Size([128, 8]) torch.Size([128])\n",
            "93 torch.Size([128, 8]) torch.Size([128])\n",
            "94 torch.Size([128, 8]) torch.Size([128])\n",
            "95 torch.Size([128, 8]) torch.Size([128])\n",
            "96 torch.Size([128, 8]) torch.Size([128])\n",
            "97 torch.Size([128, 8]) torch.Size([128])\n",
            "98 torch.Size([128, 8]) torch.Size([128])\n",
            "99 torch.Size([128, 8]) torch.Size([128])\n",
            "100 torch.Size([128, 8]) torch.Size([128])\n",
            "101 torch.Size([128, 8]) torch.Size([128])\n",
            "102 torch.Size([128, 8]) torch.Size([128])\n",
            "103 torch.Size([128, 8]) torch.Size([128])\n",
            "104 torch.Size([128, 8]) torch.Size([128])\n",
            "105 torch.Size([128, 8]) torch.Size([128])\n",
            "106 torch.Size([128, 8]) torch.Size([128])\n",
            "107 torch.Size([128, 8]) torch.Size([128])\n",
            "108 torch.Size([128, 8]) torch.Size([128])\n",
            "109 torch.Size([128, 8]) torch.Size([128])\n",
            "110 torch.Size([128, 8]) torch.Size([128])\n",
            "111 torch.Size([128, 8]) torch.Size([128])\n",
            "112 torch.Size([128, 8]) torch.Size([128])\n",
            "113 torch.Size([128, 8]) torch.Size([128])\n",
            "114 torch.Size([128, 8]) torch.Size([128])\n",
            "115 torch.Size([128, 8]) torch.Size([128])\n",
            "116 torch.Size([128, 8]) torch.Size([128])\n",
            "117 torch.Size([128, 8]) torch.Size([128])\n",
            "118 torch.Size([128, 8]) torch.Size([128])\n",
            "119 torch.Size([128, 8]) torch.Size([128])\n",
            "120 torch.Size([128, 8]) torch.Size([128])\n",
            "121 torch.Size([128, 8]) torch.Size([128])\n",
            "122 torch.Size([128, 8]) torch.Size([128])\n",
            "123 torch.Size([128, 8]) torch.Size([128])\n",
            "124 torch.Size([128, 8]) torch.Size([128])\n",
            "125 torch.Size([128, 8]) torch.Size([128])\n",
            "126 torch.Size([128, 8]) torch.Size([128])\n",
            "127 torch.Size([128, 8]) torch.Size([128])\n",
            "128 torch.Size([128, 8]) torch.Size([128])\n"
          ]
        }
      ]
    },
    {
      "cell_type": "code",
      "source": [
        "len(train_loader)"
      ],
      "metadata": {
        "colab": {
          "base_uri": "https://localhost:8080/"
        },
        "id": "cADntKnZS7q0",
        "outputId": "3e77ec87-1243-4de0-8561-89b069c4803a"
      },
      "execution_count": 66,
      "outputs": [
        {
          "output_type": "execute_result",
          "data": {
            "text/plain": [
              "129"
            ]
          },
          "metadata": {},
          "execution_count": 66
        }
      ]
    },
    {
      "cell_type": "code",
      "source": [
        "129 * 128"
      ],
      "metadata": {
        "colab": {
          "base_uri": "https://localhost:8080/"
        },
        "id": "WTs-s3uDv84I",
        "outputId": "10c9a239-1e84-49a4-8f34-bc3cf1110772"
      },
      "execution_count": 67,
      "outputs": [
        {
          "output_type": "execute_result",
          "data": {
            "text/plain": [
              "16512"
            ]
          },
          "metadata": {},
          "execution_count": 67
        }
      ]
    },
    {
      "cell_type": "code",
      "source": [
        "x_b, y_b = next(iter(train_loader))"
      ],
      "metadata": {
        "id": "ENOx7UjPTQtM"
      },
      "execution_count": 68,
      "outputs": []
    },
    {
      "cell_type": "code",
      "source": [
        "x_b.shape"
      ],
      "metadata": {
        "colab": {
          "base_uri": "https://localhost:8080/"
        },
        "id": "EYuBhclFogQv",
        "outputId": "db242e22-2950-4ec9-f1f8-cd19f54a667f"
      },
      "execution_count": 69,
      "outputs": [
        {
          "output_type": "execute_result",
          "data": {
            "text/plain": [
              "torch.Size([128, 8])"
            ]
          },
          "metadata": {},
          "execution_count": 69
        }
      ]
    },
    {
      "cell_type": "code",
      "source": [
        "test_dataset = TensorDataset(x_test, y_test)\n",
        "test_loader = DataLoader(test_dataset, batch_size=256, shuffle=False)"
      ],
      "metadata": {
        "id": "ZN6b9_qkTjyD"
      },
      "execution_count": 70,
      "outputs": []
    },
    {
      "cell_type": "markdown",
      "source": [
        "# **Define Model**"
      ],
      "metadata": {
        "id": "v914aoFiF3ef"
      }
    },
    {
      "cell_type": "code",
      "source": [
        "num_feats = 8\n",
        "out_feat = 1\n",
        "h1 = 128\n",
        "h2 = 64\n",
        "\n",
        "model = nn.Sequential(nn.Linear(num_feats, h1),\n",
        "                      nn.ReLU(),\n",
        "                      nn.Linear(h1, h2),\n",
        "                      nn.ReLU(),\n",
        "                      nn.Linear(h2, out_feat))"
      ],
      "metadata": {
        "id": "_ncphIP6Fyve"
      },
      "execution_count": 83,
      "outputs": []
    },
    {
      "cell_type": "code",
      "source": [
        "model"
      ],
      "metadata": {
        "colab": {
          "base_uri": "https://localhost:8080/"
        },
        "id": "CUmjZUbAWYGG",
        "outputId": "ccf5ab2a-8062-4f9a-a34b-c3ad9d8567eb"
      },
      "execution_count": 84,
      "outputs": [
        {
          "output_type": "execute_result",
          "data": {
            "text/plain": [
              "Sequential(\n",
              "  (0): Linear(in_features=8, out_features=128, bias=True)\n",
              "  (1): ReLU()\n",
              "  (2): Linear(in_features=128, out_features=64, bias=True)\n",
              "  (3): ReLU()\n",
              "  (4): Linear(in_features=64, out_features=1, bias=True)\n",
              ")"
            ]
          },
          "metadata": {},
          "execution_count": 84
        }
      ]
    },
    {
      "cell_type": "markdown",
      "source": [
        "# **Loss & Optimizer**"
      ],
      "metadata": {
        "id": "apFE-dVxGVM6"
      }
    },
    {
      "cell_type": "code",
      "source": [
        "loss_fn = nn.MSELoss()\n",
        "optimizer = optim.SGD(model.parameters(), lr=0.001)"
      ],
      "metadata": {
        "id": "eu9kWrvHGS3c"
      },
      "execution_count": 85,
      "outputs": []
    },
    {
      "cell_type": "code",
      "source": [
        "x_b, y_b = next(iter(train_loader))\n",
        "\n",
        "output = model(x_b)\n",
        "\n",
        "#output.shape\n",
        "\n",
        "loss_fn(output.squeeze(), y_b)"
      ],
      "metadata": {
        "colab": {
          "base_uri": "https://localhost:8080/"
        },
        "id": "lWYf625fwVo4",
        "outputId": "5b2667dc-c25e-452c-b590-e3156e592f16"
      },
      "execution_count": 82,
      "outputs": [
        {
          "output_type": "execute_result",
          "data": {
            "text/plain": [
              "tensor(6.4861, grad_fn=<MseLossBackward0>)"
            ]
          },
          "metadata": {},
          "execution_count": 82
        }
      ]
    },
    {
      "cell_type": "markdown",
      "source": [
        "# Utils and config"
      ],
      "metadata": {
        "id": "0k3mI4EPqthr"
      }
    },
    {
      "cell_type": "code",
      "source": [
        "device = 'cuda' if torch.cuda.is_available() else 'cpu'\n",
        "model = model.to(device)"
      ],
      "metadata": {
        "id": "v0kcPiXFrMW9"
      },
      "execution_count": 86,
      "outputs": []
    },
    {
      "cell_type": "code",
      "source": [
        "class AverageMeter(object):\n",
        "    \"\"\"Computes and stores the average and current value\"\"\"\n",
        "    def __init__(self):\n",
        "        self.reset()\n",
        "\n",
        "    def reset(self):\n",
        "        self.val = 0\n",
        "        self.avg = 0\n",
        "        self.sum = 0\n",
        "        self.count = 0\n",
        "\n",
        "    def update(self, val, n=1):\n",
        "        self.val = val\n",
        "        self.sum += val * n\n",
        "        self.count += n\n",
        "        self.avg = self.sum / self.count"
      ],
      "metadata": {
        "id": "ncR5UEatqvtT"
      },
      "execution_count": 88,
      "outputs": []
    },
    {
      "cell_type": "markdown",
      "source": [
        "# Train Loop"
      ],
      "metadata": {
        "id": "cFDi4SATGd3N"
      }
    },
    {
      "cell_type": "code",
      "source": [
        "..."
      ],
      "metadata": {
        "id": "OOHf2ewbyihV"
      },
      "execution_count": null,
      "outputs": []
    },
    {
      "cell_type": "code",
      "source": [
        "num_epochs = 100\n",
        "\n",
        "loss_train_hist = []\n",
        "loss_valid_hist = []\n",
        "\n",
        "#acc_train_hist = []\n",
        "#acc_valid_hist = []\n",
        "\n",
        "for epoch in range(num_epochs):\n",
        "  loss_train = AverageMeter()\n",
        "  #acc_train = Accuracy().to(device)\n",
        "  for i, (inputs, targets) in enumerate(train_loader):\n",
        "    inputs = inputs.to(device)\n",
        "    targets = targets.to(device)\n",
        "\n",
        "    outputs = model(inputs)\n",
        "\n",
        "    loss = loss_fn(outputs.squeeze(), targets)\n",
        "\n",
        "    loss.backward()\n",
        "    optimizer.step()\n",
        "    optimizer.zero_grad()\n",
        "\n",
        "    loss_train.update(loss.item())\n",
        "    #acc_train(outputs, targets)\n",
        "\n",
        "  with torch.no_grad():\n",
        "    loss_valid = AverageMeter()\n",
        "    #acc_valid = Accuracy().to(device)\n",
        "    for i, (inputs, targets) in enumerate(test_loader):\n",
        "      inputs = inputs.to(device)\n",
        "      targets = targets.to(device)\n",
        "\n",
        "      outputs = model(inputs)\n",
        "      loss = loss_fn(outputs.squeeze(), targets)\n",
        "\n",
        "      loss_valid.update(loss.item())\n",
        "    #  acc_valid(outputs, targets)\n",
        "\n",
        "  loss_train_hist.append(loss_train.avg)\n",
        "  loss_valid_hist.append(loss_valid.avg)\n",
        "\n",
        "  #acc_train_hist.append(acc_train.compute())\n",
        "  #acc_valid_hist.append(acc_valid.compute())\n",
        "\n",
        "  if epoch % 10 == 0:\n",
        "    print(f'Epoch {epoch}')\n",
        "    print(f'Train: Loss = {loss_train.avg:.4}')\n",
        "    print(f'Valid: Loss = {loss_valid.avg:.4}')\n",
        "    print()"
      ],
      "metadata": {
        "colab": {
          "base_uri": "https://localhost:8080/"
        },
        "id": "yuhGR5BXqouD",
        "outputId": "25b1df7b-a6ab-4d39-ef35-52ee91038616"
      },
      "execution_count": 89,
      "outputs": [
        {
          "output_type": "stream",
          "name": "stdout",
          "text": [
            "Epoch 0\n",
            "Train: Loss = 3.488\n",
            "Valid: Loss = 1.821\n",
            "\n",
            "Epoch 10\n",
            "Train: Loss = 0.6029\n",
            "Valid: Loss = 0.6062\n",
            "\n",
            "Epoch 20\n",
            "Train: Loss = 0.527\n",
            "Valid: Loss = 0.5302\n",
            "\n",
            "Epoch 30\n",
            "Train: Loss = 0.4857\n",
            "Valid: Loss = 0.4889\n",
            "\n",
            "Epoch 40\n",
            "Train: Loss = 0.4619\n",
            "Valid: Loss = 0.4636\n",
            "\n",
            "Epoch 50\n",
            "Train: Loss = 0.4469\n",
            "Valid: Loss = 0.4483\n",
            "\n",
            "Epoch 60\n",
            "Train: Loss = 0.4358\n",
            "Valid: Loss = 0.4371\n",
            "\n",
            "Epoch 70\n",
            "Train: Loss = 0.4266\n",
            "Valid: Loss = 0.4274\n",
            "\n",
            "Epoch 80\n",
            "Train: Loss = 0.4187\n",
            "Valid: Loss = 0.4196\n",
            "\n",
            "Epoch 90\n",
            "Train: Loss = 0.4115\n",
            "Valid: Loss = 0.412\n",
            "\n"
          ]
        }
      ]
    },
    {
      "cell_type": "markdown",
      "source": [
        "# **Learning Curve**"
      ],
      "metadata": {
        "id": "rGicZePAGmbZ"
      }
    },
    {
      "cell_type": "code",
      "source": [
        "fig, ax = plt.subplots(figsize=(10, 10))\n",
        "\n",
        "ax.plot(range(num_epochs), loss_train_hist, 'r-', label='Train')\n",
        "ax.plot(range(num_epochs), loss_valid_hist, 'b-', label='Test')\n",
        "\n",
        "ax.set_xlabel('Epoch')\n",
        "ax.set_ylabel('Loss')\n",
        "ax.grid(True)\n",
        "ax.legend()"
      ],
      "metadata": {
        "id": "2Ybx6muCGp74",
        "colab": {
          "base_uri": "https://localhost:8080/",
          "height": 867
        },
        "outputId": "d3f4bd2d-f513-492d-ca71-4e9cd50e7bb3"
      },
      "execution_count": 90,
      "outputs": [
        {
          "output_type": "execute_result",
          "data": {
            "text/plain": [
              "<matplotlib.legend.Legend at 0x796e05211e40>"
            ]
          },
          "metadata": {},
          "execution_count": 90
        },
        {
          "output_type": "display_data",
          "data": {
            "text/plain": [
              "<Figure size 1000x1000 with 1 Axes>"
            ],
            "image/png": "[encoded data removed]"
          },
          "metadata": {}
        }
      ]
    },
    {
      "cell_type": "markdown",
      "source": [
        "# **Prediction** Eval"
      ],
      "metadata": {
        "id": "akmGXzmPuwR4"
      }
    },
    {
      "cell_type": "code",
      "source": [
        "yp_total = []\n",
        "yt_total = []\n",
        "\n",
        "with torch.no_grad():\n",
        "  for x, y in test_loader:\n",
        "    yp = model(x)\n",
        "    yp_total.append(yp)\n",
        "    yt_total.append(y)"
      ],
      "metadata": {
        "id": "qITKqPFgzaM2"
      },
      "execution_count": 91,
      "outputs": []
    },
    {
      "cell_type": "code",
      "source": [
        "yp_total[0].shape"
      ],
      "metadata": {
        "colab": {
          "base_uri": "https://localhost:8080/"
        },
        "id": "PSd3HrfwzdnA",
        "outputId": "82f64235-e0f4-4962-cb58-443efdd0ac8f"
      },
      "execution_count": 94,
      "outputs": [
        {
          "output_type": "execute_result",
          "data": {
            "text/plain": [
              "torch.Size([256, 1])"
            ]
          },
          "metadata": {},
          "execution_count": 94
        }
      ]
    },
    {
      "cell_type": "code",
      "source": [
        "..."
      ],
      "metadata": {
        "id": "bDOuVejPzsMF"
      },
      "execution_count": null,
      "outputs": []
    },
    {
      "cell_type": "code",
      "source": [
        "yp_total = []\n",
        "yt_total = []\n",
        "\n",
        "with torch.no_grad():\n",
        "  for x, y in test_loader:\n",
        "    yp = model(x)\n",
        "    yp_total.append(yp.squeeze())\n",
        "    yt_total.append(y)"
      ],
      "metadata": {
        "id": "HqzOfa8dG_cb"
      },
      "execution_count": 95,
      "outputs": []
    },
    {
      "cell_type": "code",
      "source": [
        "yp_total[0].shape"
      ],
      "metadata": {
        "colab": {
          "base_uri": "https://localhost:8080/"
        },
        "id": "ZJ8fd-Nuzyrm",
        "outputId": "78f522f3-6279-4ffc-eb35-ce830dd6700e"
      },
      "execution_count": 101,
      "outputs": [
        {
          "output_type": "execute_result",
          "data": {
            "text/plain": [
              "torch.Size([256])"
            ]
          },
          "metadata": {},
          "execution_count": 101
        }
      ]
    },
    {
      "cell_type": "code",
      "source": [
        "len(test_loader)"
      ],
      "metadata": {
        "colab": {
          "base_uri": "https://localhost:8080/"
        },
        "id": "w0n_WA_h0Kc8",
        "outputId": "8850fba7-4084-45ea-d816-502bc0c55364"
      },
      "execution_count": 102,
      "outputs": [
        {
          "output_type": "execute_result",
          "data": {
            "text/plain": [
              "17"
            ]
          },
          "metadata": {},
          "execution_count": 102
        }
      ]
    },
    {
      "cell_type": "code",
      "source": [
        "yp_total = torch.cat(yp_total)\n",
        "yt_total = torch.cat(yt_total)"
      ],
      "metadata": {
        "id": "HyFuSnMxgGFl"
      },
      "execution_count": 103,
      "outputs": []
    },
    {
      "cell_type": "code",
      "source": [
        "yp_total.shape"
      ],
      "metadata": {
        "colab": {
          "base_uri": "https://localhost:8080/"
        },
        "id": "VJpUCcw30hZG",
        "outputId": "6150ddef-f5da-4eea-c005-b3a890ff46d3"
      },
      "execution_count": 105,
      "outputs": [
        {
          "output_type": "execute_result",
          "data": {
            "text/plain": [
              "torch.Size([4128])"
            ]
          },
          "metadata": {},
          "execution_count": 105
        }
      ]
    },
    {
      "cell_type": "code",
      "source": [
        "r2_score(yp_total, yt_total)"
      ],
      "metadata": {
        "colab": {
          "base_uri": "https://localhost:8080/"
        },
        "id": "pTDxFNJKgfwg",
        "outputId": "e8aa3938-49fb-4879-b73e-e3b2faa2da18"
      },
      "execution_count": 106,
      "outputs": [
        {
          "output_type": "execute_result",
          "data": {
            "text/plain": [
              "0.5357881637511317"
            ]
          },
          "metadata": {},
          "execution_count": 106
        }
      ]
    }
  ]
}